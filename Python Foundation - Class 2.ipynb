{
 "cells": [
  {
   "cell_type": "markdown",
   "metadata": {},
   "source": [
    "## Python Foundation: Class 2 topics\n",
    "<h3>\n",
    "1. Loops <br/><br/>\n",
    "2. Data Structures <br/><br/>\n",
    "3. User Defined Functions (UDFs)\n",
    "</h3>----------------------------------------------------------------------------------------------------------------------------------------------------------------------"
   ]
  },
  {
   "cell_type": "markdown",
   "metadata": {},
   "source": [
    "### Loops: Python supports two types of loops\n",
    "    - Conditional loop\n",
    "    - Ranged loop"
   ]
  },
  {
   "cell_type": "markdown",
   "metadata": {},
   "source": [
    "#### Conditional loop (while loop)\n",
    "- while loop iterates for the True condition/s and it comes out of the loop when given logical condition/s become False\n",
    "-  If the condition is true, the block of code under it is executed\n",
    "- Be careful while using a while loop, bcoz if no termination condition is provided; the loop will run infinitely\n"
   ]
  },
  {
   "cell_type": "code",
   "execution_count": 165,
   "metadata": {},
   "outputs": [],
   "source": [
    "x = 1\n",
    "while(x <= 10):\n",
    "    print(x)\n",
    "    x += 1"
   ]
  },
  {
   "cell_type": "markdown",
   "metadata": {},
   "source": [
    "#### Ranged loop (for loop)\n",
    "- For loops have fixed range in which they can iterate.\n",
    "\n",
    "**Syntax:**\n",
    "\n",
    "for x in [range]:\n",
    "\n",
    "    operations\n",
    "\n",
    "- In order to use for loops, we need some range and these ranges can be created using a range function"
   ]
  },
  {
   "cell_type": "code",
   "execution_count": 166,
   "metadata": {
    "collapsed": true
   },
   "outputs": [],
   "source": [
    "# range() function is used to generate the range of numbers \n",
    "# range() takes three arguments - range(start, end, inc)\n",
    "# It returns a \"list\" of numbers starting from start till end - 1 in steps of inc value\n",
    "# Default value of increment is 1\n",
    "\n",
    "x1 = range(0, 10)\n",
    "x2 = range(0, 10, 2) # third argument is for step size\n",
    "x3 = range(10, 0, -1)"
   ]
  },
  {
   "cell_type": "code",
   "execution_count": null,
   "metadata": {
    "collapsed": true
   },
   "outputs": [],
   "source": [
    "# for loop uses range function for itration\n",
    "for x in range(1, 11):\n",
    "    print (x)"
   ]
  },
  {
   "cell_type": "markdown",
   "metadata": {},
   "source": [
    "#### When we talk about any object; two things we need to answer\n",
    "1. What is the type of the data - Data Types\n",
    "2. How is the information stored - Data Structures"
   ]
  },
  {
   "cell_type": "markdown",
   "metadata": {},
   "source": [
    "### Data Structures\n",
    "A data structure is a collection of data values, the relationships among them, and the functions or operations that can be applied to the data.\n",
    "\n",
    "They can be classified into two types based on the content they can have:\n",
    "1. Homogeneous: All datapoints of same datatype\n",
    "2. Hetrogenous: All datapints in the data structure are not of same data type.\n",
    "\n",
    "#### All base data structures available in python are 1D and hetrogenous. Types of DS available in python:\n",
    "1. Tuple\n",
    "2. List\n",
    "3. Dictionary\n",
    "\n",
    "While discussing these data structures, we will focus on following:\n",
    "- How to Create\n",
    "- How to Access\n",
    "- Apply condition\n",
    "- Functions associated with them\n",
    "\n"
   ]
  },
  {
   "cell_type": "markdown",
   "metadata": {},
   "source": [
    "**Tuples: Created using () brackets or even without brackets**"
   ]
  },
  {
   "cell_type": "code",
   "execution_count": 1,
   "metadata": {},
   "outputs": [
    {
     "name": "stdout",
     "output_type": "stream",
     "text": [
      "(12, 23, 34, 45, 21, 89)\n"
     ]
    }
   ],
   "source": [
    "t1 = 12, 23, 34, 45, 21, 89\n",
    "print (t1)"
   ]
  },
  {
   "cell_type": "code",
   "execution_count": 2,
   "metadata": {},
   "outputs": [
    {
     "name": "stdout",
     "output_type": "stream",
     "text": [
      "(12, 23, 34, 45, 21, 89)\n"
     ]
    }
   ],
   "source": [
    "t2 = (12, 23, 34, 45, 21, 89)\n",
    "print(t2)"
   ]
  },
  {
   "cell_type": "markdown",
   "metadata": {},
   "source": [
    "**List: Created using [] brackets**"
   ]
  },
  {
   "cell_type": "code",
   "execution_count": 14,
   "metadata": {
    "collapsed": true
   },
   "outputs": [],
   "source": [
    "l1 = [12, 23, 34, 45, 21, 89]\n",
    "print(l1)"
   ]
  },
  {
   "cell_type": "markdown",
   "metadata": {},
   "source": [
    "**Both Tuple and List are accessed using [] brackets; where these square brackets will take one or more numbers as input**\n",
    "- These numbers are Indexes from range 0 till length - 1\n",
    "- colon : is used to create the range\n",
    "- We may use range function to generate the range of numbers\n",
    "- len() function gets the len of the Tuple or List\n",
    "- Type() function to get type of data structure"
   ]
  },
  {
   "cell_type": "code",
   "execution_count": null,
   "metadata": {
    "collapsed": true
   },
   "outputs": [],
   "source": [
    "l1[:]"
   ]
  },
  {
   "cell_type": "markdown",
   "metadata": {},
   "source": [
    "#### Get the values from the tuple/list for elements at even position"
   ]
  },
  {
   "cell_type": "code",
   "execution_count": null,
   "metadata": {},
   "outputs": [],
   "source": [
    "l1 = [12, 13, 134, 43, 65, 76, 34, 87, 98, 65, 42, 94, 50]\n",
    "l1[1:len(l1):2]"
   ]
  },
  {
   "cell_type": "code",
   "execution_count": null,
   "metadata": {},
   "outputs": [],
   "source": [
    "for x in range(0, len(l1)):\n",
    "    print (l1[x])"
   ]
  },
  {
   "cell_type": "markdown",
   "metadata": {},
   "source": [
    "#### Applying conditions on list or tuple"
   ]
  },
  {
   "cell_type": "code",
   "execution_count": 14,
   "metadata": {},
   "outputs": [],
   "source": [
    "l1 = [12, 13, 134, 43, 65, 76, 34, 87, 98, 65, 42, 94, 50]"
   ]
  },
  {
   "cell_type": "code",
   "execution_count": null,
   "metadata": {},
   "outputs": [],
   "source": [
    "for x in range(0, len(l1)):\n",
    "    if l1[x] > 50:\n",
    "        print (l1[x])"
   ]
  },
  {
   "cell_type": "code",
   "execution_count": null,
   "metadata": {},
   "outputs": [],
   "source": [
    "for x in l1:\n",
    "    if x > 50:\n",
    "        print (x)"
   ]
  },
  {
   "cell_type": "markdown",
   "metadata": {},
   "source": [
    "#### List Comprehensions"
   ]
  },
  {
   "cell_type": "code",
   "execution_count": 32,
   "metadata": {
    "collapsed": true
   },
   "outputs": [],
   "source": [
    "# get all elements in the list with some conditions and generate output in form of list\n",
    "res = [x for x in l1 if x > 30]"
   ]
  },
  {
   "cell_type": "markdown",
   "metadata": {},
   "source": [
    "#### Tuples are immuatable and Lists are mutable. *Apart from this; there is no other difference in two data structures.*\n",
    "- Values inside a list can be reassigned \n",
    "    **Valid: l1[2] = 99**\n",
    "- values in the tuple are fixed and can't be changed\n",
    "    **Invalid: t1[2] = 99**"
   ]
  },
  {
   "cell_type": "code",
   "execution_count": null,
   "metadata": {},
   "outputs": [],
   "source": [
    "# item reassihnment in tuples and lists\n",
    "l1[3] = 99\n",
    "t1[4] = 99"
   ]
  },
  {
   "cell_type": "markdown",
   "metadata": {},
   "source": [
    "#### Functions associated with tuples or list\n",
    "- dir(): Listing function (By default, displays everything that is present in current session)"
   ]
  },
  {
   "cell_type": "markdown",
   "metadata": {},
   "source": [
    "####  Functions of tuple object"
   ]
  },
  {
   "cell_type": "code",
   "execution_count": null,
   "metadata": {},
   "outputs": [],
   "source": [
    "print (dir(t1))"
   ]
  },
  {
   "cell_type": "code",
   "execution_count": 50,
   "metadata": {
    "collapsed": true
   },
   "outputs": [],
   "source": [
    "t1 = 12, 23, 34, 23, 21, 34"
   ]
  },
  {
   "cell_type": "code",
   "execution_count": 49,
   "metadata": {},
   "outputs": [],
   "source": [
    "count(t1)  # Invalid: Not corect way of accessing functions of the object"
   ]
  },
  {
   "cell_type": "code",
   "execution_count": 56,
   "metadata": {},
   "outputs": [],
   "source": [
    "# count function will count how many times a value appears in the tuple\n",
    "t1.count(23)"
   ]
  },
  {
   "cell_type": "code",
   "execution_count": null,
   "metadata": {
    "collapsed": true
   },
   "outputs": [],
   "source": [
    "# index function will return the index/position of first occurance of the given value\n",
    "t1.index(34)"
   ]
  },
  {
   "cell_type": "markdown",
   "metadata": {},
   "source": [
    "####  Functions of list object"
   ]
  },
  {
   "cell_type": "code",
   "execution_count": null,
   "metadata": {},
   "outputs": [],
   "source": [
    "print(dir(l1))"
   ]
  },
  {
   "cell_type": "markdown",
   "metadata": {},
   "source": [
    "- count: return number of occurrences of value << **count(value)**>>\n",
    "- index: return the index/position of first occurance of the given value << **index(value)** >>\n",
    "\n",
    "\n",
    "- append: append object to end << **append(value)** >>\n",
    "- insert: insert object before index << **index(pos, value)**>>\n",
    "- extend: extend list by appending elements from the iterable << **extend(iterable)** >>\n",
    "\n",
    "\n",
    "- pop: remove and return item at index (default last) << **pop()** >> or << **pop(pos)** >>\n",
    "- remove: remove first occurrence of value. << **remove(value)** >>\n",
    "\n",
    "\n",
    "- reverse: reverse the position of the values *IN PLACE*\n",
    "- sort: arrange the values in asc or desc << **sort(reverse = False)** >>"
   ]
  },
  {
   "cell_type": "markdown",
   "metadata": {
    "raw_mimetype": "text/html"
   },
   "source": [
    "#### To get help on python\n",
    "    1. Use help() function\n",
    "    2. use ?\n",
    "   "
   ]
  },
  {
   "cell_type": "markdown",
   "metadata": {},
   "source": [
    "**Dictionary: Created using {} brackets**"
   ]
  },
  {
   "cell_type": "code",
   "execution_count": 84,
   "metadata": {
    "collapsed": true
   },
   "outputs": [],
   "source": [
    "# Dictionaries have key value pairs\n",
    "# dict = {key1 : value1, key2 : value2,......., keyn : valuen}\n",
    "# Elements are stored in asc order of the keys\n",
    "\n",
    "dict = {\"Empid\": \"A001\", \"EName\": \"John Mathew\", \"Salary\": 50000, \"Email\": \"john@abc.com\"}"
   ]
  },
  {
   "cell_type": "markdown",
   "metadata": {},
   "source": [
    "#### Rules for dictionary DS\n",
    "1. Key should be unique.\n",
    "2. A key must be simple i.e. str/int/float\n",
    "3. A value can be ANYTHING!\n",
    "4. To access the values in dictionary, we can't use index or position values. \n",
    "5. Get the values from dict using the keys"
   ]
  },
  {
   "cell_type": "markdown",
   "metadata": {},
   "source": [
    "### Functions\n",
    "#### Set of instructions that can perform some set task and may or may not return a value - They are reffered by a name\n",
    "\n",
    "- **def** -> Keyword to create a UDF\n",
    "- **return** -> will provide the output from the function\n",
    "- **Arguments** -> Inputs given to a function. \n",
    "    * Positional \n",
    "    * Named\n",
    "- Function is available in currect session\n",
    "\n",
    "**Syntax:**\n",
    "\n",
    "def FunctionName():\n",
    "\n",
    "    Set of operations\n",
    "    .\n",
    "    return(value)\n",
    "    \n"
   ]
  },
  {
   "cell_type": "code",
   "execution_count": 86,
   "metadata": {
    "collapsed": true
   },
   "outputs": [],
   "source": [
    "def AddNo(x, y):\n",
    "    return(x + y)"
   ]
  },
  {
   "cell_type": "code",
   "execution_count": 88,
   "metadata": {},
   "outputs": [],
   "source": [
    "# Passing positional arguments - args\n",
    "AddNo(3, 5) "
   ]
  },
  {
   "cell_type": "code",
   "execution_count": 90,
   "metadata": {},
   "outputs": [],
   "source": [
    "# Passing Named arguments/key-word arguments - kwargs\n",
    "AddNo(y = 20, x = 30)"
   ]
  },
  {
   "cell_type": "code",
   "execution_count": 115,
   "metadata": {},
   "outputs": [],
   "source": [
    "# We can also give default values to the arguments in function defination\n",
    "def AddNo_Default(x = 0, y = 0):\n",
    "    return(x, y)"
   ]
  },
  {
   "cell_type": "markdown",
   "metadata": {},
   "source": [
    "#### Argument overloading in functions:\n",
    "- If we are not sure how many arguments we will pass to a function; we can use - args or kwargs instaed of giving argument names\n",
    "- *args will convert the values passed to a function into a tuple\n",
    "- **kwargs will convert values passed to a function into a dictionary (key-value pair)"
   ]
  },
  {
   "cell_type": "code",
   "execution_count": 162,
   "metadata": {
    "collapsed": true
   },
   "outputs": [],
   "source": [
    "# Only positional arguments accepted, no named arguments allowed\n",
    "def MyFunc(*args):\n",
    "    print (args)"
   ]
  },
  {
   "cell_type": "code",
   "execution_count": 160,
   "metadata": {
    "collapsed": true
   },
   "outputs": [],
   "source": [
    "# function for addition of n arguments\n",
    "def MyFunc1(*args):\n",
    "    Sum = 0\n",
    "    for i in args:\n",
    "        Sum += i\n",
    "    return (Sum)"
   ]
  },
  {
   "cell_type": "code",
   "execution_count": 1,
   "metadata": {
    "collapsed": true
   },
   "outputs": [],
   "source": [
    "# only named arguments accepted, no positional arguments allowed\n",
    "def Myfunc2(**kwargs):\n",
    "    print(kwargs)"
   ]
  }
 ],
 "metadata": {
  "celltoolbar": "Raw Cell Format",
  "kernelspec": {
   "display_name": "Python 3",
   "language": "python",
   "name": "python3"
  },
  "language_info": {
   "codemirror_mode": {
    "name": "ipython",
    "version": 3
   },
   "file_extension": ".py",
   "mimetype": "text/x-python",
   "name": "python",
   "nbconvert_exporter": "python",
   "pygments_lexer": "ipython3",
   "version": "3.7.3"
  }
 },
 "nbformat": 4,
 "nbformat_minor": 2
}
