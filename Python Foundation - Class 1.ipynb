{
 "cells": [
  {
   "cell_type": "markdown",
   "metadata": {},
   "source": [
    "### What is a python?\n",
    "1. Python is a high level, interpreted, object oriented Scripting language.\n",
    "\n",
    "2. Open Source\n",
    "\n",
    "3. We can use python to write simple scripts and same point in time we can use python to build large complex applications. e.g. Google is build on python.\n",
    "\n",
    "4. Very easy on syntax. Designed to be highly readable, uses english word freequently and has fewer syntactical constructs than other languages.\n",
    "\n",
    "5. Prerequisites for learning Python."
   ]
  },
  {
   "cell_type": "markdown",
   "metadata": {},
   "source": [
    "### Python Foundation: Class 1 topics\n",
    "1. GUI\n",
    "2. Syntax Rule\n",
    "3. Basic Components\n",
    "    - Operators\n",
    "    - Datatypes\n",
    "    - Conditional statements and\n",
    "    - Loops"
   ]
  },
  {
   "cell_type": "markdown",
   "metadata": {},
   "source": [
    "#### What is the type of the data - Data Types\n",
    "#### How is the information stored - Data Structures"
   ]
  },
  {
   "cell_type": "markdown",
   "metadata": {},
   "source": [
    "### Anaconda\n",
    "- Python 2.x/Python 3.x\n",
    "- Reporting Tool - Jupyter \n",
    "- IDE - Spyder\n",
    "- Libraries/Packages/APIs"
   ]
  },
  {
   "cell_type": "markdown",
   "metadata": {},
   "source": [
    "### Jupyter Notebook\n",
    "- Reporting Tool\n",
    "\n",
    "#### Step 1: Launch Jupyter\n",
    "- Open Anaconda Navigator >> Launch Jupyter Notebook for Python\n",
    "- Open Anaconda Prompt/or regular cmd promplt/Terminal >> type Jupyter notebook\n",
    "\n",
    "#### Step 2: Open Jupyter Notebook\n",
    "\n",
    "#### Step 3: Rename and saving a notebook\n",
    "- Saved as ipynb\n",
    "\n",
    "### Components of Jupyter Notebook\n",
    "1. Cells - Area where code/text/information can be written, processed and displayed \n",
    "\n",
    "    - 2 States: \n",
    "        - Select\n",
    "        - Edit\n",
    "    - 3 Modes:\n",
    "        - Code: Syntax correct python code\n",
    "        - Text: Write raw text/plain text (raw NBConvert)\n",
    "        - Markdown: Advanced Text Mode where we can write stylized text (HTML tags converted into Symbols)\n",
    "    - Shortcuts\n",
    "\n",
    "### Syntax Rules:\n",
    "1. Python is case sensitive\n",
    "2. Loosely/dynamically typed language\n",
    "3. [#] symbol in code mode is used for comment lines.\n",
    "4. Follow INC rules for naming (Identifier naming conventions)\n",
    "    - Purely alphanumeric\n",
    "    - No Symbols/special characters allowed except underscore.\n",
    "    - Names should start with characters or underscore.\n",
    "    - Reserved words/keywords should not be used (All keywords appear in green color)\n",
    "    \n",
    "### Operators:\n",
    "1. Assignment = \n",
    "2. Arithmatic / * + - // %\n",
    "3. Assignment + Arithmatic +=  -=  *=  /=  %=\n",
    "4. Relational > >= < <= == != \n",
    "5. Membership IN NOT IN\n",
    "6. Logical AND OR NOT\n"
   ]
  },
  {
   "cell_type": "markdown",
   "metadata": {},
   "source": [
    "### Data Types:\n",
    "\n",
    "- str\n",
    "- float\n",
    "- long\n",
    "- int (-2147483648 to +2147483648)\n",
    "- bool"
   ]
  },
  {
   "cell_type": "markdown",
   "metadata": {},
   "source": [
    "### Conditional Statement - IF"
   ]
  },
  {
   "cell_type": "code",
   "execution_count": null,
   "metadata": {},
   "outputs": [],
   "source": [
    "x = 10\n",
    "if (x == 0):\n",
    "    print(\"zero\")\n",
    "elif (x > 0):\n",
    "    print(\"positive\")\n",
    "else:\n",
    "    print(\"negative\")"
   ]
  },
  {
   "cell_type": "code",
   "execution_count": null,
   "metadata": {},
   "outputs": [],
   "source": [
    "# if(condtions, true, flase)\n",
    "\n",
    "\"positive\" if (x > 0) else \"negative\""
   ]
  },
  {
   "cell_type": "code",
   "execution_count": null,
   "metadata": {},
   "outputs": [],
   "source": [
    "x = 10\n",
    "\"zero\" if (x == 0) else \"positive\" if (x > 0) else \"negative\""
   ]
  },
  {
   "cell_type": "markdown",
   "metadata": {},
   "source": [
    "### Loops: Python supports two types of loops\n",
    "    - Conditional loops\n",
    "    - Ranged loops"
   ]
  },
  {
   "cell_type": "markdown",
   "metadata": {},
   "source": [
    "#### Conditional loop (while loop)\n",
    "- while loop iterates for the True condition/s and it comes out of the loop when given logical condition/s become False\n",
    "-  If the condition is true, the block of code under it is executed\n",
    "- Be careful while using a while loop, bcoz if no termination condition is provided; the loop will run infinitely"
   ]
  },
  {
   "cell_type": "code",
   "execution_count": null,
   "metadata": {},
   "outputs": [],
   "source": [
    "x = 1\n",
    "while(x <= 10):\n",
    "    print(x)\n",
    "    x += 1"
   ]
  },
  {
   "cell_type": "markdown",
   "metadata": {},
   "source": [
    "#### Ranged loop (for loop)\n",
    "- For loops have fixed range in which they can iterate.\n",
    "\n",
    "**Syntax:**\n",
    "\n",
    "for x in [range]:\n",
    "\n",
    "    operations\n",
    "\n",
    "- In order to use for loops, we need some range and these ranges can be created using a range function"
   ]
  },
  {
   "cell_type": "code",
   "execution_count": null,
   "metadata": {},
   "outputs": [],
   "source": [
    "# range() function is used to generate the range of numbers \n",
    "# range() takes three arguments - range(start, end, inc)\n",
    "# It returns a \"list\" of numbers starting from start till end - 1 in steps of inc value\n",
    "# Default value of increment is 1\n",
    "\n",
    "x1 = range(0, 10)\n",
    "x2 = range(0, 10, 2) # third argument is for step size\n",
    "x3 = range(10, 0, -1)"
   ]
  },
  {
   "cell_type": "code",
   "execution_count": null,
   "metadata": {},
   "outputs": [],
   "source": [
    "# for loop uses range function for itration\n",
    "for x in range(1, 11):\n",
    "    print (x)"
   ]
  }
 ],
 "metadata": {
  "kernelspec": {
   "display_name": "Python 3",
   "language": "python",
   "name": "python3"
  },
  "language_info": {
   "codemirror_mode": {
    "name": "ipython",
    "version": 3
   },
   "file_extension": ".py",
   "mimetype": "text/x-python",
   "name": "python",
   "nbconvert_exporter": "python",
   "pygments_lexer": "ipython3",
   "version": "3.7.3"
  }
 },
 "nbformat": 4,
 "nbformat_minor": 2
}
