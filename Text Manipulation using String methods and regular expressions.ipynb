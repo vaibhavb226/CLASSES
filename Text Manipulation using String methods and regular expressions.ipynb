{
 "cells": [
  {
   "cell_type": "markdown",
   "metadata": {},
   "source": [
    "## Text Manipulation using string methods and regular expressions"
   ]
  },
  {
   "cell_type": "markdown",
   "metadata": {},
   "source": [
    "## Dealing with String Data\n",
    "\n",
    "These include methods applied to string objects that \n",
    "* split a string by given delimiter - `.split()`\n",
    "* trim whitespace - `.strip()`\n",
    "* concatenate strings - `.join()`\n",
    "* detect substrings - `.find()` and `.index()`\n",
    "* count occurrences - `.count()`\n",
    "* find and replace - `.replace()`"
   ]
  },
  {
   "cell_type": "code",
   "execution_count": 13,
   "metadata": {},
   "outputs": [
    {
     "data": {
      "text/plain": [
       "'ready, set ,   go '"
      ]
     },
     "execution_count": 13,
     "metadata": {},
     "output_type": "execute_result"
    }
   ],
   "source": [
    "s = 'ready, set ,   go '\n",
    "s"
   ]
  },
  {
   "cell_type": "code",
   "execution_count": 14,
   "metadata": {},
   "outputs": [
    {
     "data": {
      "text/plain": [
       "['ready', ' set ', '   go ']"
      ]
     },
     "execution_count": 14,
     "metadata": {},
     "output_type": "execute_result"
    }
   ],
   "source": [
    "s.split(',')"
   ]
  },
  {
   "cell_type": "code",
   "execution_count": 15,
   "metadata": {},
   "outputs": [
    {
     "data": {
      "text/plain": [
       "['ready,', 'set', ',', '', '', 'go', '']"
      ]
     },
     "execution_count": 15,
     "metadata": {},
     "output_type": "execute_result"
    }
   ],
   "source": [
    "s.split(' ')"
   ]
  },
  {
   "cell_type": "code",
   "execution_count": 16,
   "metadata": {},
   "outputs": [
    {
     "data": {
      "text/plain": [
       "'ready_ set _   go '"
      ]
     },
     "execution_count": 16,
     "metadata": {},
     "output_type": "execute_result"
    }
   ],
   "source": [
    "'_'.join(s.split(','))"
   ]
  },
  {
   "cell_type": "code",
   "execution_count": null,
   "metadata": {
    "collapsed": true
   },
   "outputs": [],
   "source": [
    "# String Splitting\n",
    "'_'.join([x.strip() for x in s.split(',')])"
   ]
  },
  {
   "cell_type": "code",
   "execution_count": 19,
   "metadata": {},
   "outputs": [
    {
     "data": {
      "text/plain": [
       "['ready', 'set', 'go']"
      ]
     },
     "execution_count": 19,
     "metadata": {},
     "output_type": "execute_result"
    }
   ],
   "source": [
    "# Trimming whitespace\n",
    "pieces = [x.strip() for x in s.split(',')]\n",
    "pieces\n",
    "# Also see rstrip, lstrip"
   ]
  },
  {
   "cell_type": "code",
   "execution_count": 20,
   "metadata": {},
   "outputs": [
    {
     "data": {
      "text/plain": [
       "'a_#_b_#_c_#_d_#_e'"
      ]
     },
     "execution_count": 20,
     "metadata": {},
     "output_type": "execute_result"
    }
   ],
   "source": [
    "'_#_'.join(list('abcde'))"
   ]
  },
  {
   "cell_type": "code",
   "execution_count": 21,
   "metadata": {},
   "outputs": [
    {
     "name": "stdout",
     "output_type": "stream",
     "text": [
      "ready::set::go\n",
      "ready--set--go\n",
      "ready set go\n"
     ]
    }
   ],
   "source": [
    "# Concatenating Strings\n",
    "print '::'.join(pieces)\n",
    "print '--'.join(pieces)\n",
    "print ' '.join(pieces)"
   ]
  },
  {
   "cell_type": "code",
   "execution_count": 22,
   "metadata": {},
   "outputs": [
    {
     "name": "stdout",
     "output_type": "stream",
     "text": [
      "False\n",
      "True\n"
     ]
    }
   ],
   "source": [
    "# Does a Substring belong to a string\n",
    "print 'steady' in s\n",
    "print 'set' in s"
   ]
  },
  {
   "cell_type": "code",
   "execution_count": 23,
   "metadata": {},
   "outputs": [
    {
     "data": {
      "text/plain": [
       "15"
      ]
     },
     "execution_count": 23,
     "metadata": {},
     "output_type": "execute_result"
    }
   ],
   "source": [
    "# Locate a substring\n",
    "s.index('go')"
   ]
  },
  {
   "cell_type": "code",
   "execution_count": 24,
   "metadata": {},
   "outputs": [
    {
     "data": {
      "text/plain": [
       "'go'"
      ]
     },
     "execution_count": 24,
     "metadata": {},
     "output_type": "execute_result"
    }
   ],
   "source": [
    "s[15:17]"
   ]
  },
  {
   "cell_type": "code",
   "execution_count": 25,
   "metadata": {},
   "outputs": [
    {
     "data": {
      "text/plain": [
       "21"
      ]
     },
     "execution_count": 25,
     "metadata": {},
     "output_type": "execute_result"
    }
   ],
   "source": [
    "#find vs index\n",
    "sentence = 'the sun rises in the east'\n",
    "sentence.find('east')"
   ]
  },
  {
   "cell_type": "code",
   "execution_count": 26,
   "metadata": {},
   "outputs": [
    {
     "data": {
      "text/plain": [
       "21"
      ]
     },
     "execution_count": 26,
     "metadata": {},
     "output_type": "execute_result"
    }
   ],
   "source": [
    "sentence.index('east')"
   ]
  },
  {
   "cell_type": "code",
   "execution_count": 27,
   "metadata": {},
   "outputs": [
    {
     "name": "stdout",
     "output_type": "stream",
     "text": [
      "-1\n"
     ]
    }
   ],
   "source": [
    "print sentence.find('west')\n",
    "#print sentence.index('west') #it will throw an error"
   ]
  },
  {
   "cell_type": "code",
   "execution_count": 28,
   "metadata": {},
   "outputs": [
    {
     "data": {
      "text/plain": [
       "5"
      ]
     },
     "execution_count": 28,
     "metadata": {},
     "output_type": "execute_result"
    }
   ],
   "source": [
    "# Locate a substring\n",
    "s.find(',')# Count occurrences\n",
    "s.count(',')"
   ]
  },
  {
   "cell_type": "code",
   "execution_count": 29,
   "metadata": {},
   "outputs": [
    {
     "data": {
      "text/plain": [
       "2"
      ]
     },
     "execution_count": 29,
     "metadata": {},
     "output_type": "execute_result"
    }
   ],
   "source": [
    "# Count occurrences\n",
    "s.count(',')"
   ]
  },
  {
   "cell_type": "code",
   "execution_count": 30,
   "metadata": {},
   "outputs": [
    {
     "data": {
      "text/plain": [
       "True"
      ]
     },
     "execution_count": 30,
     "metadata": {},
     "output_type": "execute_result"
    }
   ],
   "source": [
    "sentence.endswith('east')"
   ]
  },
  {
   "cell_type": "code",
   "execution_count": 31,
   "metadata": {},
   "outputs": [
    {
     "name": "stdout",
     "output_type": "stream",
     "text": [
      "True\n",
      "True\n"
     ]
    }
   ],
   "source": [
    "s2 = 'the quick brown fox jumps over the lazy dog'\n",
    "s2.find('fox')\n",
    "\n",
    "print 'lazy' in s2\n",
    "\n",
    "print s2.endswith('dog')"
   ]
  },
  {
   "cell_type": "code",
   "execution_count": 32,
   "metadata": {},
   "outputs": [
    {
     "data": {
      "text/plain": [
       "True"
      ]
     },
     "execution_count": 32,
     "metadata": {},
     "output_type": "execute_result"
    }
   ],
   "source": [
    "s.startswith('ready')\n",
    "# similarly .endswith()"
   ]
  },
  {
   "cell_type": "code",
   "execution_count": 45,
   "metadata": {},
   "outputs": [],
   "source": [
    "# Data importing \n",
    "cust_demo = pd.read_csv(\"Cust_demo.csv\")"
   ]
  },
  {
   "cell_type": "code",
   "execution_count": 46,
   "metadata": {},
   "outputs": [
    {
     "data": {
      "text/plain": [
       "Index([u'ID', u'Location', u'Gender', u'age', u'Martial_Status',\n",
       "       u'NumberOfDependents', u'Own_House', u'No_Years_address'],\n",
       "      dtype='object')"
      ]
     },
     "execution_count": 46,
     "metadata": {},
     "output_type": "execute_result"
    }
   ],
   "source": [
    "cust_demo.columns"
   ]
  },
  {
   "cell_type": "code",
   "execution_count": 47,
   "metadata": {},
   "outputs": [
    {
     "data": {
      "text/plain": [
       "0         Gandhinagar,Gujarat\n",
       "1    Hyderabad,Andhra Pradesh\n",
       "2     Shimla,Himachal Pradesh\n",
       "3                 Srinagar,JK\n",
       "4              Imphal,Manipur\n",
       "Name: Location, dtype: object"
      ]
     },
     "execution_count": 47,
     "metadata": {},
     "output_type": "execute_result"
    }
   ],
   "source": [
    "cust_demo.Location.head(5)"
   ]
  },
  {
   "cell_type": "code",
   "execution_count": 48,
   "metadata": {
    "collapsed": true
   },
   "outputs": [],
   "source": [
    "cust_demo[['State', 'City']]=cust_demo['Location'].str.split(',', expand=True)"
   ]
  },
  {
   "cell_type": "code",
   "execution_count": 49,
   "metadata": {},
   "outputs": [
    {
     "data": {
      "text/html": [
       "<div>\n",
       "<style>\n",
       "    .dataframe thead tr:only-child th {\n",
       "        text-align: right;\n",
       "    }\n",
       "\n",
       "    .dataframe thead th {\n",
       "        text-align: left;\n",
       "    }\n",
       "\n",
       "    .dataframe tbody tr th {\n",
       "        vertical-align: top;\n",
       "    }\n",
       "</style>\n",
       "<table border=\"1\" class=\"dataframe\">\n",
       "  <thead>\n",
       "    <tr style=\"text-align: right;\">\n",
       "      <th></th>\n",
       "      <th>ID</th>\n",
       "      <th>Location</th>\n",
       "      <th>Gender</th>\n",
       "      <th>age</th>\n",
       "      <th>Martial_Status</th>\n",
       "      <th>NumberOfDependents</th>\n",
       "      <th>Own_House</th>\n",
       "      <th>No_Years_address</th>\n",
       "      <th>State</th>\n",
       "      <th>City</th>\n",
       "    </tr>\n",
       "  </thead>\n",
       "  <tbody>\n",
       "    <tr>\n",
       "      <th>0</th>\n",
       "      <td>4532</td>\n",
       "      <td>Gandhinagar,Gujarat</td>\n",
       "      <td>0</td>\n",
       "      <td>39</td>\n",
       "      <td>Single</td>\n",
       "      <td>1.0</td>\n",
       "      <td>1</td>\n",
       "      <td>3</td>\n",
       "      <td>Gandhinagar</td>\n",
       "      <td>Gujarat</td>\n",
       "    </tr>\n",
       "    <tr>\n",
       "      <th>1</th>\n",
       "      <td>148736</td>\n",
       "      <td>Hyderabad,Andhra Pradesh</td>\n",
       "      <td>0</td>\n",
       "      <td>52</td>\n",
       "      <td>Married</td>\n",
       "      <td>0.0</td>\n",
       "      <td>0</td>\n",
       "      <td>3</td>\n",
       "      <td>Hyderabad</td>\n",
       "      <td>Andhra Pradesh</td>\n",
       "    </tr>\n",
       "    <tr>\n",
       "      <th>2</th>\n",
       "      <td>95965</td>\n",
       "      <td>Shimla,Himachal Pradesh</td>\n",
       "      <td>0</td>\n",
       "      <td>62</td>\n",
       "      <td>Married</td>\n",
       "      <td>0.0</td>\n",
       "      <td>0</td>\n",
       "      <td>2</td>\n",
       "      <td>Shimla</td>\n",
       "      <td>Himachal Pradesh</td>\n",
       "    </tr>\n",
       "    <tr>\n",
       "      <th>3</th>\n",
       "      <td>61759</td>\n",
       "      <td>Srinagar,JK</td>\n",
       "      <td>0</td>\n",
       "      <td>42</td>\n",
       "      <td>Single</td>\n",
       "      <td>1.0</td>\n",
       "      <td>1</td>\n",
       "      <td>1</td>\n",
       "      <td>Srinagar</td>\n",
       "      <td>JK</td>\n",
       "    </tr>\n",
       "    <tr>\n",
       "      <th>4</th>\n",
       "      <td>49806</td>\n",
       "      <td>Imphal,Manipur</td>\n",
       "      <td>0</td>\n",
       "      <td>41</td>\n",
       "      <td>Single</td>\n",
       "      <td>1.0</td>\n",
       "      <td>0</td>\n",
       "      <td>3</td>\n",
       "      <td>Imphal</td>\n",
       "      <td>Manipur</td>\n",
       "    </tr>\n",
       "  </tbody>\n",
       "</table>\n",
       "</div>"
      ],
      "text/plain": [
       "       ID                  Location  Gender  age Martial_Status  \\\n",
       "0    4532       Gandhinagar,Gujarat       0   39         Single   \n",
       "1  148736  Hyderabad,Andhra Pradesh       0   52        Married   \n",
       "2   95965   Shimla,Himachal Pradesh       0   62        Married   \n",
       "3   61759               Srinagar,JK       0   42         Single   \n",
       "4   49806            Imphal,Manipur       0   41         Single   \n",
       "\n",
       "   NumberOfDependents  Own_House  No_Years_address        State  \\\n",
       "0                 1.0          1                 3  Gandhinagar   \n",
       "1                 0.0          0                 3    Hyderabad   \n",
       "2                 0.0          0                 2       Shimla   \n",
       "3                 1.0          1                 1     Srinagar   \n",
       "4                 1.0          0                 3       Imphal   \n",
       "\n",
       "               City  \n",
       "0           Gujarat  \n",
       "1    Andhra Pradesh  \n",
       "2  Himachal Pradesh  \n",
       "3                JK  \n",
       "4           Manipur  "
      ]
     },
     "execution_count": 49,
     "metadata": {},
     "output_type": "execute_result"
    }
   ],
   "source": [
    "cust_demo.head(5)"
   ]
  },
  {
   "cell_type": "markdown",
   "metadata": {},
   "source": [
    "## Regular Expressions\n",
    "\n",
    "A Regex is a sequence of characters that define a search pattern used in find-and-replace actions.\n",
    "\n",
    "Example: The regex\n",
    "* `\\s+` describes one or more whitespaces\n",
    "* `(?<=\\.) {2,}(?=[A-Z])` matches at least two spaces occurring after period (.) and before an upper case letter\n",
    "\n",
    "Note:\n",
    "* Before a regex is applied to a string, it must be _compiled_ to create a reusable regex object.\n",
    "* The object's methods can then be called on a string.\n",
    "* These include: \n",
    "    * **`split`**, \n",
    "    * **`findall`** (returns all matches), \n",
    "    * **`match`** (checks only the beginning of the string), \n",
    "    * **`search`** (returns the first occurrence)\n",
    "    * **`sub`** (returns a new string with occurrences of the pattern replaced with the supplied string)\n",
    "\n",
    "Syntax:\n",
    "1. `import re`\n",
    "2. `r_obj = re.compile('my-regex')`\n",
    "3. `r_obj.method(my-text)`"
   ]
  },
  {
   "cell_type": "code",
   "execution_count": 1,
   "metadata": {
    "collapsed": true
   },
   "outputs": [],
   "source": [
    "import re"
   ]
  },
  {
   "cell_type": "code",
   "execution_count": 2,
   "metadata": {},
   "outputs": [
    {
     "name": "stdout",
     "output_type": "stream",
     "text": [
      "Phone number identified +91 905-298-9892\n"
     ]
    }
   ],
   "source": [
    "# The phone number example\n",
    "# Aim is to identify if a text contains a phone number in the above pattern:\n",
    "\n",
    "phone = re.compile(r'\\+\\d\\d \\d\\d\\d-\\d\\d\\d-\\d\\d\\d\\d')\n",
    "phoneString1 = \"My phone number is +91 905-298-9892\"\n",
    "\n",
    "ps_1 = phone.search(phoneString1)\n",
    "print(\"Phone number identified \" + ps_1.group())"
   ]
  },
  {
   "cell_type": "code",
   "execution_count": 3,
   "metadata": {},
   "outputs": [
    {
     "name": "stdout",
     "output_type": "stream",
     "text": [
      "The country code is : +91 and the number is : 905-298-9892\n"
     ]
    }
   ],
   "source": [
    "# Aim is to identify the country code and number separately\n",
    "\n",
    "phone2 = re.compile(r'(\\+\\d\\d) (\\d\\d\\d-\\d\\d\\d-\\d\\d\\d\\d)')\n",
    "\n",
    "ps_2 = phone2.search(phoneString1)\n",
    "print(\"The country code is : \" + ps_2.group(1) + \" and the number is : \" + ps_2.group(2))"
   ]
  },
  {
   "cell_type": "code",
   "execution_count": 4,
   "metadata": {},
   "outputs": [
    {
     "name": "stdout",
     "output_type": "stream",
     "text": [
      "The country code is : +91\n",
      "The phone number is : 905-298-9892\n"
     ]
    }
   ],
   "source": [
    "# My way, The Python way\n",
    "# Use groups() to extract all the groups\n",
    "\n",
    "CountryCode, PhoneNumber = ps_2.groups()\n",
    "print(\"The country code is : \" + CountryCode)\n",
    "print(\"The phone number is : \" + PhoneNumber)"
   ]
  },
  {
   "cell_type": "code",
   "execution_count": 5,
   "metadata": {},
   "outputs": [
    {
     "name": "stdout",
     "output_type": "stream",
     "text": [
      "Queen\n",
      "MJ\n"
     ]
    }
   ],
   "source": [
    "#The pipe | to match multiple groups\n",
    "#  the regular expression r'Queen|MJ' will match either 'Queen' or 'MJ'.\n",
    "\n",
    "BandRegex = re.compile(r'Queen|MJ')\n",
    "\n",
    "BandSearch1 = BandRegex.search(\"Bohemian Rhapsody by Queen\")\n",
    "print BandSearch1.group()\n",
    "\n",
    "BandSearch2 = BandRegex.search(\"Black or White by MJ\")\n",
    "print BandSearch2.group()\n"
   ]
  },
  {
   "cell_type": "code",
   "execution_count": 6,
   "metadata": {},
   "outputs": [
    {
     "name": "stdout",
     "output_type": "stream",
     "text": [
      "Queen\n"
     ]
    }
   ],
   "source": [
    "# In case both are present, then group() will return the first occurrence of either of the patterns\n",
    "BandSearch3 = BandRegex.search(\"Queen and MJ songs are awesome!\")\n",
    "print BandSearch3.group()"
   ]
  },
  {
   "cell_type": "code",
   "execution_count": 7,
   "metadata": {},
   "outputs": [
    {
     "name": "stdout",
     "output_type": "stream",
     "text": [
      "Lamborghini Diablo\n",
      "Lamborghini Diablo\n",
      "('Diablo',)\n"
     ]
    }
   ],
   "source": [
    "# pipe can also match in groups\n",
    "\n",
    "LambRegex = re.compile(r'Lamborghini (Countach|Diablo|Murcielago|Gallardo|Aventedor|SestoElemento|)')\n",
    "\n",
    "Trivia1 = \"NFS1 featured Lamborghini Diablo\"\n",
    "Trivia2 = \"NFS Movie had Lamborghini SestoElemento\"\n",
    "Trivia3 = \"FnF was first featured a Koenigsegg CXX-R\"\n",
    "\n",
    "LambSearch1 = LambRegex.search(Trivia1)\n",
    "print LambSearch1.group()\n",
    "print LambSearch1.group(0)\n",
    "print LambSearch1.groups()\n"
   ]
  },
  {
   "cell_type": "code",
   "execution_count": 8,
   "metadata": {},
   "outputs": [
    {
     "name": "stdout",
     "output_type": "stream",
     "text": [
      "+91 905-298-9892\n",
      " 789-256-1234\n"
     ]
    }
   ],
   "source": [
    "#The ? character flags the group that precedes it as an optional part of the pattern.\n",
    "#? - either once or none at all\n",
    "\n",
    "# Optional Country code for a phone number\n",
    "phone2 = re.compile(r'(\\+\\d\\d)? (\\d\\d\\d-\\d\\d\\d-\\d\\d\\d\\d)')\n",
    "\n",
    "ps_2 = phone2.search(phoneString1)\n",
    "print ps_2.group()\n",
    "\n",
    "phoneString2 = \"The other number is 789-256-1234\"\n",
    "ps_3 = phone2.search(phoneString2)\n",
    "print ps_3.group()"
   ]
  },
  {
   "cell_type": "code",
   "execution_count": 9,
   "metadata": {},
   "outputs": [
    {
     "name": "stdout",
     "output_type": "stream",
     "text": [
      "Chairwoman\n",
      "chairman\n",
      "Chairwowowowowowoman\n"
     ]
    }
   ],
   "source": [
    "#The * character\n",
    "#The group that precedes the star can occur any number of times in the text.\n",
    "#* - any number of times or none at all\n",
    "\n",
    "reString = re.compile(r'[Cc]hair(wo)*man')\n",
    "\n",
    "string2 = \"SBI's Chairwoman is Mrs Arundhati Roy\"\n",
    "star1 = reString.search(string2)\n",
    "print star1.group()\n",
    "\n",
    "string3 = \"Vice President is ex-officio chairman of Rajya Sabha\"\n",
    "star2 = reString.search(string3)\n",
    "print star2.group()\n",
    "\n",
    "string4= \"Chairwowowowowowoman\"\n",
    "star3 = reString.search(string4)\n",
    "print star3.group()\n"
   ]
  },
  {
   "cell_type": "code",
   "execution_count": 10,
   "metadata": {},
   "outputs": [
    {
     "name": "stdout",
     "output_type": "stream",
     "text": [
      "Chairwoman\n",
      "True\n",
      "Chairwowowowowowoman\n"
     ]
    }
   ],
   "source": [
    "#The + character\n",
    "#The group that precedes the plus must occur at least once in the text.\n",
    "#+ - at least once, else no match!\n",
    "\n",
    "reString = re.compile(r'[Cc]hair(wo)+man')\n",
    "\n",
    "string2 = \"SBI's Chairwoman is Mrs Arundhati Roy\"\n",
    "plus1 = reString.search(string2)\n",
    "print plus1.group()\n",
    "\n",
    "string3 = \"Vice President is ex-officio chairman of Rajya Sabha\"\n",
    "plus2 = reString.search(string3)\n",
    "print plus2 == None\n",
    "\n",
    "string4= \"Chairwowowowowowoman\"\n",
    "plus3 = reString.search(string4)\n",
    "print plus3.group()"
   ]
  },
  {
   "cell_type": "code",
   "execution_count": 11,
   "metadata": {},
   "outputs": [
    {
     "name": "stdout",
     "output_type": "stream",
     "text": [
      "666\n",
      "True\n",
      "0124234432\n"
     ]
    }
   ],
   "source": [
    "#The use of curly braces to specify the counts!\n",
    "\n",
    "#{n} -> exactly n number of times\n",
    "\n",
    "#{n,} -> at least n number of times\n",
    "\n",
    "#{,m} -> upto m number of times\n",
    "\n",
    "#{n,m} -> at least n times and upto m times\n",
    "\n",
    "pat1 = re.compile(r'\\d{3}')\n",
    "num1 = \"666\"\n",
    "numMatch1 = pat1.match(num1)\n",
    "print numMatch1.group()\n",
    "\n",
    "\n",
    "pat2 = re.compile(r'\\d{3}')\n",
    "num2 = \"42\"\n",
    "numMatch2 = pat2.match(num2)\n",
    "print numMatch2 == None\n",
    "\n",
    "pat3 = re.compile(r'\\d{10,14}?')\n",
    "num3 = \"01242344325\"\n",
    "numMatch3 = pat3.match(num3)\n",
    "print numMatch3.group()"
   ]
  },
  {
   "cell_type": "code",
   "execution_count": 12,
   "metadata": {},
   "outputs": [
    {
     "name": "stdout",
     "output_type": "stream",
     "text": [
      "783-824-5336\n",
      "['783-824-5336', '987-555-1111']\n"
     ]
    }
   ],
   "source": [
    "### the findall() method will return the strings of every match in the searched string.\n",
    "\n",
    "\n",
    "phoneNumRegex = re.compile(r'\\d\\d\\d-\\d\\d\\d-\\d\\d\\d\\d')\n",
    "PhoneInfo = \"Cell: 783-824-5336 Work: 987-555-1111\"\n",
    "\n",
    "mo = phoneNumRegex.search(PhoneInfo)\n",
    "print mo.group()\n",
    "\n",
    "print phoneNumRegex.findall(PhoneInfo)"
   ]
  },
  {
   "cell_type": "markdown",
   "metadata": {},
   "source": [
    "## USE Case"
   ]
  },
  {
   "cell_type": "code",
   "execution_count": 35,
   "metadata": {
    "collapsed": true
   },
   "outputs": [],
   "source": [
    "import pandas as pd"
   ]
  },
  {
   "cell_type": "code",
   "execution_count": 36,
   "metadata": {},
   "outputs": [
    {
     "data": {
      "text/html": [
       "<div>\n",
       "<style>\n",
       "    .dataframe thead tr:only-child th {\n",
       "        text-align: right;\n",
       "    }\n",
       "\n",
       "    .dataframe thead th {\n",
       "        text-align: left;\n",
       "    }\n",
       "\n",
       "    .dataframe tbody tr th {\n",
       "        vertical-align: top;\n",
       "    }\n",
       "</style>\n",
       "<table border=\"1\" class=\"dataframe\">\n",
       "  <thead>\n",
       "    <tr style=\"text-align: right;\">\n",
       "      <th></th>\n",
       "      <th>raw</th>\n",
       "    </tr>\n",
       "  </thead>\n",
       "  <tbody>\n",
       "    <tr>\n",
       "      <th>0</th>\n",
       "      <td>Arizona 1 2014-12-23       3242.0</td>\n",
       "    </tr>\n",
       "    <tr>\n",
       "      <th>1</th>\n",
       "      <td>Iowa 1 2010-02-23       3453.7</td>\n",
       "    </tr>\n",
       "    <tr>\n",
       "      <th>2</th>\n",
       "      <td>Oregon 0 2014-06-20       2123.0</td>\n",
       "    </tr>\n",
       "    <tr>\n",
       "      <th>3</th>\n",
       "      <td>Maryland 0 2014-03-14       1123.6</td>\n",
       "    </tr>\n",
       "    <tr>\n",
       "      <th>4</th>\n",
       "      <td>Florida 1 2013-01-15       2134.0</td>\n",
       "    </tr>\n",
       "    <tr>\n",
       "      <th>5</th>\n",
       "      <td>Georgia 0 2012-07-14       2345.6</td>\n",
       "    </tr>\n",
       "  </tbody>\n",
       "</table>\n",
       "</div>"
      ],
      "text/plain": [
       "                                  raw\n",
       "0   Arizona 1 2014-12-23       3242.0\n",
       "1      Iowa 1 2010-02-23       3453.7\n",
       "2    Oregon 0 2014-06-20       2123.0\n",
       "3  Maryland 0 2014-03-14       1123.6\n",
       "4   Florida 1 2013-01-15       2134.0\n",
       "5   Georgia 0 2012-07-14       2345.6"
      ]
     },
     "execution_count": 36,
     "metadata": {},
     "output_type": "execute_result"
    }
   ],
   "source": [
    "# Create a dataframe with a single column of strings\n",
    "data = {'raw': ['Arizona 1 2014-12-23       3242.0',\n",
    "                'Iowa 1 2010-02-23       3453.7',\n",
    "                'Oregon 0 2014-06-20       2123.0',\n",
    "                'Maryland 0 2014-03-14       1123.6',\n",
    "                'Florida 1 2013-01-15       2134.0',\n",
    "                'Georgia 0 2012-07-14       2345.6']}\n",
    "df = pd.DataFrame(data, columns = ['raw'])\n",
    "df"
   ]
  },
  {
   "cell_type": "markdown",
   "metadata": {},
   "source": [
    "### Objective is to split the above raw field into multiple columns"
   ]
  },
  {
   "cell_type": "code",
   "execution_count": 37,
   "metadata": {},
   "outputs": [
    {
     "data": {
      "text/plain": [
       "0    True\n",
       "1    True\n",
       "2    True\n",
       "3    True\n",
       "4    True\n",
       "5    True\n",
       "Name: raw, dtype: bool"
      ]
     },
     "execution_count": 37,
     "metadata": {},
     "output_type": "execute_result"
    }
   ],
   "source": [
    "df['raw'].str.contains('......-..-...',regex=True)"
   ]
  },
  {
   "cell_type": "code",
   "execution_count": 38,
   "metadata": {},
   "outputs": [
    {
     "data": {
      "text/plain": [
       "0    True\n",
       "1    True\n",
       "2    True\n",
       "3    True\n",
       "4    True\n",
       "5    True\n",
       "Name: raw, dtype: bool"
      ]
     },
     "execution_count": 38,
     "metadata": {},
     "output_type": "execute_result"
    }
   ],
   "source": [
    "# Which rows of df['raw'] contain 'xxxx-xx-xx'?\n",
    "df['raw'].str.contains('....-..-..', regex=True)"
   ]
  },
  {
   "cell_type": "code",
   "execution_count": 39,
   "metadata": {},
   "outputs": [
    {
     "data": {
      "text/html": [
       "<div>\n",
       "<style>\n",
       "    .dataframe thead tr:only-child th {\n",
       "        text-align: right;\n",
       "    }\n",
       "\n",
       "    .dataframe thead th {\n",
       "        text-align: left;\n",
       "    }\n",
       "\n",
       "    .dataframe tbody tr th {\n",
       "        vertical-align: top;\n",
       "    }\n",
       "</style>\n",
       "<table border=\"1\" class=\"dataframe\">\n",
       "  <thead>\n",
       "    <tr style=\"text-align: right;\">\n",
       "      <th></th>\n",
       "      <th>raw</th>\n",
       "      <th>date</th>\n",
       "    </tr>\n",
       "  </thead>\n",
       "  <tbody>\n",
       "    <tr>\n",
       "      <th>0</th>\n",
       "      <td>Arizona 1 2014-12-23       3242.0</td>\n",
       "      <td>2014-12-23</td>\n",
       "    </tr>\n",
       "    <tr>\n",
       "      <th>1</th>\n",
       "      <td>Iowa 1 2010-02-23       3453.7</td>\n",
       "      <td>2010-02-23</td>\n",
       "    </tr>\n",
       "    <tr>\n",
       "      <th>2</th>\n",
       "      <td>Oregon 0 2014-06-20       2123.0</td>\n",
       "      <td>2014-06-20</td>\n",
       "    </tr>\n",
       "    <tr>\n",
       "      <th>3</th>\n",
       "      <td>Maryland 0 2014-03-14       1123.6</td>\n",
       "      <td>2014-03-14</td>\n",
       "    </tr>\n",
       "    <tr>\n",
       "      <th>4</th>\n",
       "      <td>Florida 1 2013-01-15       2134.0</td>\n",
       "      <td>2013-01-15</td>\n",
       "    </tr>\n",
       "    <tr>\n",
       "      <th>5</th>\n",
       "      <td>Georgia 0 2012-07-14       2345.6</td>\n",
       "      <td>2012-07-14</td>\n",
       "    </tr>\n",
       "  </tbody>\n",
       "</table>\n",
       "</div>"
      ],
      "text/plain": [
       "                                  raw        date\n",
       "0   Arizona 1 2014-12-23       3242.0  2014-12-23\n",
       "1      Iowa 1 2010-02-23       3453.7  2010-02-23\n",
       "2    Oregon 0 2014-06-20       2123.0  2014-06-20\n",
       "3  Maryland 0 2014-03-14       1123.6  2014-03-14\n",
       "4   Florida 1 2013-01-15       2134.0  2013-01-15\n",
       "5   Georgia 0 2012-07-14       2345.6  2012-07-14"
      ]
     },
     "execution_count": 39,
     "metadata": {},
     "output_type": "execute_result"
    }
   ],
   "source": [
    "# In the column 'raw', extract xxxx-xx-xx in the strings\n",
    "df['date'] = df['raw'].str.extract('(....-..-..)', expand=True)\n",
    "df"
   ]
  },
  {
   "cell_type": "code",
   "execution_count": 40,
   "metadata": {},
   "outputs": [
    {
     "data": {
      "text/html": [
       "<div>\n",
       "<style>\n",
       "    .dataframe thead tr:only-child th {\n",
       "        text-align: right;\n",
       "    }\n",
       "\n",
       "    .dataframe thead th {\n",
       "        text-align: left;\n",
       "    }\n",
       "\n",
       "    .dataframe tbody tr th {\n",
       "        vertical-align: top;\n",
       "    }\n",
       "</style>\n",
       "<table border=\"1\" class=\"dataframe\">\n",
       "  <thead>\n",
       "    <tr style=\"text-align: right;\">\n",
       "      <th></th>\n",
       "      <th>raw</th>\n",
       "      <th>date</th>\n",
       "      <th>female</th>\n",
       "    </tr>\n",
       "  </thead>\n",
       "  <tbody>\n",
       "    <tr>\n",
       "      <th>0</th>\n",
       "      <td>Arizona 1 2014-12-23       3242.0</td>\n",
       "      <td>2014-12-23</td>\n",
       "      <td>1</td>\n",
       "    </tr>\n",
       "    <tr>\n",
       "      <th>1</th>\n",
       "      <td>Iowa 1 2010-02-23       3453.7</td>\n",
       "      <td>2010-02-23</td>\n",
       "      <td>1</td>\n",
       "    </tr>\n",
       "    <tr>\n",
       "      <th>2</th>\n",
       "      <td>Oregon 0 2014-06-20       2123.0</td>\n",
       "      <td>2014-06-20</td>\n",
       "      <td>0</td>\n",
       "    </tr>\n",
       "    <tr>\n",
       "      <th>3</th>\n",
       "      <td>Maryland 0 2014-03-14       1123.6</td>\n",
       "      <td>2014-03-14</td>\n",
       "      <td>0</td>\n",
       "    </tr>\n",
       "    <tr>\n",
       "      <th>4</th>\n",
       "      <td>Florida 1 2013-01-15       2134.0</td>\n",
       "      <td>2013-01-15</td>\n",
       "      <td>1</td>\n",
       "    </tr>\n",
       "    <tr>\n",
       "      <th>5</th>\n",
       "      <td>Georgia 0 2012-07-14       2345.6</td>\n",
       "      <td>2012-07-14</td>\n",
       "      <td>0</td>\n",
       "    </tr>\n",
       "  </tbody>\n",
       "</table>\n",
       "</div>"
      ],
      "text/plain": [
       "                                  raw        date female\n",
       "0   Arizona 1 2014-12-23       3242.0  2014-12-23      1\n",
       "1      Iowa 1 2010-02-23       3453.7  2010-02-23      1\n",
       "2    Oregon 0 2014-06-20       2123.0  2014-06-20      0\n",
       "3  Maryland 0 2014-03-14       1123.6  2014-03-14      0\n",
       "4   Florida 1 2013-01-15       2134.0  2013-01-15      1\n",
       "5   Georgia 0 2012-07-14       2345.6  2012-07-14      0"
      ]
     },
     "execution_count": 40,
     "metadata": {},
     "output_type": "execute_result"
    }
   ],
   "source": [
    "# In the column 'raw', extract single digit in the strings\n",
    "df['female'] = df['raw'].str.extract('(\\d)', expand=True)\n",
    "df"
   ]
  },
  {
   "cell_type": "code",
   "execution_count": 41,
   "metadata": {},
   "outputs": [
    {
     "data": {
      "text/html": [
       "<div>\n",
       "<style>\n",
       "    .dataframe thead tr:only-child th {\n",
       "        text-align: right;\n",
       "    }\n",
       "\n",
       "    .dataframe thead th {\n",
       "        text-align: left;\n",
       "    }\n",
       "\n",
       "    .dataframe tbody tr th {\n",
       "        vertical-align: top;\n",
       "    }\n",
       "</style>\n",
       "<table border=\"1\" class=\"dataframe\">\n",
       "  <thead>\n",
       "    <tr style=\"text-align: right;\">\n",
       "      <th></th>\n",
       "      <th>raw</th>\n",
       "      <th>date</th>\n",
       "      <th>female</th>\n",
       "      <th>score</th>\n",
       "    </tr>\n",
       "  </thead>\n",
       "  <tbody>\n",
       "    <tr>\n",
       "      <th>0</th>\n",
       "      <td>Arizona 1 2014-12-23       3242.0</td>\n",
       "      <td>2014-12-23</td>\n",
       "      <td>1</td>\n",
       "      <td>3242.0</td>\n",
       "    </tr>\n",
       "    <tr>\n",
       "      <th>1</th>\n",
       "      <td>Iowa 1 2010-02-23       3453.7</td>\n",
       "      <td>2010-02-23</td>\n",
       "      <td>1</td>\n",
       "      <td>3453.7</td>\n",
       "    </tr>\n",
       "    <tr>\n",
       "      <th>2</th>\n",
       "      <td>Oregon 0 2014-06-20       2123.0</td>\n",
       "      <td>2014-06-20</td>\n",
       "      <td>0</td>\n",
       "      <td>2123.0</td>\n",
       "    </tr>\n",
       "    <tr>\n",
       "      <th>3</th>\n",
       "      <td>Maryland 0 2014-03-14       1123.6</td>\n",
       "      <td>2014-03-14</td>\n",
       "      <td>0</td>\n",
       "      <td>1123.6</td>\n",
       "    </tr>\n",
       "    <tr>\n",
       "      <th>4</th>\n",
       "      <td>Florida 1 2013-01-15       2134.0</td>\n",
       "      <td>2013-01-15</td>\n",
       "      <td>1</td>\n",
       "      <td>2134.0</td>\n",
       "    </tr>\n",
       "    <tr>\n",
       "      <th>5</th>\n",
       "      <td>Georgia 0 2012-07-14       2345.6</td>\n",
       "      <td>2012-07-14</td>\n",
       "      <td>0</td>\n",
       "      <td>2345.6</td>\n",
       "    </tr>\n",
       "  </tbody>\n",
       "</table>\n",
       "</div>"
      ],
      "text/plain": [
       "                                  raw        date female   score\n",
       "0   Arizona 1 2014-12-23       3242.0  2014-12-23      1  3242.0\n",
       "1      Iowa 1 2010-02-23       3453.7  2010-02-23      1  3453.7\n",
       "2    Oregon 0 2014-06-20       2123.0  2014-06-20      0  2123.0\n",
       "3  Maryland 0 2014-03-14       1123.6  2014-03-14      0  1123.6\n",
       "4   Florida 1 2013-01-15       2134.0  2013-01-15      1  2134.0\n",
       "5   Georgia 0 2012-07-14       2345.6  2012-07-14      0  2345.6"
      ]
     },
     "execution_count": 41,
     "metadata": {},
     "output_type": "execute_result"
    }
   ],
   "source": [
    "# In the column 'raw', extract ####.## in the strings\n",
    "df['score'] = df['raw'].str.extract('(\\d\\d\\d\\d\\.\\d)', expand=True)\n",
    "df"
   ]
  },
  {
   "cell_type": "code",
   "execution_count": 42,
   "metadata": {},
   "outputs": [
    {
     "data": {
      "text/html": [
       "<div>\n",
       "<style>\n",
       "    .dataframe thead tr:only-child th {\n",
       "        text-align: right;\n",
       "    }\n",
       "\n",
       "    .dataframe thead th {\n",
       "        text-align: left;\n",
       "    }\n",
       "\n",
       "    .dataframe tbody tr th {\n",
       "        vertical-align: top;\n",
       "    }\n",
       "</style>\n",
       "<table border=\"1\" class=\"dataframe\">\n",
       "  <thead>\n",
       "    <tr style=\"text-align: right;\">\n",
       "      <th></th>\n",
       "      <th>raw</th>\n",
       "      <th>date</th>\n",
       "      <th>female</th>\n",
       "      <th>score</th>\n",
       "      <th>state</th>\n",
       "    </tr>\n",
       "  </thead>\n",
       "  <tbody>\n",
       "    <tr>\n",
       "      <th>0</th>\n",
       "      <td>Arizona 1 2014-12-23       3242.0</td>\n",
       "      <td>2014-12-23</td>\n",
       "      <td>1</td>\n",
       "      <td>3242.0</td>\n",
       "      <td>Arizona</td>\n",
       "    </tr>\n",
       "    <tr>\n",
       "      <th>1</th>\n",
       "      <td>Iowa 1 2010-02-23       3453.7</td>\n",
       "      <td>2010-02-23</td>\n",
       "      <td>1</td>\n",
       "      <td>3453.7</td>\n",
       "      <td>Iowa</td>\n",
       "    </tr>\n",
       "    <tr>\n",
       "      <th>2</th>\n",
       "      <td>Oregon 0 2014-06-20       2123.0</td>\n",
       "      <td>2014-06-20</td>\n",
       "      <td>0</td>\n",
       "      <td>2123.0</td>\n",
       "      <td>Oregon</td>\n",
       "    </tr>\n",
       "    <tr>\n",
       "      <th>3</th>\n",
       "      <td>Maryland 0 2014-03-14       1123.6</td>\n",
       "      <td>2014-03-14</td>\n",
       "      <td>0</td>\n",
       "      <td>1123.6</td>\n",
       "      <td>Maryland</td>\n",
       "    </tr>\n",
       "    <tr>\n",
       "      <th>4</th>\n",
       "      <td>Florida 1 2013-01-15       2134.0</td>\n",
       "      <td>2013-01-15</td>\n",
       "      <td>1</td>\n",
       "      <td>2134.0</td>\n",
       "      <td>Florida</td>\n",
       "    </tr>\n",
       "    <tr>\n",
       "      <th>5</th>\n",
       "      <td>Georgia 0 2012-07-14       2345.6</td>\n",
       "      <td>2012-07-14</td>\n",
       "      <td>0</td>\n",
       "      <td>2345.6</td>\n",
       "      <td>Georgia</td>\n",
       "    </tr>\n",
       "  </tbody>\n",
       "</table>\n",
       "</div>"
      ],
      "text/plain": [
       "                                  raw        date female   score     state\n",
       "0   Arizona 1 2014-12-23       3242.0  2014-12-23      1  3242.0   Arizona\n",
       "1      Iowa 1 2010-02-23       3453.7  2010-02-23      1  3453.7      Iowa\n",
       "2    Oregon 0 2014-06-20       2123.0  2014-06-20      0  2123.0    Oregon\n",
       "3  Maryland 0 2014-03-14       1123.6  2014-03-14      0  1123.6  Maryland\n",
       "4   Florida 1 2013-01-15       2134.0  2013-01-15      1  2134.0   Florida\n",
       "5   Georgia 0 2012-07-14       2345.6  2012-07-14      0  2345.6   Georgia"
      ]
     },
     "execution_count": 42,
     "metadata": {},
     "output_type": "execute_result"
    }
   ],
   "source": [
    "# In the column 'raw', extract the word in the strings\n",
    "df['state'] = df['raw'].str.extract('([A-Z]\\w{0,})', expand=True)\n",
    "df"
   ]
  },
  {
   "cell_type": "code",
   "execution_count": 43,
   "metadata": {},
   "outputs": [
    {
     "data": {
      "text/html": [
       "<div>\n",
       "<style>\n",
       "    .dataframe thead tr:only-child th {\n",
       "        text-align: right;\n",
       "    }\n",
       "\n",
       "    .dataframe thead th {\n",
       "        text-align: left;\n",
       "    }\n",
       "\n",
       "    .dataframe tbody tr th {\n",
       "        vertical-align: top;\n",
       "    }\n",
       "</style>\n",
       "<table border=\"1\" class=\"dataframe\">\n",
       "  <thead>\n",
       "    <tr style=\"text-align: right;\">\n",
       "      <th></th>\n",
       "      <th>raw</th>\n",
       "      <th>date</th>\n",
       "      <th>female</th>\n",
       "      <th>score</th>\n",
       "      <th>state</th>\n",
       "    </tr>\n",
       "  </thead>\n",
       "  <tbody>\n",
       "    <tr>\n",
       "      <th>0</th>\n",
       "      <td>Arizona 1 2014-12-23       3242.0</td>\n",
       "      <td>2014-12-23</td>\n",
       "      <td>1</td>\n",
       "      <td>3242.0</td>\n",
       "      <td>Arizona</td>\n",
       "    </tr>\n",
       "    <tr>\n",
       "      <th>1</th>\n",
       "      <td>Iowa 1 2010-02-23       3453.7</td>\n",
       "      <td>2010-02-23</td>\n",
       "      <td>1</td>\n",
       "      <td>3453.7</td>\n",
       "      <td>Iowa</td>\n",
       "    </tr>\n",
       "    <tr>\n",
       "      <th>2</th>\n",
       "      <td>Oregon 0 2014-06-20       2123.0</td>\n",
       "      <td>2014-06-20</td>\n",
       "      <td>0</td>\n",
       "      <td>2123.0</td>\n",
       "      <td>Oregon</td>\n",
       "    </tr>\n",
       "    <tr>\n",
       "      <th>3</th>\n",
       "      <td>Maryland 0 2014-03-14       1123.6</td>\n",
       "      <td>2014-03-14</td>\n",
       "      <td>0</td>\n",
       "      <td>1123.6</td>\n",
       "      <td>Maryland</td>\n",
       "    </tr>\n",
       "    <tr>\n",
       "      <th>4</th>\n",
       "      <td>Florida 1 2013-01-15       2134.0</td>\n",
       "      <td>2013-01-15</td>\n",
       "      <td>1</td>\n",
       "      <td>2134.0</td>\n",
       "      <td>Florida</td>\n",
       "    </tr>\n",
       "    <tr>\n",
       "      <th>5</th>\n",
       "      <td>Georgia 0 2012-07-14       2345.6</td>\n",
       "      <td>2012-07-14</td>\n",
       "      <td>0</td>\n",
       "      <td>2345.6</td>\n",
       "      <td>Georgia</td>\n",
       "    </tr>\n",
       "  </tbody>\n",
       "</table>\n",
       "</div>"
      ],
      "text/plain": [
       "                                  raw        date female   score     state\n",
       "0   Arizona 1 2014-12-23       3242.0  2014-12-23      1  3242.0   Arizona\n",
       "1      Iowa 1 2010-02-23       3453.7  2010-02-23      1  3453.7      Iowa\n",
       "2    Oregon 0 2014-06-20       2123.0  2014-06-20      0  2123.0    Oregon\n",
       "3  Maryland 0 2014-03-14       1123.6  2014-03-14      0  1123.6  Maryland\n",
       "4   Florida 1 2013-01-15       2134.0  2013-01-15      1  2134.0   Florida\n",
       "5   Georgia 0 2012-07-14       2345.6  2012-07-14      0  2345.6   Georgia"
      ]
     },
     "execution_count": 43,
     "metadata": {},
     "output_type": "execute_result"
    }
   ],
   "source": [
    "df"
   ]
  },
  {
   "cell_type": "code",
   "execution_count": null,
   "metadata": {
    "collapsed": true
   },
   "outputs": [],
   "source": []
  }
 ],
 "metadata": {
  "kernelspec": {
   "display_name": "Python [default]",
   "language": "python",
   "name": "python2"
  },
  "language_info": {
   "codemirror_mode": {
    "name": "ipython",
    "version": 2
   },
   "file_extension": ".py",
   "mimetype": "text/x-python",
   "name": "python",
   "nbconvert_exporter": "python",
   "pygments_lexer": "ipython2",
   "version": "2.7.13"
  }
 },
 "nbformat": 4,
 "nbformat_minor": 2
}
