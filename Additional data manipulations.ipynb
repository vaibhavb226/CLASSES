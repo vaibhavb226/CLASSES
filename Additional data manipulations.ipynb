{
 "cells": [
  {
   "cell_type": "code",
   "execution_count": 19,
   "metadata": {
    "collapsed": false
   },
   "outputs": [
    {
     "data": {
      "text/plain": [
       "datetime.datetime(2005, 6, 1, 13, 33)"
      ]
     },
     "execution_count": 19,
     "metadata": {},
     "output_type": "execute_result"
    }
   ],
   "source": [
    "from datetime import datetime\n",
    "\n",
    "datetime_object = datetime.strptime('Jun 1 2005  1:33PM', '%b %d %Y %I:%M%p')\n",
    "datetime_object"
   ]
  },
  {
   "cell_type": "code",
   "execution_count": 33,
   "metadata": {
    "collapsed": false
   },
   "outputs": [
    {
     "name": "stdout",
     "output_type": "stream",
     "text": [
      "   ID        DOB\n",
      "0   1  20-Aug-12\n",
      "1   2  27-Feb-14\n",
      "2   3  10-Mar-16\n",
      "3   4  20-Aug-12\n",
      "4   5  27-Feb-14\n",
      "<class 'pandas.core.frame.DataFrame'>\n",
      "RangeIndex: 9 entries, 0 to 8\n",
      "Data columns (total 2 columns):\n",
      "ID     9 non-null int64\n",
      "DOB    9 non-null object\n",
      "dtypes: int64(1), object(1)\n",
      "memory usage: 216.0+ bytes\n",
      "None\n"
     ]
    }
   ],
   "source": [
    "cust=pd.read_csv('cust.csv')\n",
    "print cust.head()\n",
    "print cust.info()"
   ]
  },
  {
   "cell_type": "code",
   "execution_count": 34,
   "metadata": {
    "collapsed": false
   },
   "outputs": [
    {
     "name": "stdout",
     "output_type": "stream",
     "text": [
      "   ID        DOB    DOB_new\n",
      "0   1  20-Aug-12 2012-08-20\n",
      "1   2  27-Feb-14 2014-02-27\n",
      "2   3  10-Mar-16 2016-03-10\n",
      "3   4  20-Aug-12 2012-08-20\n",
      "4   5  27-Feb-14 2014-02-27\n",
      "<class 'pandas.core.frame.DataFrame'>\n",
      "RangeIndex: 9 entries, 0 to 8\n",
      "Data columns (total 3 columns):\n",
      "ID         9 non-null int64\n",
      "DOB        9 non-null object\n",
      "DOB_new    9 non-null datetime64[ns]\n",
      "dtypes: datetime64[ns](1), int64(1), object(1)\n",
      "memory usage: 288.0+ bytes\n",
      "None\n"
     ]
    }
   ],
   "source": [
    "cust['DOB_new']=pd.to_datetime(cust['DOB'], format='%d-%b-%y')\n",
    "\n",
    "print cust.head()\n",
    "print cust.info()"
   ]
  },
  {
   "cell_type": "code",
   "execution_count": 35,
   "metadata": {
    "collapsed": true
   },
   "outputs": [],
   "source": [
    "import pypyodbc"
   ]
  },
  {
   "cell_type": "code",
   "execution_count": 36,
   "metadata": {
    "collapsed": true
   },
   "outputs": [],
   "source": [
    "pypyodbc.connect?"
   ]
  },
  {
   "cell_type": "code",
   "execution_count": 41,
   "metadata": {
    "collapsed": false
   },
   "outputs": [
    {
     "name": "stdout",
     "output_type": "stream",
     "text": [
      "<pypyodbc.Connection instance at 0x0000000009A24A08>\n"
     ]
    }
   ],
   "source": [
    "import pypyodbc \n",
    "import pandas as pd\n",
    "cnxn = pypyodbc.connect(\"Driver={SQL Server Native Client 11.0};\"\n",
    "                        \"Server=localhost;\"\n",
    "                        \"Database=alabs;\"\n",
    "                        \"Trusted_Connection=yes;\")\n",
    "print cnxn\n",
    "\n",
    "#cursor = cnxn.cursor()\n",
    "\n",
    "#cursor.execute('SELECT * FROM customer')\n",
    "\n",
    "#for row in cursor:\n",
    "    #print('row = %r' % (row,))\n"
   ]
  },
  {
   "cell_type": "code",
   "execution_count": 42,
   "metadata": {
    "collapsed": false
   },
   "outputs": [],
   "source": [
    "customer = pd.read_sql_query('select * from customer', cnxn)\n",
    "\n",
    "cnxn.close()"
   ]
  },
  {
   "cell_type": "code",
   "execution_count": 43,
   "metadata": {
    "collapsed": false
   },
   "outputs": [
    {
     "data": {
      "text/html": [
       "<div>\n",
       "<table border=\"1\" class=\"dataframe\">\n",
       "  <thead>\n",
       "    <tr style=\"text-align: right;\">\n",
       "      <th></th>\n",
       "      <th>customer_id</th>\n",
       "      <th>dob</th>\n",
       "      <th>gender</th>\n",
       "      <th>city_code</th>\n",
       "    </tr>\n",
       "  </thead>\n",
       "  <tbody>\n",
       "    <tr>\n",
       "      <th>0</th>\n",
       "      <td>268408</td>\n",
       "      <td>02-01-1970</td>\n",
       "      <td>M</td>\n",
       "      <td>4</td>\n",
       "    </tr>\n",
       "    <tr>\n",
       "      <th>1</th>\n",
       "      <td>269696</td>\n",
       "      <td>07-01-1970</td>\n",
       "      <td>F</td>\n",
       "      <td>8</td>\n",
       "    </tr>\n",
       "    <tr>\n",
       "      <th>2</th>\n",
       "      <td>268159</td>\n",
       "      <td>08-01-1970</td>\n",
       "      <td>F</td>\n",
       "      <td>8</td>\n",
       "    </tr>\n",
       "    <tr>\n",
       "      <th>3</th>\n",
       "      <td>270181</td>\n",
       "      <td>10-01-1970</td>\n",
       "      <td>F</td>\n",
       "      <td>2</td>\n",
       "    </tr>\n",
       "    <tr>\n",
       "      <th>4</th>\n",
       "      <td>268073</td>\n",
       "      <td>11-01-1970</td>\n",
       "      <td>M</td>\n",
       "      <td>1</td>\n",
       "    </tr>\n",
       "    <tr>\n",
       "      <th>5</th>\n",
       "      <td>273216</td>\n",
       "      <td>15-01-1970</td>\n",
       "      <td>F</td>\n",
       "      <td>5</td>\n",
       "    </tr>\n",
       "    <tr>\n",
       "      <th>6</th>\n",
       "      <td>266929</td>\n",
       "      <td>15-01-1970</td>\n",
       "      <td>M</td>\n",
       "      <td>8</td>\n",
       "    </tr>\n",
       "    <tr>\n",
       "      <th>7</th>\n",
       "      <td>275152</td>\n",
       "      <td>16-01-1970</td>\n",
       "      <td>M</td>\n",
       "      <td>4</td>\n",
       "    </tr>\n",
       "    <tr>\n",
       "      <th>8</th>\n",
       "      <td>275034</td>\n",
       "      <td>18-01-1970</td>\n",
       "      <td>F</td>\n",
       "      <td>4</td>\n",
       "    </tr>\n",
       "    <tr>\n",
       "      <th>9</th>\n",
       "      <td>273966</td>\n",
       "      <td>21-01-1970</td>\n",
       "      <td>M</td>\n",
       "      <td>8</td>\n",
       "    </tr>\n",
       "  </tbody>\n",
       "</table>\n",
       "</div>"
      ],
      "text/plain": [
       "  customer_id         dob gender city_code\n",
       "0      268408  02-01-1970      M         4\n",
       "1      269696  07-01-1970      F         8\n",
       "2      268159  08-01-1970      F         8\n",
       "3      270181  10-01-1970      F         2\n",
       "4      268073  11-01-1970      M         1\n",
       "5      273216  15-01-1970      F         5\n",
       "6      266929  15-01-1970      M         8\n",
       "7      275152  16-01-1970      M         4\n",
       "8      275034  18-01-1970      F         4\n",
       "9      273966  21-01-1970      M         8"
      ]
     },
     "execution_count": 43,
     "metadata": {},
     "output_type": "execute_result"
    }
   ],
   "source": [
    "customer.head(10)"
   ]
  },
  {
   "cell_type": "code",
   "execution_count": 44,
   "metadata": {
    "collapsed": false
   },
   "outputs": [
    {
     "data": {
      "text/html": [
       "<div>\n",
       "<table border=\"1\" class=\"dataframe\">\n",
       "  <thead>\n",
       "    <tr style=\"text-align: right;\">\n",
       "      <th></th>\n",
       "      <th>ID</th>\n",
       "      <th>Location</th>\n",
       "      <th>Gender</th>\n",
       "      <th>age</th>\n",
       "      <th>Martial_Status</th>\n",
       "      <th>NumberOfDependents</th>\n",
       "      <th>Own_House</th>\n",
       "      <th>No_Years_address</th>\n",
       "    </tr>\n",
       "  </thead>\n",
       "  <tbody>\n",
       "    <tr>\n",
       "      <th>0</th>\n",
       "      <td>4532</td>\n",
       "      <td>Gandhinagar,Gujarat</td>\n",
       "      <td>0</td>\n",
       "      <td>39</td>\n",
       "      <td>Single</td>\n",
       "      <td>1.0</td>\n",
       "      <td>1</td>\n",
       "      <td>3</td>\n",
       "    </tr>\n",
       "    <tr>\n",
       "      <th>1</th>\n",
       "      <td>148736</td>\n",
       "      <td>Hyderabad,Andhra Pradesh</td>\n",
       "      <td>0</td>\n",
       "      <td>52</td>\n",
       "      <td>Married</td>\n",
       "      <td>0.0</td>\n",
       "      <td>0</td>\n",
       "      <td>3</td>\n",
       "    </tr>\n",
       "    <tr>\n",
       "      <th>2</th>\n",
       "      <td>95965</td>\n",
       "      <td>Shimla,Himachal Pradesh</td>\n",
       "      <td>0</td>\n",
       "      <td>62</td>\n",
       "      <td>Married</td>\n",
       "      <td>0.0</td>\n",
       "      <td>0</td>\n",
       "      <td>2</td>\n",
       "    </tr>\n",
       "    <tr>\n",
       "      <th>3</th>\n",
       "      <td>61759</td>\n",
       "      <td>Srinagar,JK</td>\n",
       "      <td>0</td>\n",
       "      <td>42</td>\n",
       "      <td>Single</td>\n",
       "      <td>1.0</td>\n",
       "      <td>1</td>\n",
       "      <td>1</td>\n",
       "    </tr>\n",
       "    <tr>\n",
       "      <th>4</th>\n",
       "      <td>49806</td>\n",
       "      <td>Imphal,Manipur</td>\n",
       "      <td>0</td>\n",
       "      <td>41</td>\n",
       "      <td>Single</td>\n",
       "      <td>1.0</td>\n",
       "      <td>0</td>\n",
       "      <td>3</td>\n",
       "    </tr>\n",
       "  </tbody>\n",
       "</table>\n",
       "</div>"
      ],
      "text/plain": [
       "       ID                  Location  Gender  age Martial_Status  \\\n",
       "0    4532       Gandhinagar,Gujarat       0   39         Single   \n",
       "1  148736  Hyderabad,Andhra Pradesh       0   52        Married   \n",
       "2   95965   Shimla,Himachal Pradesh       0   62        Married   \n",
       "3   61759               Srinagar,JK       0   42         Single   \n",
       "4   49806            Imphal,Manipur       0   41         Single   \n",
       "\n",
       "   NumberOfDependents  Own_House  No_Years_address  \n",
       "0                 1.0          1                 3  \n",
       "1                 0.0          0                 3  \n",
       "2                 0.0          0                 2  \n",
       "3                 1.0          1                 1  \n",
       "4                 1.0          0                 3  "
      ]
     },
     "execution_count": 44,
     "metadata": {},
     "output_type": "execute_result"
    }
   ],
   "source": [
    "df1 = pd.read_csv('./Pandas Case Study/Cust_demo.csv')\n",
    "df1.head(5)"
   ]
  },
  {
   "cell_type": "code",
   "execution_count": 45,
   "metadata": {
    "collapsed": false
   },
   "outputs": [
    {
     "data": {
      "text/html": [
       "<div>\n",
       "<table border=\"1\" class=\"dataframe\">\n",
       "  <thead>\n",
       "    <tr>\n",
       "      <th></th>\n",
       "      <th></th>\n",
       "      <th colspan=\"4\" halign=\"left\">age</th>\n",
       "      <th colspan=\"2\" halign=\"left\">ID</th>\n",
       "      <th colspan=\"6\" halign=\"left\">NumberOfDependents</th>\n",
       "    </tr>\n",
       "    <tr>\n",
       "      <th></th>\n",
       "      <th></th>\n",
       "      <th colspan=\"2\" halign=\"left\">mean</th>\n",
       "      <th colspan=\"2\" halign=\"left\">sum</th>\n",
       "      <th colspan=\"2\" halign=\"left\">len</th>\n",
       "      <th colspan=\"2\" halign=\"left\">amax</th>\n",
       "      <th colspan=\"2\" halign=\"left\">mean</th>\n",
       "      <th colspan=\"2\" halign=\"left\">sum</th>\n",
       "    </tr>\n",
       "    <tr>\n",
       "      <th></th>\n",
       "      <th>Own_House</th>\n",
       "      <th>0</th>\n",
       "      <th>1</th>\n",
       "      <th>0</th>\n",
       "      <th>1</th>\n",
       "      <th>0</th>\n",
       "      <th>1</th>\n",
       "      <th>0</th>\n",
       "      <th>1</th>\n",
       "      <th>0</th>\n",
       "      <th>1</th>\n",
       "      <th>0</th>\n",
       "      <th>1</th>\n",
       "    </tr>\n",
       "    <tr>\n",
       "      <th>Martial_Status</th>\n",
       "      <th>Gender</th>\n",
       "      <th></th>\n",
       "      <th></th>\n",
       "      <th></th>\n",
       "      <th></th>\n",
       "      <th></th>\n",
       "      <th></th>\n",
       "      <th></th>\n",
       "      <th></th>\n",
       "      <th></th>\n",
       "      <th></th>\n",
       "      <th></th>\n",
       "      <th></th>\n",
       "    </tr>\n",
       "  </thead>\n",
       "  <tbody>\n",
       "    <tr>\n",
       "      <th rowspan=\"2\" valign=\"top\">Married</th>\n",
       "      <th>0</th>\n",
       "      <td>52.160914</td>\n",
       "      <td>52.247352</td>\n",
       "      <td>835670</td>\n",
       "      <td>562286</td>\n",
       "      <td>16021</td>\n",
       "      <td>10762</td>\n",
       "      <td>20</td>\n",
       "      <td>8</td>\n",
       "      <td>0.769846</td>\n",
       "      <td>0.760378</td>\n",
       "      <td>12025</td>\n",
       "      <td>7968</td>\n",
       "    </tr>\n",
       "    <tr>\n",
       "      <th>1</th>\n",
       "      <td>52.447774</td>\n",
       "      <td>52.640732</td>\n",
       "      <td>504128</td>\n",
       "      <td>339638</td>\n",
       "      <td>9612</td>\n",
       "      <td>6452</td>\n",
       "      <td>8</td>\n",
       "      <td>10</td>\n",
       "      <td>0.768761</td>\n",
       "      <td>0.755102</td>\n",
       "      <td>7181</td>\n",
       "      <td>4736</td>\n",
       "    </tr>\n",
       "    <tr>\n",
       "      <th rowspan=\"2\" valign=\"top\">Single</th>\n",
       "      <th>0</th>\n",
       "      <td>52.348570</td>\n",
       "      <td>52.255563</td>\n",
       "      <td>2104936</td>\n",
       "      <td>1397366</td>\n",
       "      <td>40210</td>\n",
       "      <td>26741</td>\n",
       "      <td>10</td>\n",
       "      <td>10</td>\n",
       "      <td>0.759954</td>\n",
       "      <td>0.740991</td>\n",
       "      <td>29775</td>\n",
       "      <td>19308</td>\n",
       "    </tr>\n",
       "    <tr>\n",
       "      <th>1</th>\n",
       "      <td>52.336537</td>\n",
       "      <td>52.107011</td>\n",
       "      <td>1268690</td>\n",
       "      <td>830221</td>\n",
       "      <td>24241</td>\n",
       "      <td>15933</td>\n",
       "      <td>10</td>\n",
       "      <td>13</td>\n",
       "      <td>0.751187</td>\n",
       "      <td>0.765707</td>\n",
       "      <td>17713</td>\n",
       "      <td>11883</td>\n",
       "    </tr>\n",
       "  </tbody>\n",
       "</table>\n",
       "</div>"
      ],
      "text/plain": [
       "                             age                                  ID         \\\n",
       "                            mean                 sum             len          \n",
       "Own_House                      0          1        0        1      0      1   \n",
       "Martial_Status Gender                                                         \n",
       "Married        0       52.160914  52.247352   835670   562286  16021  10762   \n",
       "               1       52.447774  52.640732   504128   339638   9612   6452   \n",
       "Single         0       52.348570  52.255563  2104936  1397366  40210  26741   \n",
       "               1       52.336537  52.107011  1268690   830221  24241  15933   \n",
       "\n",
       "                      NumberOfDependents                                        \n",
       "                                    amax          mean              sum         \n",
       "Own_House                              0   1         0         1      0      1  \n",
       "Martial_Status Gender                                                           \n",
       "Married        0                      20   8  0.769846  0.760378  12025   7968  \n",
       "               1                       8  10  0.768761  0.755102   7181   4736  \n",
       "Single         0                      10  10  0.759954  0.740991  29775  19308  \n",
       "               1                      10  13  0.751187  0.765707  17713  11883  "
      ]
     },
     "execution_count": 45,
     "metadata": {},
     "output_type": "execute_result"
    }
   ],
   "source": [
    "import numpy as np\n",
    "table = pd.pivot_table(df1,index=[\"Martial_Status\",\"Gender\"],columns=[\"Own_House\"],values=[\"ID\",\"age\",\"NumberOfDependents\"],\n",
    "               aggfunc={\"ID\":len,\"age\":[np.sum,np.mean],\"NumberOfDependents\":[np.sum,np.mean,np.max]},fill_value=0)\n",
    "table"
   ]
  },
  {
   "cell_type": "code",
   "execution_count": 46,
   "metadata": {
    "collapsed": false
   },
   "outputs": [
    {
     "data": {
      "text/html": [
       "<div>\n",
       "<table border=\"1\" class=\"dataframe\">\n",
       "  <thead>\n",
       "    <tr>\n",
       "      <th></th>\n",
       "      <th></th>\n",
       "      <th colspan=\"4\" halign=\"left\">age</th>\n",
       "      <th colspan=\"2\" halign=\"left\">ID</th>\n",
       "      <th colspan=\"6\" halign=\"left\">NumberOfDependents</th>\n",
       "    </tr>\n",
       "    <tr>\n",
       "      <th></th>\n",
       "      <th></th>\n",
       "      <th colspan=\"2\" halign=\"left\">mean</th>\n",
       "      <th colspan=\"2\" halign=\"left\">sum</th>\n",
       "      <th colspan=\"2\" halign=\"left\">len</th>\n",
       "      <th colspan=\"2\" halign=\"left\">amax</th>\n",
       "      <th colspan=\"2\" halign=\"left\">mean</th>\n",
       "      <th colspan=\"2\" halign=\"left\">sum</th>\n",
       "    </tr>\n",
       "    <tr>\n",
       "      <th></th>\n",
       "      <th>Own_House</th>\n",
       "      <th>0</th>\n",
       "      <th>1</th>\n",
       "      <th>0</th>\n",
       "      <th>1</th>\n",
       "      <th>0</th>\n",
       "      <th>1</th>\n",
       "      <th>0</th>\n",
       "      <th>1</th>\n",
       "      <th>0</th>\n",
       "      <th>1</th>\n",
       "      <th>0</th>\n",
       "      <th>1</th>\n",
       "    </tr>\n",
       "    <tr>\n",
       "      <th>Martial_Status</th>\n",
       "      <th>Gender</th>\n",
       "      <th></th>\n",
       "      <th></th>\n",
       "      <th></th>\n",
       "      <th></th>\n",
       "      <th></th>\n",
       "      <th></th>\n",
       "      <th></th>\n",
       "      <th></th>\n",
       "      <th></th>\n",
       "      <th></th>\n",
       "      <th></th>\n",
       "      <th></th>\n",
       "    </tr>\n",
       "  </thead>\n",
       "  <tbody>\n",
       "    <tr>\n",
       "      <th>Married</th>\n",
       "      <th>0</th>\n",
       "      <td>52.160914</td>\n",
       "      <td>52.247352</td>\n",
       "      <td>835670</td>\n",
       "      <td>562286</td>\n",
       "      <td>16021</td>\n",
       "      <td>10762</td>\n",
       "      <td>20</td>\n",
       "      <td>8</td>\n",
       "      <td>0.769846</td>\n",
       "      <td>0.760378</td>\n",
       "      <td>12025</td>\n",
       "      <td>7968</td>\n",
       "    </tr>\n",
       "  </tbody>\n",
       "</table>\n",
       "</div>"
      ],
      "text/plain": [
       "                             age                                ID         \\\n",
       "                            mean                sum            len          \n",
       "Own_House                      0          1       0       1      0      1   \n",
       "Martial_Status Gender                                                       \n",
       "Married        0       52.160914  52.247352  835670  562286  16021  10762   \n",
       "\n",
       "                      NumberOfDependents                                      \n",
       "                                    amax         mean              sum        \n",
       "Own_House                              0  1         0         1      0     1  \n",
       "Martial_Status Gender                                                         \n",
       "Married        0                      20  8  0.769846  0.760378  12025  7968  "
      ]
     },
     "execution_count": 46,
     "metadata": {},
     "output_type": "execute_result"
    }
   ],
   "source": [
    "#Advanced queries\n",
    "table.query('Martial_Status == [\"Married\"] and Gender == 0')"
   ]
  },
  {
   "cell_type": "code",
   "execution_count": null,
   "metadata": {
    "collapsed": true
   },
   "outputs": [],
   "source": []
  }
 ],
 "metadata": {
  "kernelspec": {
   "display_name": "Python [Root]",
   "language": "python",
   "name": "Python [Root]"
  },
  "language_info": {
   "codemirror_mode": {
    "name": "ipython",
    "version": 2
   },
   "file_extension": ".py",
   "mimetype": "text/x-python",
   "name": "python",
   "nbconvert_exporter": "python",
   "pygments_lexer": "ipython2",
   "version": "2.7.12"
  }
 },
 "nbformat": 4,
 "nbformat_minor": 0
}
