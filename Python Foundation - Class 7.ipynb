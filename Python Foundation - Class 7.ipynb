{
 "cells": [
  {
   "cell_type": "markdown",
   "metadata": {},
   "source": [
    "# Python Foundation: Class 7 topics\n",
    "\n",
    "> 1. Type conversion functions:\n",
    "    - Datetime\n",
    "    - int/float\n",
    "    - object\n",
    "    \n",
    "> 2. Plots/Graphs in python\n",
    "    - Using pandas plot\n",
    "    - Using pyplot from matplotlib\n",
    "    - Using seaborn\n",
    "    - --------------------------------------\n",
    "    - plotnine/ggplot\n",
    "    - Bokeh\n",
    "    - plotly"
   ]
  },
  {
   "cell_type": "code",
   "execution_count": null,
   "metadata": {},
   "outputs": [],
   "source": [
    "import pandas as pd"
   ]
  },
  {
   "cell_type": "code",
   "execution_count": null,
   "metadata": {},
   "outputs": [],
   "source": [
    "# import the transaction data \n",
    "q1 = pd.read_csv(\"D:/SampleData/POS_Q1.csv\")"
   ]
  },
  {
   "cell_type": "markdown",
   "metadata": {},
   "source": [
    "## Type conversion in pandas"
   ]
  },
  {
   "cell_type": "raw",
   "metadata": {},
   "source": [
    "pd.to_numeric()\n",
    "pd.to_datetime()\n",
    "    date      : %d\n",
    "    day abb   : %a\n",
    "    day       : %A\n",
    "    month     : %m\n",
    "    month abb : %b\n",
    "    month     : %B\n",
    "    year w/o c: %y\n",
    "    year w c  : %Y\n",
    "    hours 24  : %H\n",
    "    hours 12  : %I\n",
    "    minutes   : %M\n",
    "    seconds   : %S\n",
    "    am/pm     : %p\n",
    "df.astype(str)"
   ]
  },
  {
   "cell_type": "code",
   "execution_count": null,
   "metadata": {},
   "outputs": [],
   "source": [
    "# import the transaction data \n",
    "pos_q1 = pd.read_csv(\"D:/SampleData/POS_Q1.csv\")"
   ]
  },
  {
   "cell_type": "code",
   "execution_count": null,
   "metadata": {},
   "outputs": [],
   "source": [
    "pos_q1.info()"
   ]
  },
  {
   "cell_type": "code",
   "execution_count": null,
   "metadata": {},
   "outputs": [],
   "source": [
    "# convert date column in datetime\n",
    "pos_q1.Date"
   ]
  },
  {
   "cell_type": "code",
   "execution_count": null,
   "metadata": {},
   "outputs": [],
   "source": [
    "# convert the Date column into datetime from object type\n",
    "pos_q1['Date'] = pd.to_datetime(pos_q1.Date, format = '%m-%d-%y %H:%M')"
   ]
  },
  {
   "cell_type": "code",
   "execution_count": null,
   "metadata": {},
   "outputs": [],
   "source": [
    "# convert following dates in to datetime\n",
    "d1 = pd.Series(['2309 2012', '0309 2019'])\n",
    "d2 = pd.Series(['12:45:55 pm 02232002', '11:40:55 pm 06022002', '12:04:55 am 11302002'])"
   ]
  },
  {
   "cell_type": "code",
   "execution_count": null,
   "metadata": {},
   "outputs": [],
   "source": [
    "pd.to_datetime(d1, format = '%d%m %Y')"
   ]
  },
  {
   "cell_type": "code",
   "execution_count": null,
   "metadata": {},
   "outputs": [],
   "source": [
    "pd.to_datetime(d2, format = '%I:%M:%S %p %m%d%Y')"
   ]
  },
  {
   "cell_type": "code",
   "execution_count": null,
   "metadata": {},
   "outputs": [],
   "source": [
    "# convert following non standard numerics into numeric\n",
    "n1 = pd.Series(['2012.2', '0309'])"
   ]
  },
  {
   "cell_type": "code",
   "execution_count": null,
   "metadata": {},
   "outputs": [],
   "source": [
    "pd.to_numeric(n1)"
   ]
  },
  {
   "cell_type": "code",
   "execution_count": null,
   "metadata": {},
   "outputs": [],
   "source": [
    "# convert following values to text/object\n",
    "f1 = pd.Series([23.4, 65.7, 99,3])"
   ]
  },
  {
   "cell_type": "code",
   "execution_count": null,
   "metadata": {},
   "outputs": [],
   "source": [
    "f1.astype(str)"
   ]
  },
  {
   "cell_type": "markdown",
   "metadata": {},
   "source": [
    "### Timestamp/DateOffset"
   ]
  },
  {
   "cell_type": "code",
   "execution_count": null,
   "metadata": {},
   "outputs": [],
   "source": [
    "# get the current system date and time\n",
    "pd.Timestamp.now()"
   ]
  },
  {
   "cell_type": "code",
   "execution_count": null,
   "metadata": {},
   "outputs": [],
   "source": [
    "# add one day in current date\n",
    "pd.Timestamp.now() + pd.DateOffset(days = 1)"
   ]
  },
  {
   "cell_type": "markdown",
   "metadata": {},
   "source": [
    "### map / apply / applymap\n",
    "> 1. map: works on each element of series\n",
    "> 2. applymap: works on each element within a dataframe\n",
    "> 3. apply works on series or individual item depending on its use"
   ]
  },
  {
   "cell_type": "code",
   "execution_count": null,
   "metadata": {},
   "outputs": [],
   "source": [
    "# convert Location variable from stores dataset into upper case (map)\n",
    "\n",
    "# convert Store type and Location variables from stores dataset into upper case (applymap)\n",
    "\n",
    "# convert all object variables from stores dataset into upper case (applymap)\n",
    "\n",
    "# get the sum of all numerical variables from stores dataset\n",
    "\n",
    "# create a UDF that takes series as an input and return stats summary of data for int variables (.describe function)"
   ]
  },
  {
   "cell_type": "code",
   "execution_count": null,
   "metadata": {},
   "outputs": [],
   "source": [
    "# convert Location variable from stores dataset into upper case (map)\n",
    "pd.Series(map(lambda x: x.upper(), stores.Location))"
   ]
  },
  {
   "cell_type": "code",
   "execution_count": null,
   "metadata": {},
   "outputs": [],
   "source": [
    "# convert Store type and Location variables from stores dataset into upper case\n",
    "stores[['Location', 'StoreType']].applymap(lambda x: x.upper())"
   ]
  },
  {
   "cell_type": "code",
   "execution_count": null,
   "metadata": {},
   "outputs": [],
   "source": [
    "# convert all object variables from stores dataset into upper case\n",
    "stores.loc[:, stores.dtypes == 'object'].applymap(lambda x: x.upper())"
   ]
  },
  {
   "cell_type": "code",
   "execution_count": null,
   "metadata": {},
   "outputs": [],
   "source": [
    "# get the sum of all numerical variables from stores dataset\n",
    "stores.loc[:, stores.dtypes == 'int64'].apply(lambda x: x.sum())"
   ]
  },
  {
   "cell_type": "code",
   "execution_count": null,
   "metadata": {},
   "outputs": [],
   "source": [
    "# describe function\n",
    "def fn_describe(x):\n",
    "    return pd.Series([x.count(), x.isnull().sum(), x.sum(), x.mean(), x.median(), x.std(), x.var(), x.min(), \n",
    "                          x.dropna().quantile(0.01), x.dropna().quantile(0.05), x.dropna().quantile(0.10), \n",
    "                              x.dropna().quantile(0.25), x.dropna().quantile(0.50), x.dropna().quantile(0.75), \n",
    "                                  x.dropna().quantile(0.90),x.dropna().quantile(0.95), x.dropna().quantile(0.99),x.max()], \n",
    "                  index=['N', 'NMISS', 'SUM', 'MEAN','MEDIAN', 'STD', 'VAR', 'MIN', 'P1' , 'P5' ,'P10' ,'P25' ,'P50' ,\n",
    "                             'P75' ,'P90' ,'P95' ,'P99' ,'MAX'])"
   ]
  },
  {
   "cell_type": "code",
   "execution_count": null,
   "metadata": {},
   "outputs": [],
   "source": [
    "stores.loc[:, stores.dtypes == 'int64'].apply(lambda x: fn_describe(x))"
   ]
  },
  {
   "cell_type": "markdown",
   "metadata": {},
   "source": [
    "### data visualization in python - introduction"
   ]
  },
  {
   "cell_type": "raw",
   "metadata": {},
   "source": [
    "1. What type of charts you have come across in your routine activities?\n",
    "\n",
    "2. Which chart vs What analysis\n",
    "\n",
    "3. Fundamentally in data Science, charts are created for\n",
    "    \n",
    "    a. relationships: scatter plot, bar/coloumn charts, line/area charts\n",
    "    \n",
    "    b. composition: pie charts, histograms, bar/column charts\n",
    "    \n",
    "    c. distribution: box plots, histograms\n",
    "        \n",
    "4. Continuous Vs Categorical (ordinal/nominal)\n",
    "\n",
    "5. Uni variate: box plots, histograms\n",
    "\n",
    "6. Bi variate: scatter plots (continuous Vs continuous), bar/coloumn/line/area/pie charts (categorical Vs continuous)"
   ]
  },
  {
   "cell_type": "raw",
   "metadata": {},
   "source": [
    "matplotlib <<pyplot>>\n",
    "pandas\n",
    "seaborn\n",
    "\n",
    "plotnine/ggplot\n",
    "\n",
    "bukey\n",
    "\n",
    "plotly"
   ]
  },
  {
   "cell_type": "markdown",
   "metadata": {},
   "source": [
    "## Getting started with charts"
   ]
  },
  {
   "cell_type": "code",
   "execution_count": null,
   "metadata": {},
   "outputs": [],
   "source": [
    "import pandas as pd"
   ]
  },
  {
   "cell_type": "code",
   "execution_count": null,
   "metadata": {},
   "outputs": [],
   "source": [
    "# import matplotlib.pyplot as plt\n",
    "from matplotlib import pyplot as plt"
   ]
  },
  {
   "cell_type": "code",
   "execution_count": null,
   "metadata": {},
   "outputs": [],
   "source": [
    "# import the sales  data \n",
    "stores = pd.read_csv(\"D:/SampleData/stores.csv\")"
   ]
  },
  {
   "cell_type": "code",
   "execution_count": null,
   "metadata": {},
   "outputs": [],
   "source": [
    "stores.TotalSales.describe()"
   ]
  },
  {
   "cell_type": "code",
   "execution_count": null,
   "metadata": {},
   "outputs": [],
   "source": [
    "%matplotlib inline\n",
    "#notebook/inline"
   ]
  },
  {
   "cell_type": "markdown",
   "metadata": {},
   "source": [
    "## Plots/Charts in python\n",
    "(composition / distribution / relation)"
   ]
  },
  {
   "cell_type": "code",
   "execution_count": null,
   "metadata": {},
   "outputs": [],
   "source": [
    "# import pandas\n",
    "import pandas as pd"
   ]
  },
  {
   "cell_type": "code",
   "execution_count": null,
   "metadata": {},
   "outputs": [],
   "source": [
    "# import the stores data \n",
    "stores = pd.read_csv(\"D:/SampleData/Stores.csv\")"
   ]
  },
  {
   "cell_type": "code",
   "execution_count": null,
   "metadata": {},
   "outputs": [],
   "source": [
    "from matplotlib import pyplot as plt\n",
    "%matplotlib inline"
   ]
  },
  {
   "cell_type": "code",
   "execution_count": null,
   "metadata": {},
   "outputs": [],
   "source": [
    "import seaborn as sns"
   ]
  },
  {
   "cell_type": "markdown",
   "metadata": {},
   "source": [
    "### Distribution Charts\n",
    "> 1. Histogram\n",
    "> 2. Scatter plot (one variable)\n",
    "> 3. Box plot"
   ]
  },
  {
   "cell_type": "markdown",
   "metadata": {},
   "source": [
    "#### distribution charts: histogram"
   ]
  },
  {
   "cell_type": "code",
   "execution_count": null,
   "metadata": {
    "scrolled": true
   },
   "outputs": [],
   "source": [
    "# pandas\n",
    "stores.TotalSales.hist(grid = False, bins = 10, edgecolor = '#000000', color = 'red')"
   ]
  },
  {
   "cell_type": "code",
   "execution_count": null,
   "metadata": {},
   "outputs": [],
   "source": [
    "# .plot funtion\n",
    "stores.TotalSales.plot('hist')"
   ]
  },
  {
   "cell_type": "code",
   "execution_count": null,
   "metadata": {},
   "outputs": [],
   "source": [
    "# pyplot\n",
    "plt.hist(stores.TotalSales, bins = 10, edgecolor = 'black')"
   ]
  },
  {
   "cell_type": "code",
   "execution_count": null,
   "metadata": {},
   "outputs": [],
   "source": [
    "# seaborn\n",
    "sns.distplot(stores.TotalSales, bins = 10, vertical = False)"
   ]
  },
  {
   "cell_type": "markdown",
   "metadata": {},
   "source": [
    "#### distribution charts: scatterplot (one variable)"
   ]
  },
  {
   "cell_type": "code",
   "execution_count": null,
   "metadata": {},
   "outputs": [],
   "source": [
    "# pandas dataframe: not to be used for one variable\n",
    "stores.plot(x = 'TotalSales', y = 'TotalSales',  kind = 'scatter')"
   ]
  },
  {
   "cell_type": "code",
   "execution_count": null,
   "metadata": {
    "scrolled": true
   },
   "outputs": [],
   "source": [
    "# pyplot\n",
    "plt.scatter(x = stores.TotalSales.index, y = stores.TotalSales, c = 'y', s = 50)\n",
    "\n",
    "# c = 'yellow'\n",
    "# s = 50\n",
    "# marker = + or . or * or ^, ,edgecolors=\"black\""
   ]
  },
  {
   "cell_type": "code",
   "execution_count": null,
   "metadata": {},
   "outputs": [],
   "source": [
    "# plt.grid(True)\n",
    "# plt.xlabel(\"Index of TotalSales\")\n",
    "# plt.ylabel(\"TotalSales\")\n",
    "# plt.title(\"Distribution of TotalSales in the data\")\n",
    "# plt.show()"
   ]
  },
  {
   "cell_type": "code",
   "execution_count": null,
   "metadata": {},
   "outputs": [],
   "source": [
    "# seaborn\n",
    "sns.scatterplot(x = stores.TotalSales.index, y = stores.TotalSales)"
   ]
  },
  {
   "cell_type": "markdown",
   "metadata": {},
   "source": [
    "#### distribution charts: box plots"
   ]
  },
  {
   "cell_type": "code",
   "execution_count": null,
   "metadata": {},
   "outputs": [],
   "source": [
    "import numpy as np"
   ]
  },
  {
   "cell_type": "code",
   "execution_count": null,
   "metadata": {},
   "outputs": [],
   "source": [
    "# Getting random data\n",
    "data = pd.Series(np.random.normal(loc = 110, scale = 20, size = 10000)) # loc: mean, scale = std/spread/width\n",
    "data.head()"
   ]
  },
  {
   "cell_type": "code",
   "execution_count": null,
   "metadata": {},
   "outputs": [],
   "source": [
    "# using pandas\n",
    "data.plot(kind = 'box')"
   ]
  },
  {
   "cell_type": "code",
   "execution_count": null,
   "metadata": {},
   "outputs": [],
   "source": [
    "# pyplot\n",
    "plt.boxplot(data)\n",
    "plt.show()"
   ]
  },
  {
   "cell_type": "code",
   "execution_count": null,
   "metadata": {},
   "outputs": [],
   "source": [
    "# seaborn\n",
    "sns.boxplot(data, orient = 'v')"
   ]
  },
  {
   "cell_type": "markdown",
   "metadata": {},
   "source": [
    "### Relationship charts\n",
    "> 1. scatter plot\n",
    "> 2. bar/coloumn charts\n",
    "> 3. line charts\n",
    "> 4. area charts"
   ]
  },
  {
   "cell_type": "markdown",
   "metadata": {},
   "source": [
    "#### relationship charts: scatterplot (two variable)"
   ]
  },
  {
   "cell_type": "code",
   "execution_count": null,
   "metadata": {},
   "outputs": [],
   "source": [
    "# pandas\n",
    "stores.plot(x = 'TotalSales', y = 'OperatingCost', kind = 'scatter')"
   ]
  },
  {
   "cell_type": "code",
   "execution_count": null,
   "metadata": {},
   "outputs": [],
   "source": [
    "# pyplot\n",
    "plt.scatter(x = stores.OperatingCost, y = stores.TotalSales)\n",
    "plt.xlabel(\"Operating Cost\")\n",
    "plt.ylabel(\"Total Sales\")\n",
    "plt.title(\"Relation between Operating Cost and TotalSales\")\n",
    "plt.show()"
   ]
  },
  {
   "cell_type": "code",
   "execution_count": null,
   "metadata": {},
   "outputs": [],
   "source": [
    "# seaborn\n",
    "sns.scatterplot(x = stores.OperatingCost, y = stores.TotalSales, hue = stores.Location)"
   ]
  },
  {
   "cell_type": "code",
   "execution_count": null,
   "metadata": {},
   "outputs": [],
   "source": [
    "# lmplot from seaborn\n",
    "sns.lmplot(x = 'OperatingCost', y = 'TotalSales', data = stores)"
   ]
  },
  {
   "cell_type": "markdown",
   "metadata": {},
   "source": [
    "#### relationship charts: column/bar/line/area chart"
   ]
  },
  {
   "cell_type": "code",
   "execution_count": null,
   "metadata": {},
   "outputs": [],
   "source": [
    "# create a bar chart to compare the sales for each location\n",
    "summ = stores.groupby('Location').TotalSales.sum().reset_index()"
   ]
  },
  {
   "cell_type": "raw",
   "metadata": {},
   "source": [
    "# pandas \n",
    "summ.plot(x = 'Location', y = 'TotalSales', kind = 'bar')\n",
    "\n",
    "# legend = True\n",
    "# title = 'This is an example of bar chart'\n",
    "# color = 'red'"
   ]
  },
  {
   "cell_type": "code",
   "execution_count": null,
   "metadata": {},
   "outputs": [],
   "source": [
    "# using pyplot\n",
    "plt.bar(x = 'Location', height = 'TotalSales', data = summ, color = 'red', edgecolor = 'black', width = .6)"
   ]
  },
  {
   "cell_type": "code",
   "execution_count": null,
   "metadata": {},
   "outputs": [],
   "source": [
    "# using seaborn\n",
    "sns.barplot(x = summ.Location, y = summ.TotalSales)"
   ]
  },
  {
   "cell_type": "markdown",
   "metadata": {},
   "source": [
    "### Composition Charts\n",
    "> 1. pie charts"
   ]
  },
  {
   "cell_type": "markdown",
   "metadata": {},
   "source": [
    "#### composition charts: pie"
   ]
  },
  {
   "cell_type": "code",
   "execution_count": null,
   "metadata": {},
   "outputs": [],
   "source": [
    "# get the sales for each location\n",
    "summ = stores.groupby('Location').TotalSales.sum().reset_index()"
   ]
  },
  {
   "cell_type": "code",
   "execution_count": null,
   "metadata": {},
   "outputs": [],
   "source": [
    "# pandas\n",
    "summ.plot(x = 'Location', y = 'TotalSales', kind = 'pie', legend = True, title = 'This is an example of pie chart')"
   ]
  },
  {
   "cell_type": "code",
   "execution_count": null,
   "metadata": {},
   "outputs": [],
   "source": [
    "# pyplot\n",
    "plt.pie(x = 'TotalSales', labels = 'Location', data = summ, autopct='%.2f%%')\n",
    "plt.title('This is an example of pie chart')\n",
    "plt.show()"
   ]
  },
  {
   "cell_type": "raw",
   "metadata": {},
   "source": [
    "# seaborn\n",
    "There is no way to create a pie chart using Seaborn.\n",
    "It more applicable to statistical applications where we need to compare univariate or bivariate data sets"
   ]
  },
  {
   "cell_type": "markdown",
   "metadata": {},
   "source": [
    "## Multivariate analysis"
   ]
  },
  {
   "cell_type": "code",
   "execution_count": null,
   "metadata": {},
   "outputs": [],
   "source": [
    "# Bivariate / Multivariate Bar graphs\n",
    "ds_summary1 = stores.groupby(['Location', 'StoreType'])['TotalSales'].sum()\n",
    "ds_summary2 = ds_summary1.reset_index()"
   ]
  },
  {
   "cell_type": "code",
   "execution_count": null,
   "metadata": {},
   "outputs": [],
   "source": [
    "# using pandas\n",
    "ds_summary1.plot(kind = 'bar')"
   ]
  },
  {
   "cell_type": "code",
   "execution_count": null,
   "metadata": {},
   "outputs": [],
   "source": [
    "# column / bar chart\n",
    "ds_summary3 = ds_summary2.pivot('Location', 'StoreType', 'TotalSales')"
   ]
  },
  {
   "cell_type": "code",
   "execution_count": null,
   "metadata": {},
   "outputs": [],
   "source": [
    "ds_summary3"
   ]
  },
  {
   "cell_type": "code",
   "execution_count": null,
   "metadata": {},
   "outputs": [],
   "source": [
    "# clustered column / clustered bar chart\n",
    "ds_summary3.plot(kind = 'bar', color = ['blue', 'violet', 'cyan'])"
   ]
  },
  {
   "cell_type": "code",
   "execution_count": null,
   "metadata": {},
   "outputs": [],
   "source": [
    "# stacked column / stacked bar chart\n",
    "ds_summary3.plot(kind = 'bar', stacked = True)"
   ]
  },
  {
   "cell_type": "code",
   "execution_count": null,
   "metadata": {},
   "outputs": [],
   "source": [
    "ds_summary2"
   ]
  },
  {
   "cell_type": "code",
   "execution_count": null,
   "metadata": {},
   "outputs": [],
   "source": [
    "# clustered charts Seaborn\n",
    "sns.barplot(x = 'Location', y = 'TotalSales', data = ds_summary2 , hue = 'StoreType')\n",
    "\n",
    "# palette = ['blue', 'violet', 'cyan']\n",
    "# order = ['Mumbai', 'Delhi', 'Chennai', 'Kolkata']"
   ]
  }
 ],
 "metadata": {
  "kernelspec": {
   "display_name": "Python 3",
   "language": "python",
   "name": "python3"
  },
  "language_info": {
   "codemirror_mode": {
    "name": "ipython",
    "version": 3
   },
   "file_extension": ".py",
   "mimetype": "text/x-python",
   "name": "python",
   "nbconvert_exporter": "python",
   "pygments_lexer": "ipython3",
   "version": "3.7.3"
  }
 },
 "nbformat": 4,
 "nbformat_minor": 2
}
