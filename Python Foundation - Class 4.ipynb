{
 "cells": [
  {
   "cell_type": "markdown",
   "metadata": {},
   "source": [
    "# Python Foundation: Class 4 topics\n",
    "> <h4>\n",
    "1. Getting started with pandas <br/><br/>\n",
    "2. Pandas\n",
    "   - Data Structures <br/><br/>\n",
    "3. Data Import from raw files\n",
    "</h4>"
   ]
  },
  {
   "cell_type": "markdown",
   "metadata": {},
   "source": [
    "## Concepts of base python\n",
    "> - What are the basic python DS?\n",
    "> - Common features of DS of python\n",
    "> - What is tabular data and what are its features?\n",
    "\n",
    "**In Python, a table is defined as a structure which is combo of multiple 1D DS**"
   ]
  },
  {
   "cell_type": "markdown",
   "metadata": {},
   "source": [
    "## Getting started with pandas\n",
    "\n",
    "#### pandas - panel data analysis\n",
    "> - pip install pandas - install pandas if not available\n",
    "> - import pandas as pd - to use the functions from pandas\n",
    "\n",
    "### pandas data structures and their properties\n",
    "\n",
    "**1. pandas.Series**\n",
    "> - Strictly homogenous - 1D DS\n",
    "> - No need to apply loops and ifs for conditions\n",
    "> - Follow the same [] to access elements by indexes\n",
    "> - indexes can be numbers or text\n",
    "\n",
    "**2. pandas.DataFrame**\n",
    "> - 2D DS\n",
    "> - combination of multiple series\n",
    "> - equivalent to regular tables"
   ]
  },
  {
   "cell_type": "markdown",
   "metadata": {},
   "source": [
    "### Create pandas series - 1d ds\n",
    "- from defalut python data structures\n",
    "- from numpy arrays"
   ]
  },
  {
   "cell_type": "code",
   "execution_count": null,
   "metadata": {},
   "outputs": [],
   "source": [
    "# pandas series is 1d ds\n",
    "# it is strictly homogenous"
   ]
  },
  {
   "cell_type": "code",
   "execution_count": 249,
   "metadata": {},
   "outputs": [],
   "source": [
    "# create list, tuple and dict\n",
    "l1 = [23, 43, 56, 78, 87, 54]\n",
    "t1 = 23, 43, 56, 78, 87, 54\n",
    "d1 = {'Emp ID': 1001, 'Emp Name': 'John Shaw', 'Dept': 'Finance', 'Salary': 10000}"
   ]
  },
  {
   "cell_type": "code",
   "execution_count": 242,
   "metadata": {},
   "outputs": [
    {
     "data": {
      "text/plain": [
       "[23, 43, 56, 78, 87, 54]"
      ]
     },
     "execution_count": 242,
     "metadata": {},
     "output_type": "execute_result"
    }
   ],
   "source": [
    "l1"
   ]
  },
  {
   "cell_type": "code",
   "execution_count": 241,
   "metadata": {
    "scrolled": true
   },
   "outputs": [
    {
     "data": {
      "text/plain": [
       "0    23\n",
       "1    43\n",
       "2    56\n",
       "3    78\n",
       "4    87\n",
       "5    54\n",
       "dtype: int64"
      ]
     },
     "execution_count": 241,
     "metadata": {},
     "output_type": "execute_result"
    }
   ],
   "source": [
    "# create pandas series from defalut python data structures: list/tuple\n",
    "pd.Series(l1)"
   ]
  },
  {
   "cell_type": "code",
   "execution_count": 243,
   "metadata": {},
   "outputs": [
    {
     "data": {
      "text/plain": [
       "0    23\n",
       "1    43\n",
       "2    56\n",
       "3    78\n",
       "4    87\n",
       "5    54\n",
       "dtype: int64"
      ]
     },
     "execution_count": 243,
     "metadata": {},
     "output_type": "execute_result"
    }
   ],
   "source": [
    "pd.Series(t1)"
   ]
  },
  {
   "cell_type": "code",
   "execution_count": 261,
   "metadata": {},
   "outputs": [],
   "source": [
    "s1 = pd.Series(l1, name = 'MyColumn', index = range(1, 7))"
   ]
  },
  {
   "cell_type": "code",
   "execution_count": 248,
   "metadata": {
    "scrolled": true
   },
   "outputs": [
    {
     "data": {
      "text/plain": [
       "a    23\n",
       "b    43\n",
       "c    56\n",
       "d    78\n",
       "e    87\n",
       "f    54\n",
       "Name: MyColumn, dtype: int64"
      ]
     },
     "execution_count": 248,
     "metadata": {},
     "output_type": "execute_result"
    }
   ],
   "source": [
    "pd.Series(l1, name = 'MyColumn', index = ['a', 'b', 'c', 'd', 'e', 'f'])"
   ]
  },
  {
   "cell_type": "code",
   "execution_count": 250,
   "metadata": {},
   "outputs": [
    {
     "data": {
      "text/plain": [
       "{'Emp ID': 1001, 'Emp Name': 'John Shaw', 'Dept': 'Finance', 'Salary': 10000}"
      ]
     },
     "execution_count": 250,
     "metadata": {},
     "output_type": "execute_result"
    }
   ],
   "source": [
    "d1"
   ]
  },
  {
   "cell_type": "code",
   "execution_count": 254,
   "metadata": {},
   "outputs": [
    {
     "data": {
      "text/plain": [
       "Emp ID           1001\n",
       "Salary          10000\n",
       "Emp Name    John Shaw\n",
       "Dept          Finance\n",
       "Name: MyColumn, dtype: object"
      ]
     },
     "execution_count": 254,
     "metadata": {},
     "output_type": "execute_result"
    }
   ],
   "source": [
    "# create pandas series from defalut python data structures: dict\n",
    "pd.Series(d1, index = ['Emp ID', 'Salary', 'Emp Name', 'Dept'], name = 'MyColumn')"
   ]
  },
  {
   "cell_type": "code",
   "execution_count": 258,
   "metadata": {},
   "outputs": [
    {
     "data": {
      "text/plain": [
       "Emp Name    John Shaw\n",
       "a                 NaN\n",
       "b                 NaN\n",
       "c                 NaN\n",
       "d                 NaN\n",
       "e                 NaN\n",
       "f                 NaN\n",
       "Name: MyColumn, dtype: object"
      ]
     },
     "execution_count": 258,
     "metadata": {},
     "output_type": "execute_result"
    }
   ],
   "source": [
    "pd.Series(d1, index = ['Emp Name', 'a', 'b', 'c', 'd', 'e', 'f'], name = 'MyColumn')"
   ]
  },
  {
   "cell_type": "code",
   "execution_count": 255,
   "metadata": {},
   "outputs": [],
   "source": [
    "d2 = {'Emp ID': [1001, 1002], 'Emp Name': 'John Shaw', 'Dept': 'Finance', 'Salary': 10000}"
   ]
  },
  {
   "cell_type": "code",
   "execution_count": 256,
   "metadata": {},
   "outputs": [
    {
     "data": {
      "text/plain": [
       "Emp ID      [1001, 1002]\n",
       "Emp Name       John Shaw\n",
       "Dept             Finance\n",
       "Salary             10000\n",
       "dtype: object"
      ]
     },
     "execution_count": 256,
     "metadata": {},
     "output_type": "execute_result"
    }
   ],
   "source": [
    "pd.Series(d2)"
   ]
  },
  {
   "cell_type": "code",
   "execution_count": 263,
   "metadata": {},
   "outputs": [
    {
     "data": {
      "text/plain": [
       "[23, 43, 56, 78, 87, 54]"
      ]
     },
     "execution_count": 263,
     "metadata": {},
     "output_type": "execute_result"
    }
   ],
   "source": [
    "l1"
   ]
  },
  {
   "cell_type": "code",
   "execution_count": 265,
   "metadata": {},
   "outputs": [
    {
     "data": {
      "text/plain": [
       "1    23\n",
       "2    43\n",
       "3    56\n",
       "4    78\n",
       "5    87\n",
       "6    54\n",
       "Name: MyColumn, dtype: int64"
      ]
     },
     "execution_count": 265,
     "metadata": {},
     "output_type": "execute_result"
    }
   ],
   "source": [
    "s1 = pd.Series(l1, name = 'MyColumn', index = range(1, 7))\n",
    "s1"
   ]
  },
  {
   "cell_type": "code",
   "execution_count": 272,
   "metadata": {},
   "outputs": [
    {
     "data": {
      "text/plain": [
       "4    78\n",
       "5    87\n",
       "Name: MyColumn, dtype: int64"
      ]
     },
     "execution_count": 272,
     "metadata": {},
     "output_type": "execute_result"
    }
   ],
   "source": [
    "s1[s1 > 60]"
   ]
  },
  {
   "cell_type": "code",
   "execution_count": null,
   "metadata": {},
   "outputs": [],
   "source": [
    "# .iloc: \n",
    "    # in case we want to get the values from ds using default indexes [int]\n",
    "    # in case range is given for slicing; range will be low till end -1\n",
    "    \n",
    "# .loc: \n",
    "    # in case we want to get the values from ds using user defined indexes [Numeric/str]\n",
    "    # in case range is given for slicing; range will be low till end"
   ]
  },
  {
   "cell_type": "code",
   "execution_count": 273,
   "metadata": {},
   "outputs": [
    {
     "data": {
      "text/plain": [
       "1    23\n",
       "2    43\n",
       "3    56\n",
       "4    78\n",
       "5    87\n",
       "6    54\n",
       "Name: MyColumn, dtype: int64"
      ]
     },
     "execution_count": 273,
     "metadata": {},
     "output_type": "execute_result"
    }
   ],
   "source": [
    "s1"
   ]
  },
  {
   "cell_type": "code",
   "execution_count": 280,
   "metadata": {},
   "outputs": [
    {
     "data": {
      "text/plain": [
       "2    43\n",
       "3    56\n",
       "4    78\n",
       "Name: MyColumn, dtype: int64"
      ]
     },
     "execution_count": 280,
     "metadata": {},
     "output_type": "execute_result"
    }
   ],
   "source": [
    "s1.loc[2:4]"
   ]
  },
  {
   "cell_type": "code",
   "execution_count": 281,
   "metadata": {},
   "outputs": [],
   "source": [
    "s2 = pd.Series(l1, name = 'MyColumn', index = ['a', 'b', 'c', 'd', 'e', 'f'])"
   ]
  },
  {
   "cell_type": "code",
   "execution_count": 282,
   "metadata": {},
   "outputs": [
    {
     "data": {
      "text/plain": [
       "a    23\n",
       "b    43\n",
       "c    56\n",
       "d    78\n",
       "e    87\n",
       "f    54\n",
       "Name: MyColumn, dtype: int64"
      ]
     },
     "execution_count": 282,
     "metadata": {},
     "output_type": "execute_result"
    }
   ],
   "source": [
    "s2"
   ]
  },
  {
   "cell_type": "code",
   "execution_count": 285,
   "metadata": {},
   "outputs": [
    {
     "data": {
      "text/plain": [
       "78"
      ]
     },
     "execution_count": 285,
     "metadata": {},
     "output_type": "execute_result"
    }
   ],
   "source": [
    "s2.loc['d']"
   ]
  },
  {
   "cell_type": "code",
   "execution_count": 288,
   "metadata": {
    "scrolled": false
   },
   "outputs": [
    {
     "name": "stderr",
     "output_type": "stream",
     "text": [
      "C:\\Users\\admin\\Anaconda3\\lib\\site-packages\\ipykernel_launcher.py:1: DeprecationWarning: \n",
      ".ix is deprecated. Please use\n",
      ".loc for label based indexing or\n",
      ".iloc for positional indexing\n",
      "\n",
      "See the documentation here:\n",
      "http://pandas.pydata.org/pandas-docs/stable/indexing.html#ix-indexer-is-deprecated\n",
      "  \"\"\"Entry point for launching an IPython kernel.\n"
     ]
    },
    {
     "data": {
      "text/plain": [
       "56"
      ]
     },
     "execution_count": 288,
     "metadata": {},
     "output_type": "execute_result"
    }
   ],
   "source": [
    "s2.ix['c']"
   ]
  },
  {
   "cell_type": "code",
   "execution_count": 291,
   "metadata": {},
   "outputs": [],
   "source": [
    "a1 = np.array(l1)"
   ]
  },
  {
   "cell_type": "code",
   "execution_count": 292,
   "metadata": {},
   "outputs": [
    {
     "data": {
      "text/plain": [
       "0    23\n",
       "1    43\n",
       "2    56\n",
       "3    78\n",
       "4    87\n",
       "5    54\n",
       "dtype: int32"
      ]
     },
     "execution_count": 292,
     "metadata": {},
     "output_type": "execute_result"
    }
   ],
   "source": [
    "pd.Series(a1)"
   ]
  },
  {
   "cell_type": "code",
   "execution_count": 239,
   "metadata": {},
   "outputs": [],
   "source": [
    "# import pandas\n",
    "import pandas as pd\n",
    "\n",
    "# create pandas series from defalut python data structures: list/tuple\n",
    "\n",
    "# create user defined numerical indexes for pandas Series\n",
    "\n",
    "# create user defined alphabatical indexes for pandas Series\n",
    "\n",
    "# create pandas series from defalut python data structures: dict\n",
    "\n",
    "# If both a dict and index sequence are used, the index will override the keys found in the dict.\n",
    "\n",
    "# create pandas series from numpy 1d arrays"
   ]
  },
  {
   "cell_type": "code",
   "execution_count": null,
   "metadata": {},
   "outputs": [],
   "source": []
  },
  {
   "cell_type": "code",
   "execution_count": 92,
   "metadata": {},
   "outputs": [],
   "source": [
    "# import pandas\n",
    "import pandas as pd"
   ]
  },
  {
   "cell_type": "code",
   "execution_count": 93,
   "metadata": {},
   "outputs": [],
   "source": [
    "l1 = [24, 65, 34, 76, 98, 67]"
   ]
  },
  {
   "cell_type": "code",
   "execution_count": 21,
   "metadata": {},
   "outputs": [],
   "source": [
    "t1 = (44, 66, 65, 17, 94, 32, 88, 12, 29, 40)"
   ]
  },
  {
   "cell_type": "code",
   "execution_count": 179,
   "metadata": {},
   "outputs": [],
   "source": [
    "d1 = {'Emp ID': 1001, 'Emp Name': 'John Shaw', 'Dept': 'Finance', 'Salary': 10000}"
   ]
  },
  {
   "cell_type": "code",
   "execution_count": 23,
   "metadata": {},
   "outputs": [],
   "source": [
    "# create pandas series from defalut python data structures: list/tuple\n",
    "s1 = pd.Series(l1)\n",
    "s2 = pd.Series(t1)"
   ]
  },
  {
   "cell_type": "code",
   "execution_count": 86,
   "metadata": {},
   "outputs": [],
   "source": [
    "# create user defined numerical indexes for Series\n",
    "s3 = pd.Series(l1, index = [1, 2, 3, 4, 5, 6])"
   ]
  },
  {
   "cell_type": "code",
   "execution_count": 98,
   "metadata": {},
   "outputs": [],
   "source": [
    "s3 = pd.Series(l1, index = range(1, 7))"
   ]
  },
  {
   "cell_type": "code",
   "execution_count": 76,
   "metadata": {},
   "outputs": [],
   "source": [
    "# create user defined alphabatical indexes for Series\n",
    "s4 = pd.Series(l1, index = ['a', 'b', 'c', 'd', 'e', 'f'])"
   ]
  },
  {
   "cell_type": "code",
   "execution_count": 77,
   "metadata": {},
   "outputs": [],
   "source": [
    "# create pandas series from defalut python data structures: dict\n",
    "s5 = pd.Series(d1)"
   ]
  },
  {
   "cell_type": "code",
   "execution_count": 87,
   "metadata": {},
   "outputs": [],
   "source": [
    "# index in case of dict can only be used to reorder the elements in the series.\n",
    "# any other value will add new element in series with NaN\n",
    "s6 = pd.Series(d1, index = ['a', 'b', 'c', 'd'])"
   ]
  },
  {
   "cell_type": "code",
   "execution_count": 55,
   "metadata": {
    "scrolled": true
   },
   "outputs": [],
   "source": [
    "# create pandas series from numpy 1d arrays\n",
    "import numpy as np\n",
    "a1 = np.array(l1)"
   ]
  },
  {
   "cell_type": "code",
   "execution_count": 94,
   "metadata": {},
   "outputs": [],
   "source": [
    "s7 = pd.Series(a1, index = ('a', 'b', 'c', 'd', 'e', 'f'))"
   ]
  },
  {
   "cell_type": "markdown",
   "metadata": {},
   "source": [
    "### Slicing & Indexing data: accessing the data from pandas series\n",
    "> 0. **Using square brackets [ ]**\n",
    "> 1. Using default indexes: .iloc[ ]\n",
    "> 2. Using user defined indexes: .loc[ ]"
   ]
  },
  {
   "cell_type": "code",
   "execution_count": 151,
   "metadata": {},
   "outputs": [],
   "source": [
    "# create pandas series\n",
    "l1 = [24, 65, 34, 76, 98, 67]\n",
    "s1 = pd.Series(l1, index = ['a', 'b', 'c', 'd', 'e', 'f'])\n",
    "\n",
    "# get the third element from the series\n",
    "\n",
    "# get the elements at default index position from 3 till 5\n",
    "\n",
    "# get the elements where vlaue is greater than 50\n",
    "\n",
    "# there is no way we can do slicing of the data with user defined indexes; thus loc and iloc are used\n",
    "\n",
    "# slicing using .iloc\n",
    "\n",
    "# slicing using .loc\n",
    "\n",
    "# indexing using .iloc: get the elements where vlaue is greater than 50\n",
    "\n",
    "# indexing using .loc: get the elements where vlaue is greater than 50\n",
    "\n",
    "# indexing on multiple conditions: get the elements where vlaue is greater than 50 and less than 90\n"
   ]
  },
  {
   "cell_type": "code",
   "execution_count": 314,
   "metadata": {
    "scrolled": true
   },
   "outputs": [
    {
     "data": {
      "text/plain": [
       "a    23\n",
       "b    43\n",
       "c    56\n",
       "d    78\n",
       "e    87\n",
       "f    54\n",
       "Name: mycolumn, dtype: int64"
      ]
     },
     "execution_count": 314,
     "metadata": {},
     "output_type": "execute_result"
    }
   ],
   "source": [
    "s1 = pd.Series(l1, index = ['a', 'b', 'c', 'd', 'e', 'f'], name = 'mycolumn')\n",
    "s1"
   ]
  },
  {
   "cell_type": "code",
   "execution_count": 295,
   "metadata": {},
   "outputs": [
    {
     "data": {
      "text/plain": [
       "a    False\n",
       "b    False\n",
       "c     True\n",
       "d     True\n",
       "e     True\n",
       "f     True\n",
       "dtype: bool"
      ]
     },
     "execution_count": 295,
     "metadata": {},
     "output_type": "execute_result"
    }
   ],
   "source": [
    "s1 > 50"
   ]
  },
  {
   "cell_type": "code",
   "execution_count": 302,
   "metadata": {},
   "outputs": [
    {
     "data": {
      "text/plain": [
       "a    23\n",
       "b    43\n",
       "c    56\n",
       "f    54\n",
       "dtype: int64"
      ]
     },
     "execution_count": 302,
     "metadata": {},
     "output_type": "execute_result"
    }
   ],
   "source": [
    "# indexing using .loc: get the elements where vlaue is greater than 50\n",
    "s1.loc[s1 < 60]"
   ]
  },
  {
   "cell_type": "code",
   "execution_count": 303,
   "metadata": {},
   "outputs": [
    {
     "data": {
      "text/plain": [
       "a    23\n",
       "b    43\n",
       "c    56\n",
       "f    54\n",
       "dtype: int64"
      ]
     },
     "execution_count": 303,
     "metadata": {},
     "output_type": "execute_result"
    }
   ],
   "source": [
    "s1.iloc[list(s1 < 60)]"
   ]
  },
  {
   "cell_type": "code",
   "execution_count": 304,
   "metadata": {
    "scrolled": true
   },
   "outputs": [
    {
     "data": {
      "text/plain": [
       "a    23\n",
       "b    43\n",
       "c    56\n",
       "d    78\n",
       "e    87\n",
       "f    54\n",
       "dtype: int64"
      ]
     },
     "execution_count": 304,
     "metadata": {},
     "output_type": "execute_result"
    }
   ],
   "source": [
    "s1"
   ]
  },
  {
   "cell_type": "code",
   "execution_count": 306,
   "metadata": {},
   "outputs": [
    {
     "data": {
      "text/plain": [
       "a    False\n",
       "b    False\n",
       "c     True\n",
       "d     True\n",
       "e     True\n",
       "f     True\n",
       "dtype: bool"
      ]
     },
     "execution_count": 306,
     "metadata": {},
     "output_type": "execute_result"
    }
   ],
   "source": [
    "(s1 > 50) & (s1 < 90)"
   ]
  },
  {
   "cell_type": "code",
   "execution_count": 307,
   "metadata": {},
   "outputs": [
    {
     "data": {
      "text/plain": [
       "c    56\n",
       "d    78\n",
       "e    87\n",
       "f    54\n",
       "dtype: int64"
      ]
     },
     "execution_count": 307,
     "metadata": {},
     "output_type": "execute_result"
    }
   ],
   "source": [
    "# indexing on multiple conditions: get the elements where vlaue is greater than 50 and less than 90\n",
    "s1[(s1 > 50) & (s1 < 90)]"
   ]
  },
  {
   "cell_type": "code",
   "execution_count": 308,
   "metadata": {},
   "outputs": [
    {
     "data": {
      "text/plain": [
       "c    56\n",
       "d    78\n",
       "e    87\n",
       "f    54\n",
       "dtype: int64"
      ]
     },
     "execution_count": 308,
     "metadata": {},
     "output_type": "execute_result"
    }
   ],
   "source": [
    "s1.loc[(s1 > 50) & (s1 < 90)]"
   ]
  },
  {
   "cell_type": "code",
   "execution_count": 309,
   "metadata": {},
   "outputs": [
    {
     "data": {
      "text/plain": [
       "c    56\n",
       "d    78\n",
       "e    87\n",
       "f    54\n",
       "dtype: int64"
      ]
     },
     "execution_count": 309,
     "metadata": {},
     "output_type": "execute_result"
    }
   ],
   "source": [
    "s1.iloc[list((s1 > 50) & (s1 < 90))]"
   ]
  },
  {
   "cell_type": "code",
   "execution_count": 118,
   "metadata": {},
   "outputs": [],
   "source": [
    "# get the third element from the series\n",
    "s1[2]"
   ]
  },
  {
   "cell_type": "code",
   "execution_count": 119,
   "metadata": {},
   "outputs": [],
   "source": [
    "# get the third till fifth elements from the series\n",
    "s1[2:5]"
   ]
  },
  {
   "cell_type": "code",
   "execution_count": 143,
   "metadata": {},
   "outputs": [],
   "source": [
    "# get the elements where vlaue is greater than 50\n",
    "s1 [s1 > 50]"
   ]
  },
  {
   "cell_type": "code",
   "execution_count": 150,
   "metadata": {},
   "outputs": [],
   "source": [
    "s1.iloc[list((s1 > 50) & (s1 < 90))]"
   ]
  },
  {
   "cell_type": "code",
   "execution_count": 316,
   "metadata": {},
   "outputs": [],
   "source": [
    "s1.to_csv?"
   ]
  },
  {
   "cell_type": "code",
   "execution_count": 317,
   "metadata": {},
   "outputs": [],
   "source": [
    "s1.to_csv('myseries.csv', header = True)"
   ]
  },
  {
   "cell_type": "markdown",
   "metadata": {},
   "source": [
    "### Create pandas DataFrame - 2d ds\n",
    "- from defalut python data structures\n",
    "- from pandas series\n",
    "- from numpy arrays\n",
    "- import the data from external files or databases"
   ]
  },
  {
   "cell_type": "code",
   "execution_count": 318,
   "metadata": {},
   "outputs": [
    {
     "data": {
      "text/plain": [
       "[23, 43, 56, 78, 87, 54]"
      ]
     },
     "execution_count": 318,
     "metadata": {},
     "output_type": "execute_result"
    }
   ],
   "source": [
    "l1"
   ]
  },
  {
   "cell_type": "code",
   "execution_count": 321,
   "metadata": {
    "scrolled": true
   },
   "outputs": [
    {
     "data": {
      "text/html": [
       "<div>\n",
       "<style scoped>\n",
       "    .dataframe tbody tr th:only-of-type {\n",
       "        vertical-align: middle;\n",
       "    }\n",
       "\n",
       "    .dataframe tbody tr th {\n",
       "        vertical-align: top;\n",
       "    }\n",
       "\n",
       "    .dataframe thead th {\n",
       "        text-align: right;\n",
       "    }\n",
       "</style>\n",
       "<table border=\"1\" class=\"dataframe\">\n",
       "  <thead>\n",
       "    <tr style=\"text-align: right;\">\n",
       "      <th></th>\n",
       "      <th>0</th>\n",
       "    </tr>\n",
       "  </thead>\n",
       "  <tbody>\n",
       "    <tr>\n",
       "      <th>0</th>\n",
       "      <td>23</td>\n",
       "    </tr>\n",
       "    <tr>\n",
       "      <th>1</th>\n",
       "      <td>43</td>\n",
       "    </tr>\n",
       "    <tr>\n",
       "      <th>2</th>\n",
       "      <td>56</td>\n",
       "    </tr>\n",
       "    <tr>\n",
       "      <th>3</th>\n",
       "      <td>78</td>\n",
       "    </tr>\n",
       "    <tr>\n",
       "      <th>4</th>\n",
       "      <td>87</td>\n",
       "    </tr>\n",
       "    <tr>\n",
       "      <th>5</th>\n",
       "      <td>54</td>\n",
       "    </tr>\n",
       "  </tbody>\n",
       "</table>\n",
       "</div>"
      ],
      "text/plain": [
       "    0\n",
       "0  23\n",
       "1  43\n",
       "2  56\n",
       "3  78\n",
       "4  87\n",
       "5  54"
      ]
     },
     "execution_count": 321,
     "metadata": {},
     "output_type": "execute_result"
    }
   ],
   "source": [
    "# create a dataframe from the list/tuple\n",
    "pd.DataFrame(t1)"
   ]
  },
  {
   "cell_type": "code",
   "execution_count": 322,
   "metadata": {},
   "outputs": [],
   "source": [
    "d1 = {'EmpID': [1001, 1002, 1003, 1004],\n",
    "         'Emp Name': ['Mike', 'John', 'Lee', 'Andrina'],\n",
    "             'Dept': ['HR', 'IT', 'IT', 'Finance'],\n",
    "                 'Salary': [10000, 12000, 14000, 13000]}"
   ]
  },
  {
   "cell_type": "code",
   "execution_count": 323,
   "metadata": {},
   "outputs": [
    {
     "data": {
      "text/plain": [
       "{'EmpID': [1001, 1002, 1003, 1004],\n",
       " 'Emp Name': ['Mike', 'John', 'Lee', 'Andrina'],\n",
       " 'Dept': ['HR', 'IT', 'IT', 'Finance'],\n",
       " 'Salary': [10000, 12000, 14000, 13000]}"
      ]
     },
     "execution_count": 323,
     "metadata": {},
     "output_type": "execute_result"
    }
   ],
   "source": [
    "d1"
   ]
  },
  {
   "cell_type": "code",
   "execution_count": 329,
   "metadata": {
    "scrolled": true
   },
   "outputs": [
    {
     "data": {
      "text/html": [
       "<div>\n",
       "<style scoped>\n",
       "    .dataframe tbody tr th:only-of-type {\n",
       "        vertical-align: middle;\n",
       "    }\n",
       "\n",
       "    .dataframe tbody tr th {\n",
       "        vertical-align: top;\n",
       "    }\n",
       "\n",
       "    .dataframe thead th {\n",
       "        text-align: right;\n",
       "    }\n",
       "</style>\n",
       "<table border=\"1\" class=\"dataframe\">\n",
       "  <thead>\n",
       "    <tr style=\"text-align: right;\">\n",
       "      <th></th>\n",
       "      <th>EmpID</th>\n",
       "      <th>Emp Name</th>\n",
       "      <th>Dept</th>\n",
       "      <th>Salary</th>\n",
       "    </tr>\n",
       "  </thead>\n",
       "  <tbody>\n",
       "    <tr>\n",
       "      <th>1</th>\n",
       "      <td>1001</td>\n",
       "      <td>Mike</td>\n",
       "      <td>HR</td>\n",
       "      <td>10000</td>\n",
       "    </tr>\n",
       "    <tr>\n",
       "      <th>2</th>\n",
       "      <td>1002</td>\n",
       "      <td>John</td>\n",
       "      <td>IT</td>\n",
       "      <td>12000</td>\n",
       "    </tr>\n",
       "    <tr>\n",
       "      <th>3</th>\n",
       "      <td>1003</td>\n",
       "      <td>Lee</td>\n",
       "      <td>IT</td>\n",
       "      <td>14000</td>\n",
       "    </tr>\n",
       "    <tr>\n",
       "      <th>4</th>\n",
       "      <td>1004</td>\n",
       "      <td>Andrina</td>\n",
       "      <td>Finance</td>\n",
       "      <td>13000</td>\n",
       "    </tr>\n",
       "  </tbody>\n",
       "</table>\n",
       "</div>"
      ],
      "text/plain": [
       "   EmpID Emp Name     Dept  Salary\n",
       "1   1001     Mike       HR   10000\n",
       "2   1002     John       IT   12000\n",
       "3   1003      Lee       IT   14000\n",
       "4   1004  Andrina  Finance   13000"
      ]
     },
     "execution_count": 329,
     "metadata": {},
     "output_type": "execute_result"
    }
   ],
   "source": [
    "pd.DataFrame(d1, index = range(1, 5))"
   ]
  },
  {
   "cell_type": "code",
   "execution_count": 330,
   "metadata": {},
   "outputs": [],
   "source": [
    "# create a dataframe from pandas series\n",
    "s1 = pd.Series([1001, 1002, 1003, 1004, 1005, 1006, 1007, 1008], name = 'EmpId', dtype = int)"
   ]
  },
  {
   "cell_type": "code",
   "execution_count": 331,
   "metadata": {},
   "outputs": [],
   "source": [
    "s2 = pd.Series(['John', 'Mac', 'Raj', 'Tim', 'Lee', 'Sam', 'Kim', 'Joe'], name = 'EmpName', dtype = object)"
   ]
  },
  {
   "cell_type": "code",
   "execution_count": 332,
   "metadata": {},
   "outputs": [],
   "source": [
    "s3 = pd.Series(['Finance', 'HR', 'IT', 'IT', 'IT', 'IT', 'Finance', 'HR'], name = 'Dept', dtype = object)"
   ]
  },
  {
   "cell_type": "code",
   "execution_count": 333,
   "metadata": {},
   "outputs": [],
   "source": [
    "s4 = pd.Series([10000, 12000, 10000, 12000, 14000, 13000, 10000, 18000], name = 'Salary', dtype = int)"
   ]
  },
  {
   "cell_type": "code",
   "execution_count": 334,
   "metadata": {},
   "outputs": [
    {
     "data": {
      "text/plain": [
       "0    1001\n",
       "1    1002\n",
       "2    1003\n",
       "3    1004\n",
       "4    1005\n",
       "5    1006\n",
       "6    1007\n",
       "7    1008\n",
       "Name: EmpId, dtype: int32"
      ]
     },
     "execution_count": 334,
     "metadata": {},
     "output_type": "execute_result"
    }
   ],
   "source": [
    "s1"
   ]
  },
  {
   "cell_type": "code",
   "execution_count": 335,
   "metadata": {},
   "outputs": [
    {
     "data": {
      "text/plain": [
       "0    John\n",
       "1     Mac\n",
       "2     Raj\n",
       "3     Tim\n",
       "4     Lee\n",
       "5     Sam\n",
       "6     Kim\n",
       "7     Joe\n",
       "Name: EmpName, dtype: object"
      ]
     },
     "execution_count": 335,
     "metadata": {},
     "output_type": "execute_result"
    }
   ],
   "source": [
    "s2"
   ]
  },
  {
   "cell_type": "code",
   "execution_count": 346,
   "metadata": {},
   "outputs": [],
   "source": [
    "df1 = pd.DataFrame([s1, s2, s3, s4]).T"
   ]
  },
  {
   "cell_type": "code",
   "execution_count": null,
   "metadata": {},
   "outputs": [],
   "source": [
    "df1."
   ]
  },
  {
   "cell_type": "code",
   "execution_count": 319,
   "metadata": {},
   "outputs": [
    {
     "data": {
      "text/html": [
       "<div>\n",
       "<style scoped>\n",
       "    .dataframe tbody tr th:only-of-type {\n",
       "        vertical-align: middle;\n",
       "    }\n",
       "\n",
       "    .dataframe tbody tr th {\n",
       "        vertical-align: top;\n",
       "    }\n",
       "\n",
       "    .dataframe thead th {\n",
       "        text-align: right;\n",
       "    }\n",
       "</style>\n",
       "<table border=\"1\" class=\"dataframe\">\n",
       "  <thead>\n",
       "    <tr style=\"text-align: right;\">\n",
       "      <th></th>\n",
       "      <th>0</th>\n",
       "    </tr>\n",
       "  </thead>\n",
       "  <tbody>\n",
       "    <tr>\n",
       "      <th>0</th>\n",
       "      <td>23</td>\n",
       "    </tr>\n",
       "    <tr>\n",
       "      <th>1</th>\n",
       "      <td>43</td>\n",
       "    </tr>\n",
       "    <tr>\n",
       "      <th>2</th>\n",
       "      <td>56</td>\n",
       "    </tr>\n",
       "    <tr>\n",
       "      <th>3</th>\n",
       "      <td>78</td>\n",
       "    </tr>\n",
       "    <tr>\n",
       "      <th>4</th>\n",
       "      <td>87</td>\n",
       "    </tr>\n",
       "    <tr>\n",
       "      <th>5</th>\n",
       "      <td>54</td>\n",
       "    </tr>\n",
       "  </tbody>\n",
       "</table>\n",
       "</div>"
      ],
      "text/plain": [
       "    0\n",
       "0  23\n",
       "1  43\n",
       "2  56\n",
       "3  78\n",
       "4  87\n",
       "5  54"
      ]
     },
     "execution_count": 319,
     "metadata": {},
     "output_type": "execute_result"
    }
   ],
   "source": [
    "# create a dataframe from dict\n",
    "\n",
    "# create a dataframe from pandas series\n",
    "\n",
    "# create a dataframe from numpy arrays\n",
    "\n",
    "# create a dataframe using file import\n"
   ]
  },
  {
   "cell_type": "code",
   "execution_count": null,
   "metadata": {},
   "outputs": [],
   "source": [
    "# create a dataframe from dict\n",
    "d1 = {'Emp ID': [1001, 1002, 1003, 1004, 1005, 1006, 1007, 1008], \n",
    "      'Emp Name': ['John', 'Mac', 'Andrew', 'Andrina', 'Lee', 'Sam', 'Kim', 'Leena'], \n",
    "      'Dept': ['Finance', 'HR', 'IT', 'IT', 'IT', 'IT', 'Finance', 'HR'], \n",
    "      'Salary': [10000, 12000, 10000, 12000, 14000, 13000, 10000, 18000]}\n",
    "pd.DataFrame(d1, index = range(1, 9))"
   ]
  },
  {
   "cell_type": "code",
   "execution_count": 222,
   "metadata": {},
   "outputs": [],
   "source": [
    "# create a dataframe from pandas series\n",
    "s1 = pd.Series([1001, 1002, 1003, 1004, 1005, 1006, 1007, 1008], name = 'EmpId', dtype = int, index = range(1, 9))\n",
    "s2 = pd.Series(['John', 'Mac', 'Raj', 'Tim', 'Lee', 'Sam', 'Kim', 'Joe'], name = 'EmpName', dtype = object, index = range(1, 9))\n",
    "s3 = pd.Series(['Finance', 'HR', 'IT', 'IT', 'IT', 'IT', 'Finance', 'HR'], name = 'Dept', dtype = object, index = range(1, 9))\n",
    "s4 = pd.Series([10000, 12000, 10000, 12000, 14000, 13000, 10000, 18000], name = 'Salary', dtype = int, index = range(1, 9))\n",
    "df1 = pd.DataFrame([s1, s2, s3, s4])"
   ]
  },
  {
   "cell_type": "code",
   "execution_count": 224,
   "metadata": {},
   "outputs": [],
   "source": [
    "a1 = np.full((3,3), 10)"
   ]
  },
  {
   "cell_type": "code",
   "execution_count": 232,
   "metadata": {},
   "outputs": [
    {
     "data": {
      "text/html": [
       "<div>\n",
       "<style scoped>\n",
       "    .dataframe tbody tr th:only-of-type {\n",
       "        vertical-align: middle;\n",
       "    }\n",
       "\n",
       "    .dataframe tbody tr th {\n",
       "        vertical-align: top;\n",
       "    }\n",
       "\n",
       "    .dataframe thead th {\n",
       "        text-align: right;\n",
       "    }\n",
       "</style>\n",
       "<table border=\"1\" class=\"dataframe\">\n",
       "  <thead>\n",
       "    <tr style=\"text-align: right;\">\n",
       "      <th></th>\n",
       "      <th>col1</th>\n",
       "      <th>col2</th>\n",
       "      <th>col3</th>\n",
       "    </tr>\n",
       "  </thead>\n",
       "  <tbody>\n",
       "    <tr>\n",
       "      <th>0</th>\n",
       "      <td>10</td>\n",
       "      <td>10</td>\n",
       "      <td>10</td>\n",
       "    </tr>\n",
       "    <tr>\n",
       "      <th>1</th>\n",
       "      <td>10</td>\n",
       "      <td>10</td>\n",
       "      <td>10</td>\n",
       "    </tr>\n",
       "    <tr>\n",
       "      <th>2</th>\n",
       "      <td>10</td>\n",
       "      <td>10</td>\n",
       "      <td>10</td>\n",
       "    </tr>\n",
       "  </tbody>\n",
       "</table>\n",
       "</div>"
      ],
      "text/plain": [
       "   col1  col2  col3\n",
       "0    10    10    10\n",
       "1    10    10    10\n",
       "2    10    10    10"
      ]
     },
     "execution_count": 232,
     "metadata": {},
     "output_type": "execute_result"
    }
   ],
   "source": [
    "pd.DataFrame(a1, columns = ['col1', 'col2', 'col3'])"
   ]
  },
  {
   "cell_type": "code",
   "execution_count": null,
   "metadata": {},
   "outputs": [],
   "source": []
  },
  {
   "cell_type": "code",
   "execution_count": null,
   "metadata": {},
   "outputs": [],
   "source": []
  },
  {
   "cell_type": "markdown",
   "metadata": {},
   "source": [
    "### Data Import from external sources\n",
    "1. know what file type you're about to import\n",
    "2. know file path/name.ext\n",
    "\n",
    "#### list of functions - read_XXXXXX\n",
    "\n",
    "1. csv\n",
    "\ta. read_csv()\n",
    "\tb. \"C:/My Documents/DataSets/store.csv\"\n",
    "\n",
    "2. excel\n",
    "\ta. read_excel()\n",
    "\tb. file path, name, ext\n",
    "\tc. which sheet \"name\" or ix - by default - first sheet\n",
    "\n",
    "3. sas data files\n",
    "4. connect with a dbms - MySQL or MS SQL Server\n",
    "\n",
    "\n",
    "### Data Manipulations\n",
    "\n",
    "#### Structural\n",
    "1. Change datatypes of columns\n",
    "2. Rename columns\n",
    "3. Re arrange columns\n",
    "4. Adding a new column\n",
    "5. Delete a column\n",
    "\n",
    "\n",
    "#### Content Based\n",
    "1. filters\n",
    "2. sort\n",
    "3. removal of duplicates\n",
    "4. handling missing values\n",
    "5. binning\n",
    "6. merging\n",
    "7. aggregations\n",
    "\n",
    "#### Basic Explratory Analysis"
   ]
  }
 ],
 "metadata": {
  "kernelspec": {
   "display_name": "Python 3",
   "language": "python",
   "name": "python3"
  },
  "language_info": {
   "codemirror_mode": {
    "name": "ipython",
    "version": 3
   },
   "file_extension": ".py",
   "mimetype": "text/x-python",
   "name": "python",
   "nbconvert_exporter": "python",
   "pygments_lexer": "ipython3",
   "version": "3.7.3"
  }
 },
 "nbformat": 4,
 "nbformat_minor": 2
}
