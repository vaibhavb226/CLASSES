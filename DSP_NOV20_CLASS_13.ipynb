{
 "cells": [
  {
   "cell_type": "raw",
   "metadata": {},
   "source": [
    "subsetting\n",
    ".iloc[:, ], .loc[:, ], .columnname, []\n",
    "\n",
    "reorder\n",
    ".iloc[:, ], .loc[:, ], []\n",
    "\n",
    "rename\n",
    ".rename( columns = {}, inplace = )\n",
    "\n",
    "add new columns\n",
    ".assign()\n",
    ".loc[:, ] = \n",
    "[] =\n",
    "\n",
    "drop the columns\n",
    ".drop( columns = [], inplace = )\n",
    "\n",
    "data type: not discussed\n",
    "\n",
    "filters\n",
    "manual: .head(), .tail(), [] - use as slicers, .loc[], .iloc[]\n",
    "conditional: [], .loc[]\n",
    "\n",
    "bitwise operators: & | ~\n",
    "\n",
    "sorting\n",
    ".sort_values( by = [], ascending = [], inplace = , ignore_index = , kind = , na_position = )\n",
    ".sort_index( axis = , ascending = [], inplace = , ignore_index =  )\n",
    "\n",
    "duplicates\n",
    ".drop_duplicates( subset = [], keep = , inplace = , ignore_index = )\n",
    ".duplicated( subset = [], keep = ) "
   ]
  },
  {
   "cell_type": "markdown",
   "metadata": {},
   "source": [
    "### Topics for today!!"
   ]
  },
  {
   "cell_type": "raw",
   "metadata": {},
   "source": [
    "outliers : that should be looked into in a Series\n",
    "    EDA - outlier detection\n",
    "        boxplot | IQR\n",
    "        quantile | Percentiles\n",
    "        STD\n",
    "        \n",
    "    Data Prep - outlier treatment\n",
    "        .clip( lower = , upper = , inplace = )\n",
    "        \n",
    "        Not available in latest version of pandas\n",
    "        .clip_lower()\n",
    "        .clip_upper()\n",
    "\n",
    "missings\n",
    "    EDA - .isna(), .isnull(), .notna(), .notnull(), .count(), %age of missings\n",
    "    \n",
    "    Treatment:\n",
    "    Drop the rows : .dropna( axis = 0 )\n",
    "    Drop the columns : .dropna( axis = 1 )\n",
    "    Missing value imputation\n",
    "        1. static data\n",
    "        2. central tendencies : mean, median, mode\n",
    "        3. predicted values\n",
    "\n",
    "Summaries of the data\n",
    "    .groupby() | aggregate functions\n",
    "    .pivot_table()\n",
    "    \n",
    "    pd.crosstab()"
   ]
  },
  {
   "cell_type": "markdown",
   "metadata": {},
   "source": [
    "#### outliers"
   ]
  },
  {
   "cell_type": "raw",
   "metadata": {},
   "source": [
    "IQR (Inter Quartile Range) method:  boxplot and wiskers\n",
    "    --------------------------------------------------\n",
    "\n",
    "5 point summary\n",
    "min, q1, q2, q3, max\n",
    "\n",
    "iqr = q3 - q1    or\n",
    "iqr = p75 - p25\n",
    "\n",
    "lc = q1 - 1.5 * iqr\n",
    "uc = q3 + 1.5 * iqr\n",
    "\n",
    "\n",
    "\n",
    "Percentile method\n",
    "    ---------------------------------------------------\n",
    "\n",
    "lc = p1\n",
    "uc = p99\n",
    "\n",
    "\n",
    "\n",
    "Std Dev. Method\n",
    "    ---------------------------------------------------\n",
    "    \n",
    "lc = mean - 2.5 * std.\n",
    "uc = mean + 2.5 * std.\n",
    "\n",
    "lc = mean - 3 * std.\n",
    "uc = mean + 3 * std."
   ]
  },
  {
   "cell_type": "code",
   "execution_count": 1,
   "metadata": {},
   "outputs": [],
   "source": [
    "import pandas as pd"
   ]
  },
  {
   "cell_type": "code",
   "execution_count": 3,
   "metadata": {},
   "outputs": [],
   "source": [
    "stores = pd.read_csv('D:/SampleData/stores.csv')"
   ]
  },
  {
   "cell_type": "code",
   "execution_count": 6,
   "metadata": {},
   "outputs": [
    {
     "name": "stdout",
     "output_type": "stream",
     "text": [
      "71.1 472.0\n"
     ]
    }
   ],
   "source": [
    "print(stores.TotalSales.min(), stores.TotalSales.max())"
   ]
  },
  {
   "cell_type": "code",
   "execution_count": 13,
   "metadata": {},
   "outputs": [
    {
     "data": {
      "text/plain": [
       "Index(['StoreCode', 'StoreName', 'StoreType', 'Location', 'OperatingCost',\n",
       "       'Staff_Cnt', 'TotalSales', 'Total_Customers', 'AcqCostPercust',\n",
       "       'BasketSize', 'ProfitPercust', 'OwnStore', 'OnlinePresence', 'Tenure',\n",
       "       'StoreSegment'],\n",
       "      dtype='object')"
      ]
     },
     "execution_count": 13,
     "metadata": {},
     "output_type": "execute_result"
    }
   ],
   "source": [
    "stores.columns"
   ]
  },
  {
   "cell_type": "code",
   "execution_count": 9,
   "metadata": {},
   "outputs": [
    {
     "name": "stdout",
     "output_type": "stream",
     "text": [
      "72.526 468.28000000000003\n"
     ]
    },
    {
     "data": {
      "text/plain": [
       "0     160.000\n",
       "1     160.000\n",
       "2     108.000\n",
       "3     258.000\n",
       "4     360.000\n",
       "5     225.000\n",
       "6     360.000\n",
       "7     146.700\n",
       "8     140.800\n",
       "9     167.600\n",
       "10    167.600\n",
       "11    275.800\n",
       "12    275.800\n",
       "13    275.800\n",
       "14    468.280\n",
       "15    460.000\n",
       "16    440.000\n",
       "17     78.700\n",
       "18     75.700\n",
       "19     72.526\n",
       "20    120.100\n",
       "21    318.000\n",
       "22    304.000\n",
       "23    350.000\n",
       "24    400.000\n",
       "25     79.000\n",
       "26    120.300\n",
       "27     95.100\n",
       "28    351.000\n",
       "29    145.000\n",
       "30    301.000\n",
       "31    121.000\n",
       "Name: TotalSales, dtype: float64"
      ]
     },
     "execution_count": 9,
     "metadata": {},
     "output_type": "execute_result"
    }
   ],
   "source": [
    "# Method 1: Percentile\n",
    "lc = stores.TotalSales.quantile(0.01)\n",
    "uc = stores.TotalSales.quantile(0.99)\n",
    "\n",
    "print(lc, uc)\n",
    "\n",
    "stores.TotalSales.clip( lower = lc, upper = uc )"
   ]
  },
  {
   "cell_type": "code",
   "execution_count": 15,
   "metadata": {},
   "outputs": [
    {
     "name": "stdout",
     "output_type": "stream",
     "text": [
      "52 335\n",
      "-28.75 305.25\n"
     ]
    },
    {
     "data": {
      "text/plain": [
       "0     110.00\n",
       "1     110.00\n",
       "2      93.00\n",
       "3     110.00\n",
       "4     175.00\n",
       "5     105.00\n",
       "6     245.00\n",
       "7      62.00\n",
       "8      95.00\n",
       "9     123.00\n",
       "10    123.00\n",
       "11    180.00\n",
       "12    180.00\n",
       "13    180.00\n",
       "14    205.00\n",
       "15    215.00\n",
       "16    230.00\n",
       "17     66.00\n",
       "18     52.00\n",
       "19     65.00\n",
       "20     97.00\n",
       "21    150.00\n",
       "22    150.00\n",
       "23    245.00\n",
       "24    175.00\n",
       "25     66.00\n",
       "26     91.00\n",
       "27    113.00\n",
       "28    264.00\n",
       "29    175.00\n",
       "30    305.25\n",
       "31    109.00\n",
       "Name: Total_Customers, dtype: float64"
      ]
     },
     "execution_count": 15,
     "metadata": {},
     "output_type": "execute_result"
    }
   ],
   "source": [
    "# Method 2: IQR\n",
    "q1 = stores.Total_Customers.quantile(0.25)\n",
    "q3 = stores.Total_Customers.quantile(0.75)\n",
    "iqr = q3 - q1\n",
    "\n",
    "lc = q1 - 1.5 * iqr\n",
    "uc = q3 + 1.5 * iqr\n",
    "\n",
    "print(stores.Total_Customers.min(), stores.Total_Customers.max())\n",
    "print(lc, uc)\n",
    "\n",
    "stores.Total_Customers.clip( lower = lc, upper = uc )"
   ]
  },
  {
   "cell_type": "code",
   "execution_count": 12,
   "metadata": {},
   "outputs": [
    {
     "name": "stdout",
     "output_type": "stream",
     "text": [
      "-79.12485957845482 540.5686095784549\n"
     ]
    },
    {
     "data": {
      "text/plain": [
       "0     160.0\n",
       "1     160.0\n",
       "2     108.0\n",
       "3     258.0\n",
       "4     360.0\n",
       "5     225.0\n",
       "6     360.0\n",
       "7     146.7\n",
       "8     140.8\n",
       "9     167.6\n",
       "10    167.6\n",
       "11    275.8\n",
       "12    275.8\n",
       "13    275.8\n",
       "14    472.0\n",
       "15    460.0\n",
       "16    440.0\n",
       "17     78.7\n",
       "18     75.7\n",
       "19     71.1\n",
       "20    120.1\n",
       "21    318.0\n",
       "22    304.0\n",
       "23    350.0\n",
       "24    400.0\n",
       "25     79.0\n",
       "26    120.3\n",
       "27     95.1\n",
       "28    351.0\n",
       "29    145.0\n",
       "30    301.0\n",
       "31    121.0\n",
       "Name: TotalSales, dtype: float64"
      ]
     },
     "execution_count": 12,
     "metadata": {},
     "output_type": "execute_result"
    }
   ],
   "source": [
    "# Method 3: STD\n",
    "u = stores.TotalSales.mean()\n",
    "stddev = stores.TotalSales.std()\n",
    "\n",
    "lc = u - 2.5 * stddev\n",
    "uc = u + 2.5 * stddev\n",
    "\n",
    "print(lc, uc)\n",
    "\n",
    "stores.TotalSales.clip( lower = lc, upper = uc )"
   ]
  },
  {
   "cell_type": "markdown",
   "metadata": {},
   "source": [
    "### Missing Values | null | sysmiss | None | NaN or NaT"
   ]
  },
  {
   "cell_type": "raw",
   "metadata": {},
   "source": [
    "Identify the missings\n",
    ".isna(), .isnull(), .notna(), .notnull()\n",
    ".count()\n",
    "\n",
    "** Get the %age of missing values in every variable\n",
    "\n",
    "Missing value treatment\n",
    "    remove the rows with missings : .dropna( axis = 0 )\n",
    "    \n",
    "    remove the column / variable : .dropna( axis = 1 )\n",
    "    \n",
    "    missing value imputation: .fillna()\n",
    "        static\n",
    "        central tendency : mean, median, mode\n",
    "        predicive models to predict for the misisng values"
   ]
  },
  {
   "cell_type": "code",
   "execution_count": 34,
   "metadata": {},
   "outputs": [
    {
     "data": {
      "text/plain": [
       "StoreCode          0.00000\n",
       "StoreName          0.00000\n",
       "StoreType          0.00000\n",
       "Location           0.00000\n",
       "OperatingCost      0.00000\n",
       "Staff_Cnt          0.00000\n",
       "TotalSales         0.00000\n",
       "Total_Customers    0.00000\n",
       "AcqCostPercust     0.09375\n",
       "BasketSize         0.00000\n",
       "ProfitPercust      0.00000\n",
       "OwnStore           0.00000\n",
       "OnlinePresence     0.00000\n",
       "Tenure             0.00000\n",
       "StoreSegment       0.00000\n",
       "dtype: float64"
      ]
     },
     "execution_count": 34,
     "metadata": {},
     "output_type": "execute_result"
    }
   ],
   "source": [
    "stores.isna().sum() / stores.isna().count()"
   ]
  },
  {
   "cell_type": "code",
   "execution_count": 36,
   "metadata": {},
   "outputs": [
    {
     "data": {
      "text/plain": [
       "StoreCode          0.00000\n",
       "StoreName          0.00000\n",
       "StoreType          0.00000\n",
       "Location           0.00000\n",
       "OperatingCost      0.00000\n",
       "Staff_Cnt          0.00000\n",
       "TotalSales         0.00000\n",
       "Total_Customers    0.00000\n",
       "AcqCostPercust     0.09375\n",
       "BasketSize         0.00000\n",
       "ProfitPercust      0.00000\n",
       "OwnStore           0.00000\n",
       "OnlinePresence     0.00000\n",
       "Tenure             0.00000\n",
       "StoreSegment       0.00000\n",
       "dtype: float64"
      ]
     },
     "execution_count": 36,
     "metadata": {},
     "output_type": "execute_result"
    }
   ],
   "source": [
    "stores.isna().sum() / stores.shape[0]"
   ]
  },
  {
   "cell_type": "code",
   "execution_count": 58,
   "metadata": {},
   "outputs": [],
   "source": [
    "import numpy as np"
   ]
  },
  {
   "cell_type": "code",
   "execution_count": 59,
   "metadata": {},
   "outputs": [],
   "source": [
    "# stores.iloc[0, 4] = np.NaN"
   ]
  },
  {
   "cell_type": "code",
   "execution_count": 63,
   "metadata": {},
   "outputs": [
    {
     "data": {
      "text/html": [
       "<div>\n",
       "<style scoped>\n",
       "    .dataframe tbody tr th:only-of-type {\n",
       "        vertical-align: middle;\n",
       "    }\n",
       "\n",
       "    .dataframe tbody tr th {\n",
       "        vertical-align: top;\n",
       "    }\n",
       "\n",
       "    .dataframe thead th {\n",
       "        text-align: right;\n",
       "    }\n",
       "</style>\n",
       "<table border=\"1\" class=\"dataframe\">\n",
       "  <thead>\n",
       "    <tr style=\"text-align: right;\">\n",
       "      <th></th>\n",
       "      <th>StoreCode</th>\n",
       "      <th>StoreName</th>\n",
       "      <th>StoreType</th>\n",
       "      <th>Location</th>\n",
       "      <th>OperatingCost</th>\n",
       "      <th>Staff_Cnt</th>\n",
       "      <th>TotalSales</th>\n",
       "      <th>Total_Customers</th>\n",
       "      <th>AcqCostPercust</th>\n",
       "      <th>BasketSize</th>\n",
       "      <th>ProfitPercust</th>\n",
       "      <th>OwnStore</th>\n",
       "      <th>OnlinePresence</th>\n",
       "      <th>Tenure</th>\n",
       "      <th>StoreSegment</th>\n",
       "    </tr>\n",
       "  </thead>\n",
       "  <tbody>\n",
       "    <tr>\n",
       "      <th>1</th>\n",
       "      <td>STR102</td>\n",
       "      <td>Apparel Zone</td>\n",
       "      <td>Apparel</td>\n",
       "      <td>Delhi</td>\n",
       "      <td>21.0</td>\n",
       "      <td>60</td>\n",
       "      <td>160.0</td>\n",
       "      <td>110</td>\n",
       "      <td>3.90</td>\n",
       "      <td>2.875</td>\n",
       "      <td>17.02</td>\n",
       "      <td>0</td>\n",
       "      <td>1</td>\n",
       "      <td>4</td>\n",
       "      <td>4</td>\n",
       "    </tr>\n",
       "    <tr>\n",
       "      <th>2</th>\n",
       "      <td>STR103</td>\n",
       "      <td>Super Bazar</td>\n",
       "      <td>Super Market</td>\n",
       "      <td>Delhi</td>\n",
       "      <td>22.8</td>\n",
       "      <td>40</td>\n",
       "      <td>108.0</td>\n",
       "      <td>93</td>\n",
       "      <td>3.85</td>\n",
       "      <td>2.320</td>\n",
       "      <td>18.61</td>\n",
       "      <td>1</td>\n",
       "      <td>1</td>\n",
       "      <td>4</td>\n",
       "      <td>1</td>\n",
       "    </tr>\n",
       "  </tbody>\n",
       "</table>\n",
       "</div>"
      ],
      "text/plain": [
       "  StoreCode     StoreName     StoreType Location  OperatingCost  Staff_Cnt  \\\n",
       "1    STR102  Apparel Zone       Apparel    Delhi           21.0         60   \n",
       "2    STR103   Super Bazar  Super Market    Delhi           22.8         40   \n",
       "\n",
       "   TotalSales  Total_Customers  AcqCostPercust  BasketSize  ProfitPercust  \\\n",
       "1       160.0              110            3.90       2.875          17.02   \n",
       "2       108.0               93            3.85       2.320          18.61   \n",
       "\n",
       "   OwnStore  OnlinePresence  Tenure  StoreSegment  \n",
       "1         0               1       4             4  \n",
       "2         1               1       4             1  "
      ]
     },
     "execution_count": 63,
     "metadata": {},
     "output_type": "execute_result"
    }
   ],
   "source": [
    "stores.dropna( axis = 0, subset = ['OperatingCost'] ).head(2)"
   ]
  },
  {
   "cell_type": "code",
   "execution_count": 64,
   "metadata": {},
   "outputs": [
    {
     "data": {
      "text/html": [
       "<div>\n",
       "<style scoped>\n",
       "    .dataframe tbody tr th:only-of-type {\n",
       "        vertical-align: middle;\n",
       "    }\n",
       "\n",
       "    .dataframe tbody tr th {\n",
       "        vertical-align: top;\n",
       "    }\n",
       "\n",
       "    .dataframe thead th {\n",
       "        text-align: right;\n",
       "    }\n",
       "</style>\n",
       "<table border=\"1\" class=\"dataframe\">\n",
       "  <thead>\n",
       "    <tr style=\"text-align: right;\">\n",
       "      <th></th>\n",
       "      <th>StoreCode</th>\n",
       "      <th>StoreName</th>\n",
       "      <th>StoreType</th>\n",
       "      <th>Location</th>\n",
       "      <th>OperatingCost</th>\n",
       "      <th>Staff_Cnt</th>\n",
       "      <th>TotalSales</th>\n",
       "      <th>Total_Customers</th>\n",
       "      <th>AcqCostPercust</th>\n",
       "      <th>BasketSize</th>\n",
       "      <th>ProfitPercust</th>\n",
       "      <th>OwnStore</th>\n",
       "      <th>OnlinePresence</th>\n",
       "      <th>Tenure</th>\n",
       "      <th>StoreSegment</th>\n",
       "    </tr>\n",
       "  </thead>\n",
       "  <tbody>\n",
       "    <tr>\n",
       "      <th>0</th>\n",
       "      <td>STR101</td>\n",
       "      <td>Electronics Zone</td>\n",
       "      <td>Electronincs</td>\n",
       "      <td>Delhi</td>\n",
       "      <td>NaN</td>\n",
       "      <td>60</td>\n",
       "      <td>160.0</td>\n",
       "      <td>110</td>\n",
       "      <td>3.9</td>\n",
       "      <td>2.620</td>\n",
       "      <td>16.46</td>\n",
       "      <td>0</td>\n",
       "      <td>1</td>\n",
       "      <td>4</td>\n",
       "      <td>4</td>\n",
       "    </tr>\n",
       "    <tr>\n",
       "      <th>1</th>\n",
       "      <td>STR102</td>\n",
       "      <td>Apparel Zone</td>\n",
       "      <td>Apparel</td>\n",
       "      <td>Delhi</td>\n",
       "      <td>21.0</td>\n",
       "      <td>60</td>\n",
       "      <td>160.0</td>\n",
       "      <td>110</td>\n",
       "      <td>3.9</td>\n",
       "      <td>2.875</td>\n",
       "      <td>17.02</td>\n",
       "      <td>0</td>\n",
       "      <td>1</td>\n",
       "      <td>4</td>\n",
       "      <td>4</td>\n",
       "    </tr>\n",
       "  </tbody>\n",
       "</table>\n",
       "</div>"
      ],
      "text/plain": [
       "  StoreCode         StoreName     StoreType Location  OperatingCost  \\\n",
       "0    STR101  Electronics Zone  Electronincs    Delhi            NaN   \n",
       "1    STR102      Apparel Zone       Apparel    Delhi           21.0   \n",
       "\n",
       "   Staff_Cnt  TotalSales  Total_Customers  AcqCostPercust  BasketSize  \\\n",
       "0         60       160.0              110             3.9       2.620   \n",
       "1         60       160.0              110             3.9       2.875   \n",
       "\n",
       "   ProfitPercust  OwnStore  OnlinePresence  Tenure  StoreSegment  \n",
       "0          16.46         0               1       4             4  \n",
       "1          17.02         0               1       4             4  "
      ]
     },
     "execution_count": 64,
     "metadata": {},
     "output_type": "execute_result"
    }
   ],
   "source": [
    "stores.dropna( axis = 0, subset = ['Location', 'AcqCostPercust'] ).head(2)"
   ]
  },
  {
   "cell_type": "code",
   "execution_count": null,
   "metadata": {},
   "outputs": [],
   "source": [
    "stores.AcqCostPercust.fillna( 10 ) # static value\n",
    "\n",
    "stores.AcqCostPercust.fillna( stores.AcqCostPercust.mean() ) # mean value"
   ]
  },
  {
   "cell_type": "markdown",
   "metadata": {},
   "source": [
    "### Summaries"
   ]
  },
  {
   "cell_type": "code",
   "execution_count": null,
   "metadata": {},
   "outputs": [],
   "source": [
    ".groupby()\n",
    ".sum(), .mean()...., .agg([]), agg({})\n",
    ".reset_index( drop = False )\n",
    ".pivot( index = , columns = , values = )\n",
    "\n",
    ".pivot_table( index = , columns = , values = , aggfunc = )\n",
    "\n",
    "pd.crosstab( index = , columns = , values = , aggfunc = )"
   ]
  },
  {
   "cell_type": "code",
   "execution_count": 73,
   "metadata": {},
   "outputs": [
    {
     "data": {
      "text/plain": [
       "Location\n",
       "Chennai    2235.4\n",
       "Delhi      1777.7\n",
       "Kolkata    1612.4\n",
       "Mumbai     1757.6\n",
       "Name: TotalSales, dtype: float64"
      ]
     },
     "execution_count": 73,
     "metadata": {},
     "output_type": "execute_result"
    }
   ],
   "source": [
    "# get the total sales for each location\n",
    "stores.groupby( 'Location' )['TotalSales'].sum()\n",
    "\n",
    "# stores.groupby( 'Location' ).TotalSales.sum()"
   ]
  },
  {
   "cell_type": "code",
   "execution_count": 74,
   "metadata": {},
   "outputs": [
    {
     "data": {
      "text/html": [
       "<div>\n",
       "<style scoped>\n",
       "    .dataframe tbody tr th:only-of-type {\n",
       "        vertical-align: middle;\n",
       "    }\n",
       "\n",
       "    .dataframe tbody tr th {\n",
       "        vertical-align: top;\n",
       "    }\n",
       "\n",
       "    .dataframe thead th {\n",
       "        text-align: right;\n",
       "    }\n",
       "</style>\n",
       "<table border=\"1\" class=\"dataframe\">\n",
       "  <thead>\n",
       "    <tr style=\"text-align: right;\">\n",
       "      <th></th>\n",
       "      <th>TotalSales</th>\n",
       "      <th>OperatingCost</th>\n",
       "    </tr>\n",
       "    <tr>\n",
       "      <th>Location</th>\n",
       "      <th></th>\n",
       "      <th></th>\n",
       "    </tr>\n",
       "  </thead>\n",
       "  <tbody>\n",
       "    <tr>\n",
       "      <th>Chennai</th>\n",
       "      <td>2235.4</td>\n",
       "      <td>129.5</td>\n",
       "    </tr>\n",
       "    <tr>\n",
       "      <th>Delhi</th>\n",
       "      <td>1777.7</td>\n",
       "      <td>140.7</td>\n",
       "    </tr>\n",
       "    <tr>\n",
       "      <th>Kolkata</th>\n",
       "      <td>1612.4</td>\n",
       "      <td>174.8</td>\n",
       "    </tr>\n",
       "    <tr>\n",
       "      <th>Mumbai</th>\n",
       "      <td>1757.6</td>\n",
       "      <td>176.9</td>\n",
       "    </tr>\n",
       "  </tbody>\n",
       "</table>\n",
       "</div>"
      ],
      "text/plain": [
       "          TotalSales  OperatingCost\n",
       "Location                           \n",
       "Chennai       2235.4          129.5\n",
       "Delhi         1777.7          140.7\n",
       "Kolkata       1612.4          174.8\n",
       "Mumbai        1757.6          176.9"
      ]
     },
     "execution_count": 74,
     "metadata": {},
     "output_type": "execute_result"
    }
   ],
   "source": [
    "# get the total sales and operating cost for each location\n",
    "stores.groupby( 'Location' )[['TotalSales', 'OperatingCost']].sum()"
   ]
  },
  {
   "cell_type": "code",
   "execution_count": 82,
   "metadata": {},
   "outputs": [
    {
     "data": {
      "text/html": [
       "<div>\n",
       "<style scoped>\n",
       "    .dataframe tbody tr th:only-of-type {\n",
       "        vertical-align: middle;\n",
       "    }\n",
       "\n",
       "    .dataframe tbody tr th {\n",
       "        vertical-align: top;\n",
       "    }\n",
       "\n",
       "    .dataframe thead th {\n",
       "        text-align: right;\n",
       "    }\n",
       "</style>\n",
       "<table border=\"1\" class=\"dataframe\">\n",
       "  <thead>\n",
       "    <tr style=\"text-align: right;\">\n",
       "      <th></th>\n",
       "      <th>sum</th>\n",
       "      <th>mean</th>\n",
       "    </tr>\n",
       "    <tr>\n",
       "      <th>Location</th>\n",
       "      <th></th>\n",
       "      <th></th>\n",
       "    </tr>\n",
       "  </thead>\n",
       "  <tbody>\n",
       "    <tr>\n",
       "      <th>Chennai</th>\n",
       "      <td>2235.4</td>\n",
       "      <td>279.4250</td>\n",
       "    </tr>\n",
       "    <tr>\n",
       "      <th>Delhi</th>\n",
       "      <td>1777.7</td>\n",
       "      <td>222.2125</td>\n",
       "    </tr>\n",
       "    <tr>\n",
       "      <th>Kolkata</th>\n",
       "      <td>1612.4</td>\n",
       "      <td>201.5500</td>\n",
       "    </tr>\n",
       "    <tr>\n",
       "      <th>Mumbai</th>\n",
       "      <td>1757.6</td>\n",
       "      <td>219.7000</td>\n",
       "    </tr>\n",
       "  </tbody>\n",
       "</table>\n",
       "</div>"
      ],
      "text/plain": [
       "             sum      mean\n",
       "Location                  \n",
       "Chennai   2235.4  279.4250\n",
       "Delhi     1777.7  222.2125\n",
       "Kolkata   1612.4  201.5500\n",
       "Mumbai    1757.6  219.7000"
      ]
     },
     "execution_count": 82,
     "metadata": {},
     "output_type": "execute_result"
    }
   ],
   "source": [
    "# get the total and average sales for each location\n",
    "stores.groupby('Location').TotalSales.agg(['sum', 'mean'])"
   ]
  },
  {
   "cell_type": "code",
   "execution_count": 84,
   "metadata": {},
   "outputs": [
    {
     "data": {
      "text/html": [
       "<div>\n",
       "<style scoped>\n",
       "    .dataframe tbody tr th:only-of-type {\n",
       "        vertical-align: middle;\n",
       "    }\n",
       "\n",
       "    .dataframe tbody tr th {\n",
       "        vertical-align: top;\n",
       "    }\n",
       "\n",
       "    .dataframe thead tr th {\n",
       "        text-align: left;\n",
       "    }\n",
       "\n",
       "    .dataframe thead tr:last-of-type th {\n",
       "        text-align: right;\n",
       "    }\n",
       "</style>\n",
       "<table border=\"1\" class=\"dataframe\">\n",
       "  <thead>\n",
       "    <tr>\n",
       "      <th></th>\n",
       "      <th colspan=\"2\" halign=\"left\">TotalSales</th>\n",
       "      <th>OperatingCost</th>\n",
       "    </tr>\n",
       "    <tr>\n",
       "      <th></th>\n",
       "      <th>sum</th>\n",
       "      <th>mean</th>\n",
       "      <th>mean</th>\n",
       "    </tr>\n",
       "    <tr>\n",
       "      <th>Location</th>\n",
       "      <th></th>\n",
       "      <th></th>\n",
       "      <th></th>\n",
       "    </tr>\n",
       "  </thead>\n",
       "  <tbody>\n",
       "    <tr>\n",
       "      <th>Chennai</th>\n",
       "      <td>2235.4</td>\n",
       "      <td>279.4250</td>\n",
       "      <td>16.1875</td>\n",
       "    </tr>\n",
       "    <tr>\n",
       "      <th>Delhi</th>\n",
       "      <td>1777.7</td>\n",
       "      <td>222.2125</td>\n",
       "      <td>20.1000</td>\n",
       "    </tr>\n",
       "    <tr>\n",
       "      <th>Kolkata</th>\n",
       "      <td>1612.4</td>\n",
       "      <td>201.5500</td>\n",
       "      <td>21.8500</td>\n",
       "    </tr>\n",
       "    <tr>\n",
       "      <th>Mumbai</th>\n",
       "      <td>1757.6</td>\n",
       "      <td>219.7000</td>\n",
       "      <td>22.1125</td>\n",
       "    </tr>\n",
       "  </tbody>\n",
       "</table>\n",
       "</div>"
      ],
      "text/plain": [
       "         TotalSales           OperatingCost\n",
       "                sum      mean          mean\n",
       "Location                                   \n",
       "Chennai      2235.4  279.4250       16.1875\n",
       "Delhi        1777.7  222.2125       20.1000\n",
       "Kolkata      1612.4  201.5500       21.8500\n",
       "Mumbai       1757.6  219.7000       22.1125"
      ]
     },
     "execution_count": 84,
     "metadata": {},
     "output_type": "execute_result"
    }
   ],
   "source": [
    "# get the total Sales and average OperatingCost for each location\n",
    "stores.groupby('Location')[['TotalSales', \n",
    "            'OperatingCost']].agg({'TotalSales': [np.sum, np.mean], 'OperatingCost': np.mean})"
   ]
  },
  {
   "cell_type": "code",
   "execution_count": 92,
   "metadata": {},
   "outputs": [],
   "source": [
    "stores.reset_index?"
   ]
  },
  {
   "cell_type": "code",
   "execution_count": 99,
   "metadata": {},
   "outputs": [],
   "source": [
    "# get the total sales for each Location and StoreType\n",
    "summ = stores.groupby(['Location','StoreType']).TotalSales.sum().reset_index( drop = False )"
   ]
  },
  {
   "cell_type": "code",
   "execution_count": 103,
   "metadata": {},
   "outputs": [
    {
     "data": {
      "text/html": [
       "<div>\n",
       "<style scoped>\n",
       "    .dataframe tbody tr th:only-of-type {\n",
       "        vertical-align: middle;\n",
       "    }\n",
       "\n",
       "    .dataframe tbody tr th {\n",
       "        vertical-align: top;\n",
       "    }\n",
       "\n",
       "    .dataframe thead th {\n",
       "        text-align: right;\n",
       "    }\n",
       "</style>\n",
       "<table border=\"1\" class=\"dataframe\">\n",
       "  <thead>\n",
       "    <tr style=\"text-align: right;\">\n",
       "      <th>StoreType</th>\n",
       "      <th>Apparel</th>\n",
       "      <th>Electronincs</th>\n",
       "      <th>Super Market</th>\n",
       "    </tr>\n",
       "    <tr>\n",
       "      <th>Location</th>\n",
       "      <th></th>\n",
       "      <th></th>\n",
       "      <th></th>\n",
       "    </tr>\n",
       "  </thead>\n",
       "  <tbody>\n",
       "    <tr>\n",
       "      <th>Chennai</th>\n",
       "      <td>915.4</td>\n",
       "      <td>600.8</td>\n",
       "      <td>719.2</td>\n",
       "    </tr>\n",
       "    <tr>\n",
       "      <th>Delhi</th>\n",
       "      <td>745.0</td>\n",
       "      <td>306.7</td>\n",
       "      <td>726.0</td>\n",
       "    </tr>\n",
       "    <tr>\n",
       "      <th>Kolkata</th>\n",
       "      <td>525.0</td>\n",
       "      <td>521.0</td>\n",
       "      <td>566.4</td>\n",
       "    </tr>\n",
       "    <tr>\n",
       "      <th>Mumbai</th>\n",
       "      <td>700.7</td>\n",
       "      <td>790.0</td>\n",
       "      <td>266.9</td>\n",
       "    </tr>\n",
       "  </tbody>\n",
       "</table>\n",
       "</div>"
      ],
      "text/plain": [
       "StoreType  Apparel  Electronincs  Super Market\n",
       "Location                                      \n",
       "Chennai      915.4         600.8         719.2\n",
       "Delhi        745.0         306.7         726.0\n",
       "Kolkata      525.0         521.0         566.4\n",
       "Mumbai       700.7         790.0         266.9"
      ]
     },
     "execution_count": 103,
     "metadata": {},
     "output_type": "execute_result"
    }
   ],
   "source": [
    "summ.pivot( index = 'Location', columns = 'StoreType', values = 'TotalSales' )"
   ]
  },
  {
   "cell_type": "code",
   "execution_count": 104,
   "metadata": {},
   "outputs": [
    {
     "data": {
      "text/html": [
       "<div>\n",
       "<style scoped>\n",
       "    .dataframe tbody tr th:only-of-type {\n",
       "        vertical-align: middle;\n",
       "    }\n",
       "\n",
       "    .dataframe tbody tr th {\n",
       "        vertical-align: top;\n",
       "    }\n",
       "\n",
       "    .dataframe thead th {\n",
       "        text-align: right;\n",
       "    }\n",
       "</style>\n",
       "<table border=\"1\" class=\"dataframe\">\n",
       "  <thead>\n",
       "    <tr style=\"text-align: right;\">\n",
       "      <th>StoreType</th>\n",
       "      <th>Apparel</th>\n",
       "      <th>Electronincs</th>\n",
       "      <th>Super Market</th>\n",
       "    </tr>\n",
       "    <tr>\n",
       "      <th>Location</th>\n",
       "      <th></th>\n",
       "      <th></th>\n",
       "      <th></th>\n",
       "    </tr>\n",
       "  </thead>\n",
       "  <tbody>\n",
       "    <tr>\n",
       "      <th>Chennai</th>\n",
       "      <td>915.4</td>\n",
       "      <td>600.8</td>\n",
       "      <td>719.2</td>\n",
       "    </tr>\n",
       "    <tr>\n",
       "      <th>Delhi</th>\n",
       "      <td>745.0</td>\n",
       "      <td>306.7</td>\n",
       "      <td>726.0</td>\n",
       "    </tr>\n",
       "    <tr>\n",
       "      <th>Kolkata</th>\n",
       "      <td>525.0</td>\n",
       "      <td>521.0</td>\n",
       "      <td>566.4</td>\n",
       "    </tr>\n",
       "    <tr>\n",
       "      <th>Mumbai</th>\n",
       "      <td>700.7</td>\n",
       "      <td>790.0</td>\n",
       "      <td>266.9</td>\n",
       "    </tr>\n",
       "  </tbody>\n",
       "</table>\n",
       "</div>"
      ],
      "text/plain": [
       "StoreType  Apparel  Electronincs  Super Market\n",
       "Location                                      \n",
       "Chennai      915.4         600.8         719.2\n",
       "Delhi        745.0         306.7         726.0\n",
       "Kolkata      525.0         521.0         566.4\n",
       "Mumbai       700.7         790.0         266.9"
      ]
     },
     "execution_count": 104,
     "metadata": {},
     "output_type": "execute_result"
    }
   ],
   "source": [
    "stores.pivot_table( index = 'Location', columns = 'StoreType', values = 'TotalSales', aggfunc = 'sum')"
   ]
  },
  {
   "cell_type": "code",
   "execution_count": 113,
   "metadata": {},
   "outputs": [
    {
     "data": {
      "text/html": [
       "<div>\n",
       "<style scoped>\n",
       "    .dataframe tbody tr th:only-of-type {\n",
       "        vertical-align: middle;\n",
       "    }\n",
       "\n",
       "    .dataframe tbody tr th {\n",
       "        vertical-align: top;\n",
       "    }\n",
       "\n",
       "    .dataframe thead tr th {\n",
       "        text-align: left;\n",
       "    }\n",
       "</style>\n",
       "<table border=\"1\" class=\"dataframe\">\n",
       "  <thead>\n",
       "    <tr>\n",
       "      <th></th>\n",
       "      <th>Location</th>\n",
       "      <th>StoreType</th>\n",
       "      <th colspan=\"2\" halign=\"left\">sum</th>\n",
       "      <th colspan=\"2\" halign=\"left\">mean</th>\n",
       "    </tr>\n",
       "    <tr>\n",
       "      <th></th>\n",
       "      <th></th>\n",
       "      <th></th>\n",
       "      <th>OperatingCost</th>\n",
       "      <th>TotalSales</th>\n",
       "      <th>OperatingCost</th>\n",
       "      <th>TotalSales</th>\n",
       "    </tr>\n",
       "  </thead>\n",
       "  <tbody>\n",
       "    <tr>\n",
       "      <th>0</th>\n",
       "      <td>Chennai</td>\n",
       "      <td>Apparel</td>\n",
       "      <td>44.8</td>\n",
       "      <td>915.4</td>\n",
       "      <td>14.933333</td>\n",
       "      <td>305.133333</td>\n",
       "    </tr>\n",
       "    <tr>\n",
       "      <th>1</th>\n",
       "      <td>Chennai</td>\n",
       "      <td>Electronincs</td>\n",
       "      <td>33.2</td>\n",
       "      <td>600.8</td>\n",
       "      <td>16.600000</td>\n",
       "      <td>300.400000</td>\n",
       "    </tr>\n",
       "    <tr>\n",
       "      <th>2</th>\n",
       "      <td>Chennai</td>\n",
       "      <td>Super Market</td>\n",
       "      <td>51.5</td>\n",
       "      <td>719.2</td>\n",
       "      <td>17.166667</td>\n",
       "      <td>239.733333</td>\n",
       "    </tr>\n",
       "    <tr>\n",
       "      <th>3</th>\n",
       "      <td>Delhi</td>\n",
       "      <td>Apparel</td>\n",
       "      <td>53.4</td>\n",
       "      <td>745.0</td>\n",
       "      <td>17.800000</td>\n",
       "      <td>248.333333</td>\n",
       "    </tr>\n",
       "    <tr>\n",
       "      <th>4</th>\n",
       "      <td>Delhi</td>\n",
       "      <td>Electronincs</td>\n",
       "      <td>24.4</td>\n",
       "      <td>306.7</td>\n",
       "      <td>24.400000</td>\n",
       "      <td>153.350000</td>\n",
       "    </tr>\n",
       "    <tr>\n",
       "      <th>5</th>\n",
       "      <td>Delhi</td>\n",
       "      <td>Super Market</td>\n",
       "      <td>62.9</td>\n",
       "      <td>726.0</td>\n",
       "      <td>20.966667</td>\n",
       "      <td>242.000000</td>\n",
       "    </tr>\n",
       "    <tr>\n",
       "      <th>6</th>\n",
       "      <td>Kolkata</td>\n",
       "      <td>Apparel</td>\n",
       "      <td>62.0</td>\n",
       "      <td>525.0</td>\n",
       "      <td>20.666667</td>\n",
       "      <td>175.000000</td>\n",
       "    </tr>\n",
       "    <tr>\n",
       "      <th>7</th>\n",
       "      <td>Kolkata</td>\n",
       "      <td>Electronincs</td>\n",
       "      <td>40.6</td>\n",
       "      <td>521.0</td>\n",
       "      <td>20.300000</td>\n",
       "      <td>260.500000</td>\n",
       "    </tr>\n",
       "    <tr>\n",
       "      <th>8</th>\n",
       "      <td>Kolkata</td>\n",
       "      <td>Super Market</td>\n",
       "      <td>72.2</td>\n",
       "      <td>566.4</td>\n",
       "      <td>24.066667</td>\n",
       "      <td>188.800000</td>\n",
       "    </tr>\n",
       "    <tr>\n",
       "      <th>9</th>\n",
       "      <td>Mumbai</td>\n",
       "      <td>Apparel</td>\n",
       "      <td>63.1</td>\n",
       "      <td>700.7</td>\n",
       "      <td>21.033333</td>\n",
       "      <td>233.566667</td>\n",
       "    </tr>\n",
       "    <tr>\n",
       "      <th>10</th>\n",
       "      <td>Mumbai</td>\n",
       "      <td>Electronincs</td>\n",
       "      <td>28.0</td>\n",
       "      <td>790.0</td>\n",
       "      <td>14.000000</td>\n",
       "      <td>395.000000</td>\n",
       "    </tr>\n",
       "    <tr>\n",
       "      <th>11</th>\n",
       "      <td>Mumbai</td>\n",
       "      <td>Super Market</td>\n",
       "      <td>85.8</td>\n",
       "      <td>266.9</td>\n",
       "      <td>28.600000</td>\n",
       "      <td>88.966667</td>\n",
       "    </tr>\n",
       "  </tbody>\n",
       "</table>\n",
       "</div>"
      ],
      "text/plain": [
       "   Location     StoreType           sum                     mean            \n",
       "                          OperatingCost TotalSales OperatingCost  TotalSales\n",
       "0   Chennai       Apparel          44.8      915.4     14.933333  305.133333\n",
       "1   Chennai  Electronincs          33.2      600.8     16.600000  300.400000\n",
       "2   Chennai  Super Market          51.5      719.2     17.166667  239.733333\n",
       "3     Delhi       Apparel          53.4      745.0     17.800000  248.333333\n",
       "4     Delhi  Electronincs          24.4      306.7     24.400000  153.350000\n",
       "5     Delhi  Super Market          62.9      726.0     20.966667  242.000000\n",
       "6   Kolkata       Apparel          62.0      525.0     20.666667  175.000000\n",
       "7   Kolkata  Electronincs          40.6      521.0     20.300000  260.500000\n",
       "8   Kolkata  Super Market          72.2      566.4     24.066667  188.800000\n",
       "9    Mumbai       Apparel          63.1      700.7     21.033333  233.566667\n",
       "10   Mumbai  Electronincs          28.0      790.0     14.000000  395.000000\n",
       "11   Mumbai  Super Market          85.8      266.9     28.600000   88.966667"
      ]
     },
     "execution_count": 113,
     "metadata": {},
     "output_type": "execute_result"
    }
   ],
   "source": [
    "stores.pivot_table( index = ['Location', 'StoreType'], values = ['TotalSales', 'OperatingCost'], \n",
    "                aggfunc = ['sum', 'mean']).reset_index()"
   ]
  },
  {
   "cell_type": "code",
   "execution_count": 110,
   "metadata": {},
   "outputs": [
    {
     "data": {
      "text/html": [
       "<div>\n",
       "<style scoped>\n",
       "    .dataframe tbody tr th:only-of-type {\n",
       "        vertical-align: middle;\n",
       "    }\n",
       "\n",
       "    .dataframe tbody tr th {\n",
       "        vertical-align: top;\n",
       "    }\n",
       "\n",
       "    .dataframe thead th {\n",
       "        text-align: right;\n",
       "    }\n",
       "</style>\n",
       "<table border=\"1\" class=\"dataframe\">\n",
       "  <thead>\n",
       "    <tr style=\"text-align: right;\">\n",
       "      <th>StoreType</th>\n",
       "      <th>Apparel</th>\n",
       "      <th>Electronincs</th>\n",
       "      <th>Super Market</th>\n",
       "    </tr>\n",
       "    <tr>\n",
       "      <th>Location</th>\n",
       "      <th></th>\n",
       "      <th></th>\n",
       "      <th></th>\n",
       "    </tr>\n",
       "  </thead>\n",
       "  <tbody>\n",
       "    <tr>\n",
       "      <th>Chennai</th>\n",
       "      <td>3</td>\n",
       "      <td>2</td>\n",
       "      <td>3</td>\n",
       "    </tr>\n",
       "    <tr>\n",
       "      <th>Delhi</th>\n",
       "      <td>3</td>\n",
       "      <td>2</td>\n",
       "      <td>3</td>\n",
       "    </tr>\n",
       "    <tr>\n",
       "      <th>Kolkata</th>\n",
       "      <td>3</td>\n",
       "      <td>2</td>\n",
       "      <td>3</td>\n",
       "    </tr>\n",
       "    <tr>\n",
       "      <th>Mumbai</th>\n",
       "      <td>3</td>\n",
       "      <td>2</td>\n",
       "      <td>3</td>\n",
       "    </tr>\n",
       "  </tbody>\n",
       "</table>\n",
       "</div>"
      ],
      "text/plain": [
       "StoreType  Apparel  Electronincs  Super Market\n",
       "Location                                      \n",
       "Chennai          3             2             3\n",
       "Delhi            3             2             3\n",
       "Kolkata          3             2             3\n",
       "Mumbai           3             2             3"
      ]
     },
     "execution_count": 110,
     "metadata": {},
     "output_type": "execute_result"
    }
   ],
   "source": [
    "pd.crosstab(index = stores.Location, columns = stores.StoreType, \n",
    "            values = stores.TotalSales, aggfunc = 'count' )"
   ]
  },
  {
   "cell_type": "code",
   "execution_count": 114,
   "metadata": {},
   "outputs": [
    {
     "data": {
      "text/plain": [
       "False"
      ]
     },
     "execution_count": 114,
     "metadata": {},
     "output_type": "execute_result"
    }
   ],
   "source": [
    "True and False"
   ]
  },
  {
   "cell_type": "code",
   "execution_count": 118,
   "metadata": {},
   "outputs": [
    {
     "data": {
      "text/plain": [
       "0     True\n",
       "1    False\n",
       "dtype: bool"
      ]
     },
     "execution_count": 118,
     "metadata": {},
     "output_type": "execute_result"
    }
   ],
   "source": [
    "pd.Series([True, False]) & pd.Series([True, True])"
   ]
  },
  {
   "cell_type": "code",
   "execution_count": 123,
   "metadata": {},
   "outputs": [
    {
     "data": {
      "text/html": [
       "<div>\n",
       "<style scoped>\n",
       "    .dataframe tbody tr th:only-of-type {\n",
       "        vertical-align: middle;\n",
       "    }\n",
       "\n",
       "    .dataframe tbody tr th {\n",
       "        vertical-align: top;\n",
       "    }\n",
       "\n",
       "    .dataframe thead th {\n",
       "        text-align: right;\n",
       "    }\n",
       "</style>\n",
       "<table border=\"1\" class=\"dataframe\">\n",
       "  <thead>\n",
       "    <tr style=\"text-align: right;\">\n",
       "      <th></th>\n",
       "      <th>StoreType</th>\n",
       "      <th>StoreCode</th>\n",
       "    </tr>\n",
       "  </thead>\n",
       "  <tbody>\n",
       "    <tr>\n",
       "      <th>0</th>\n",
       "      <td>Apparel</td>\n",
       "      <td>12</td>\n",
       "    </tr>\n",
       "    <tr>\n",
       "      <th>1</th>\n",
       "      <td>Electronincs</td>\n",
       "      <td>8</td>\n",
       "    </tr>\n",
       "    <tr>\n",
       "      <th>2</th>\n",
       "      <td>Super Market</td>\n",
       "      <td>12</td>\n",
       "    </tr>\n",
       "  </tbody>\n",
       "</table>\n",
       "</div>"
      ],
      "text/plain": [
       "      StoreType  StoreCode\n",
       "0       Apparel         12\n",
       "1  Electronincs          8\n",
       "2  Super Market         12"
      ]
     },
     "execution_count": 123,
     "metadata": {},
     "output_type": "execute_result"
    }
   ],
   "source": [
    "# get the total records for each store type\n",
    "stores.groupby('StoreType').StoreCode.agg('count').reset_index()"
   ]
  },
  {
   "cell_type": "code",
   "execution_count": 122,
   "metadata": {},
   "outputs": [
    {
     "data": {
      "text/html": [
       "<div>\n",
       "<style scoped>\n",
       "    .dataframe tbody tr th:only-of-type {\n",
       "        vertical-align: middle;\n",
       "    }\n",
       "\n",
       "    .dataframe tbody tr th {\n",
       "        vertical-align: top;\n",
       "    }\n",
       "\n",
       "    .dataframe thead th {\n",
       "        text-align: right;\n",
       "    }\n",
       "</style>\n",
       "<table border=\"1\" class=\"dataframe\">\n",
       "  <thead>\n",
       "    <tr style=\"text-align: right;\">\n",
       "      <th></th>\n",
       "      <th>StoreType</th>\n",
       "      <th>StoreCode</th>\n",
       "    </tr>\n",
       "  </thead>\n",
       "  <tbody>\n",
       "    <tr>\n",
       "      <th>0</th>\n",
       "      <td>Apparel</td>\n",
       "      <td>12</td>\n",
       "    </tr>\n",
       "    <tr>\n",
       "      <th>1</th>\n",
       "      <td>Electronincs</td>\n",
       "      <td>8</td>\n",
       "    </tr>\n",
       "    <tr>\n",
       "      <th>2</th>\n",
       "      <td>Super Market</td>\n",
       "      <td>12</td>\n",
       "    </tr>\n",
       "  </tbody>\n",
       "</table>\n",
       "</div>"
      ],
      "text/plain": [
       "      StoreType  StoreCode\n",
       "0       Apparel         12\n",
       "1  Electronincs          8\n",
       "2  Super Market         12"
      ]
     },
     "execution_count": 122,
     "metadata": {},
     "output_type": "execute_result"
    }
   ],
   "source": [
    "stores.pivot_table( index = 'StoreType', values = 'StoreCode', aggfunc = 'count' ).reset_index()"
   ]
  },
  {
   "cell_type": "code",
   "execution_count": null,
   "metadata": {},
   "outputs": [],
   "source": []
  }
 ],
 "metadata": {
  "kernelspec": {
   "display_name": "Python 3",
   "language": "python",
   "name": "python3"
  },
  "language_info": {
   "codemirror_mode": {
    "name": "ipython",
    "version": 3
   },
   "file_extension": ".py",
   "mimetype": "text/x-python",
   "name": "python",
   "nbconvert_exporter": "python",
   "pygments_lexer": "ipython3",
   "version": "3.7.6"
  }
 },
 "nbformat": 4,
 "nbformat_minor": 4
}
